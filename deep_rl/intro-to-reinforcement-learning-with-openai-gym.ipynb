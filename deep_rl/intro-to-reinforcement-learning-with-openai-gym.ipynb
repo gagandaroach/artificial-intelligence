{
 "cells": [
  {
   "cell_type": "markdown",
   "metadata": {
    "_uuid": "3c4f5211fc0d2e74b0d6aabe9fa8e07164ee07c5"
   },
   "source": [
    "### **Introduction to Reinforcement Learning with Taxi V2 OpenAI Gym**\n",
    "\n",
    "We shall use the Taxi V2 Open AI gym library. \n",
    "The Documentation can be found at: https://github.com/openai/gym/blob/master/gym/envs/toy_text/taxi.py"
   ]
  },
  {
   "cell_type": "code",
   "execution_count": 1,
   "metadata": {
    "_uuid": "0f45fbd74eba00eef91dfbb511f73ab06dbc667d"
   },
   "outputs": [
    {
     "name": "stderr",
     "output_type": "stream",
     "text": [
      "Using TensorFlow backend.\n"
     ]
    }
   ],
   "source": [
    "import gym # openAi gym\n",
    "from gym import envs\n",
    "import numpy as np \n",
    "import datetime\n",
    "import keras \n",
    "import matplotlib.pyplot as plt\n",
    "import seaborn as sns\n",
    "%matplotlib inline\n",
    "import pandas as pd \n",
    "from time import sleep\n",
    "\n",
    "from rl.agents.dqn import DQNAgent\n",
    "from rl.policy import LinearAnnealedPolicy, BoltzmannQPolicy, EpsGreedyQPolicy\n",
    "from rl.memory import SequentialMemory\n",
    "from rl.core import Processor\n",
    "from rl.callbacks import FileLogger, ModelIntervalCheckpoint\n",
    "import warnings\n",
    "warnings.filterwarnings('ignore')"
   ]
  },
  {
   "cell_type": "markdown",
   "metadata": {
    "_uuid": "5f62ddd2db99429cd125112bda541723c858f419"
   },
   "source": [
    "# **1. Intro to taxi game environment**\n",
    "\n",
    "The aim of the taxi game is to make sure the taxi can get to the passenger, pick him up and bring him to the drop-off location in the fastest way possible."
   ]
  },
  {
   "cell_type": "markdown",
   "metadata": {
    "_uuid": "8d0578768abc4cbf53c4a20d250ef8e39c99497c"
   },
   "source": [
    "**Representations**\n",
    "\n",
    "- | --> WALL (Can't pass through, will remain in the same position if tries to move through wall)\n",
    "\n",
    "- Yellow --> Taxi Current Location\n",
    "\n",
    "- Blue --> Pick up Location\n",
    "\n",
    "- Purple --> Drop-off Location\n",
    "\n",
    "- Green --> Taxi turn green once passenger board\n",
    "\n",
    "- Letters --> Locations\n"
   ]
  },
  {
   "cell_type": "code",
   "execution_count": 2,
   "metadata": {
    "_uuid": "b321b04f669571df210d6676265b9273d3017a9d"
   },
   "outputs": [
    {
     "name": "stdout",
     "output_type": "stream",
     "text": [
      "+---------+\n",
      "|\u001b[34;1mR\u001b[0m: | : :G|\n",
      "| : : : : |\n",
      "| : : : :\u001b[43m \u001b[0m|\n",
      "| | : | : |\n",
      "|\u001b[35mY\u001b[0m| : |B: |\n",
      "+---------+\n",
      "\n"
     ]
    }
   ],
   "source": [
    "env = gym.make('Taxi-v2')\n",
    "env.reset()\n",
    "env.render()"
   ]
  },
  {
   "cell_type": "markdown",
   "metadata": {
    "_uuid": "d85e4518e9981ab9ecb7beac0529864d55474393"
   },
   "source": [
    "Total Number of states in the environment = **500** (0 to 499)"
   ]
  },
  {
   "cell_type": "code",
   "execution_count": 3,
   "metadata": {
    "_uuid": "e0004dc2b02965be1f47ec64998578b91a1e819f"
   },
   "outputs": [
    {
     "data": {
      "text/plain": [
       "500"
      ]
     },
     "execution_count": 3,
     "metadata": {},
     "output_type": "execute_result"
    }
   ],
   "source": [
    "env.observation_space.n   #Total no. of states"
   ]
  },
  {
   "cell_type": "markdown",
   "metadata": {
    "_uuid": "ddf91afb34e02d9a3ca72442516b2c9ac09482b3"
   },
   "source": [
    "**Actions (6 in total)**\n",
    "\n",
    "- 0: move south\n",
    "- 1: move north\n",
    "- 2: move east \n",
    "- 3: move west \n",
    "- 4: pickup passenger\n",
    "- 5: dropoff passenger"
   ]
  },
  {
   "cell_type": "code",
   "execution_count": 4,
   "metadata": {
    "_uuid": "b3dfff01881abd8bc8c4fd6ade6199e0be8fd0fa"
   },
   "outputs": [
    {
     "data": {
      "text/plain": [
       "6"
      ]
     },
     "execution_count": 4,
     "metadata": {},
     "output_type": "execute_result"
    }
   ],
   "source": [
    "env.action_space.n   #Total no. of actions"
   ]
  },
  {
   "cell_type": "code",
   "execution_count": 5,
   "metadata": {
    "_uuid": "e4a0664e73e126d75e1139ed1a1f6e303704088a"
   },
   "outputs": [
    {
     "name": "stdout",
     "output_type": "stream",
     "text": [
      "+---------+\n",
      "|\u001b[34;1mR\u001b[0m: | : :G|\n",
      "| :\u001b[43m \u001b[0m: : : |\n",
      "| : : : : |\n",
      "| | : | : |\n",
      "|\u001b[35mY\u001b[0m| : |B: |\n",
      "+---------+\n",
      "\n"
     ]
    }
   ],
   "source": [
    "env.env.s = 122\n",
    "env.render()"
   ]
  },
  {
   "cell_type": "code",
   "execution_count": 6,
   "metadata": {
    "_uuid": "9d23b96ffb38b239dcc551d81ae3a6c211c3db73"
   },
   "outputs": [
    {
     "data": {
      "text/plain": [
       "(102, -1, False, {'prob': 1.0})"
      ]
     },
     "execution_count": 6,
     "metadata": {},
     "output_type": "execute_result"
    }
   ],
   "source": [
    "env.step(3)"
   ]
  },
  {
   "cell_type": "markdown",
   "metadata": {
    "_uuid": "201acf86a6308d8220cb1f474af31c8f64450ab9"
   },
   "source": [
    "Each timestep, the agent chooses an action, and the environment returns an observation and a reward.\n",
    "\n",
    "The 4 elements returned are:\n",
    "\n",
    "-  **Observation (object)**: the state the environment is in or an environment-specific object representing your observation of the environment.\n",
    "-  **Reward (float)**: Reward achieved by the previous action. \n",
    "    -  +20: Last step when we successfully pick up a passenger and drop them off at their desired location\n",
    "    -  -1: for each step in order for the agent to try and find the quickest solution possible\n",
    "    -  -10: every time you incorrectly pick up or drop off a passenger\n",
    "-  **Done (boolean)**: whether it’s time to reset the environment again. Most (but not all) tasks are divided up into well-defined episodes, and done being True indicates the episode has terminated. (For example, you lost your last life.)\n",
    "-  **Info (dict)**: Can be ignored, diagnostic information useful for debugging. Official evaluations of your agent are not allowed to use this for learning."
   ]
  },
  {
   "cell_type": "code",
   "execution_count": 7,
   "metadata": {
    "_uuid": "3ed8fa4353fb0bb7c2f831099d6d228c421829bf"
   },
   "outputs": [
    {
     "name": "stdout",
     "output_type": "stream",
     "text": [
      "+---------+\n",
      "|\u001b[34;1mR\u001b[0m: | : :G|\n",
      "|\u001b[43m \u001b[0m: : : : |\n",
      "| : : : : |\n",
      "| | : | : |\n",
      "|\u001b[35mY\u001b[0m| : |B: |\n",
      "+---------+\n",
      "  (West)\n"
     ]
    }
   ],
   "source": [
    "env.render()  #view state"
   ]
  },
  {
   "cell_type": "markdown",
   "metadata": {
    "_uuid": "4dca645ec054b91775aecd06acdde55c3450ce7e"
   },
   "source": [
    "The function (env.P) below can be used to see the relevant states and rewards for each action taken in that particular state."
   ]
  },
  {
   "cell_type": "code",
   "execution_count": 8,
   "metadata": {
    "_uuid": "0a45d784b8e8a22c54bed3a3f6f918021a721e1c"
   },
   "outputs": [
    {
     "data": {
      "text/plain": [
       "{0: [(1.0, 400, -1, False)],\n",
       " 1: [(1.0, 200, -1, False)],\n",
       " 2: [(1.0, 300, -1, False)],\n",
       " 3: [(1.0, 300, -1, False)],\n",
       " 4: [(1.0, 300, -10, False)],\n",
       " 5: [(1.0, 300, -10, False)]}"
      ]
     },
     "execution_count": 8,
     "metadata": {},
     "output_type": "execute_result"
    }
   ],
   "source": [
    "env.reset()\n",
    "env.env.P[300]"
   ]
  },
  {
   "cell_type": "markdown",
   "metadata": {
    "_uuid": "bd7f8693f05c30915cba7f0a712ea24b82035363"
   },
   "source": [
    "# **2. Random Search**\n",
    "Let's start with the simplest way to train our agent to complete this task. The agent would just take random steps at every state until he completes the task (picking the passenger and dropping him off at the drop-off location). "
   ]
  },
  {
   "cell_type": "code",
   "execution_count": 9,
   "metadata": {
    "_uuid": "bd8addbf5b06d604052757c34c35f803c280684a"
   },
   "outputs": [],
   "source": [
    "env = gym.make('Taxi-v2')\n",
    "random_policy = np.ones([env.env.nS, env.env.nA]) / env.env.nA\n",
    "def random_policy_steps_count():\n",
    "    state = env.reset()\n",
    "    counter = 0\n",
    "    reward = None\n",
    "    while reward != 20:\n",
    "        state, reward, done, info = env.step(env.action_space.sample())  \n",
    "        counter += 1\n",
    "    return counter\n"
   ]
  },
  {
   "cell_type": "code",
   "execution_count": 10,
   "metadata": {
    "_uuid": "2b64e536320cff64dc87c7c099e66bdecf766c18"
   },
   "outputs": [
    {
     "data": {
      "text/plain": [
       "Text(0.5, 1.0, 'Distribution of number of steps needed')"
      ]
     },
     "execution_count": 10,
     "metadata": {},
     "output_type": "execute_result"
    },
    {
     "data": {
      "image/png": "[encoded data removed]",
      "text/plain": [
       "<Figure size 432x288 with 1 Axes>"
      ]
     },
     "metadata": {
      "needs_background": "light"
     },
     "output_type": "display_data"
    }
   ],
   "source": [
    "counts = [random_policy_steps_count() for i in range(1000)]\n",
    "sns.distplot(counts)\n",
    "plt.title(\"Distribution of number of steps needed\")"
   ]
  },
  {
   "cell_type": "code",
   "execution_count": 11,
   "metadata": {
    "_uuid": "3eceba707f008db9e21a360dffe38da71ffa2f0c"
   },
   "outputs": [
    {
     "name": "stdout",
     "output_type": "stream",
     "text": [
      "An agent using Random search takes about an average of 2318 steps to successfully complete its mission.\n"
     ]
    }
   ],
   "source": [
    "print(\"An agent using Random search takes about an average of \" + str(int(np.mean(counts)))\n",
    "      + \" steps to successfully complete its mission.\")"
   ]
  },
  {
   "cell_type": "markdown",
   "metadata": {
    "_uuid": "89d733d85d462d668e7dafd27a5210e3fa95ecb8"
   },
   "source": [
    "Clearly, it is not the most efficient way to complete this. Let's try to use policy iteration and value iteration method to more effectively let our agent complete this task. "
   ]
  },
  {
   "cell_type": "markdown",
   "metadata": {
    "_uuid": "eed867980763903739024c63c58babae83661f3d"
   },
   "source": [
    "# **3. Policy Iteration/Value Iteration**\n",
    "\n",
    "**Policy Iteration** --> The algorithm redefines the policy at each step and improve the policy, and then compute the value according to this new policy until the policy converges.\n",
    "\n",
    "**Value Iteration** --> The algorithm computes the optimal state value function by iteratively improving the estimate of V(s). The algorithm initialize V(s) to arbitrary random values. It repeatedly updates the Q(s, a) and V(s) values until they converge. \n",
    "\n",
    "\n",
    "Policy iteration and Value Iteration are guranteed to convege to the optimal policy and it often takes less iterations for policy iteration to converge than the value-iteration algorithm.\n",
    "\n",
    "Both value-iteration and policy-iteration algorithms can be used for offline planning where the agent is assumed to have prior knowledge about the effects of its actions on the environment (they assume the Markov Decision model is known). Comparing to each other, policy-iteration is computationally efficient as it often takes considerably fewer number of iterations to converge although each iteration is more computationally expensive."
   ]
  },
  {
   "cell_type": "markdown",
   "metadata": {
    "_uuid": "71f05229183918a96cccc686710e5e48ef024cb2"
   },
   "source": [
    "**3.1 Functions for policy evaluation, policy iteration and value iteration.**"
   ]
  },
  {
   "cell_type": "code",
   "execution_count": 12,
   "metadata": {
    "_uuid": "a14285c0077a95ba7a24ec0b966916b86c406081"
   },
   "outputs": [],
   "source": [
    "def policy_eval(policy, env, discount_factor=1.0, theta=0.00001):\n",
    "    \"\"\"\n",
    "    Evaluate a policy given an environment and a full description of the environment's dynamics.\n",
    "    \n",
    "    Args:\n",
    "        policy: [S, A] shaped matrix representing the policy.\n",
    "        env: OpenAI env. env.P represents the transition probabilities of the environment.\n",
    "            env.P[s][a] is a list of transition tuples (prob, next_state, reward, done).\n",
    "            env.nS is a number of states in the environment. \n",
    "            env.nA is a number of actions in the environment.\n",
    "        theta: We stop evaluation once our value function change is less than theta for all states.\n",
    "        discount_factor: Gamma discount factor.\n",
    "    \n",
    "    Returns:\n",
    "        Vector of length env.nS representing the value function.\n",
    "    \"\"\"\n",
    "    # Start with a random (all 0) value function\n",
    "    V = np.zeros(env.env.nS)\n",
    "    while True:\n",
    "        # TODO: Implement!\n",
    "        delta = 0  #delta = change in value of state from one iteration to next\n",
    "       \n",
    "        for state in range(env.env.nS):  #for all states\n",
    "            val = 0  #initiate value as 0\n",
    "            \n",
    "            for action,act_prob in enumerate(policy[state]): #for all actions/action probabilities\n",
    "                for prob,next_state,reward,done in env.env.P[state][action]:  #transition probabilities,state,rewards of each action\n",
    "                    val += act_prob * prob * (reward + discount_factor * V[next_state])  #eqn to calculate\n",
    "            delta = max(delta, np.abs(val-V[state]))\n",
    "            V[state] = val\n",
    "        if delta < theta:  #break if the change in value is less than the threshold (theta)\n",
    "            break\n",
    "    return np.array(V)\n",
    "\n",
    "def policy_iteration(env, policy_eval_fn=policy_eval, discount_factor=1.0):\n",
    "    \"\"\"\n",
    "    Policy Improvement Algorithm. Iteratively evaluates and improves a policy\n",
    "    until an optimal policy is found.\n",
    "    \n",
    "    Args:\n",
    "        env: The OpenAI envrionment.\n",
    "        policy_eval_fn: Policy Evaluation function that takes 3 arguments:\n",
    "            policy, env, discount_factor.\n",
    "        discount_factor: gamma discount factor.\n",
    "        \n",
    "    Returns:\n",
    "        A tuple (policy, V). \n",
    "        policy is the optimal policy, a matrix of shape [S, A] where each state s\n",
    "        contains a valid probability distribution over actions.\n",
    "        V is the value function for the optimal policy.\n",
    "        \n",
    "    \"\"\"\n",
    "    def one_step_lookahead(state, V):\n",
    "        \"\"\"\n",
    "        Helper function to calculate the value for all action in a given state.\n",
    "        \n",
    "        Args:\n",
    "            state: The state to consider (int)\n",
    "            V: The value to use as an estimator, Vector of length env.nS\n",
    "        \n",
    "        Returns:\n",
    "            A vector of length env.nA containing the expected value of each action.\n",
    "        \"\"\"\n",
    "        A = np.zeros(env.env.nA)\n",
    "        for a in range(env.env.nA):\n",
    "            for prob, next_state, reward, done in env.env.P[state][a]:\n",
    "                A[a] += prob * (reward + discount_factor * V[next_state])\n",
    "        return A\n",
    "    # Start with a random policy\n",
    "    policy = np.ones([env.env.nS, env.env.nA]) / env.env.nA\n",
    "\n",
    "    while True:\n",
    "        # Implement this!\n",
    "        curr_pol_val = policy_eval_fn(policy, env, discount_factor)  #eval current policy\n",
    "        policy_stable = True  #Check if policy did improve (Set it as True first)\n",
    "        for state in range(env.env.nS):  #for each states\n",
    "            chosen_act = np.argmax(policy[state])  #best action (Highest prob) under current policy\n",
    "            act_values = one_step_lookahead(state,curr_pol_val)  #use one step lookahead to find action values\n",
    "            best_act = np.argmax(act_values) #find best action\n",
    "            if chosen_act != best_act:\n",
    "                policy_stable = False  #Greedily find best action\n",
    "            policy[state] = np.eye(env.env.nA)[best_act]  #update \n",
    "        if policy_stable:\n",
    "            return policy, curr_pol_val\n",
    "    \n",
    "    return policy, np.zeros(env.env.nS)\n",
    "\n",
    "def value_iteration(env, theta=0.0001, discount_factor=1.0):\n",
    "    \"\"\"\n",
    "    Value Iteration Algorithm.\n",
    "    \n",
    "    Args:\n",
    "        env: OpenAI env. env.P represents the transition probabilities of the environment.\n",
    "            env.P[s][a] is a list of transition tuples (prob, next_state, reward, done).\n",
    "            env.nS is a number of states in the environment. \n",
    "            env.nA is a number of actions in the environment.\n",
    "        theta: We stop evaluation once our value function change is less than theta for all states.\n",
    "        discount_factor: Gamma discount factor.\n",
    "        \n",
    "    Returns:\n",
    "        A tuple (policy, V) of the optimal policy and the optimal value function.        \n",
    "    \"\"\"\n",
    "    \n",
    "    def one_step_lookahead(state, V):\n",
    "        \"\"\"\n",
    "        Helper function to calculate the value for all action in a given state.\n",
    "        \n",
    "        Args:\n",
    "            state: The state to consider (int)\n",
    "            V: The value to use as an estimator, Vector of length env.nS\n",
    "        \n",
    "        Returns:\n",
    "            A vector of length env.nA containing the expected value of each action.\n",
    "        \"\"\"\n",
    "        A = np.zeros(env.env.nA)\n",
    "        for act in range(env.env.nA):\n",
    "            for prob, next_state, reward, done in env.env.P[state][act]:\n",
    "                A[act] += prob * (reward + discount_factor*V[next_state])\n",
    "        return A\n",
    "    \n",
    "    V = np.zeros(env.env.nS)\n",
    "    while True:\n",
    "        delta = 0  #checker for improvements across states\n",
    "        for state in range(env.env.nS):\n",
    "            act_values = one_step_lookahead(state,V)  #lookahead one step\n",
    "            best_act_value = np.max(act_values) #get best action value\n",
    "            delta = max(delta,np.abs(best_act_value - V[state]))  #find max delta across all states\n",
    "            V[state] = best_act_value  #update value to best action value\n",
    "        if delta < theta:  #if max improvement less than threshold\n",
    "            break\n",
    "    policy = np.zeros([env.env.nS, env.env.nA])\n",
    "    for state in range(env.env.nS):  #for all states, create deterministic policy\n",
    "        act_val = one_step_lookahead(state,V)\n",
    "        best_action = np.argmax(act_val)\n",
    "        policy[state][best_action] = 1\n",
    "        \n",
    "    \n",
    "    # Implement!\n",
    "    return policy, V"
   ]
  },
  {
   "cell_type": "markdown",
   "metadata": {
    "_uuid": "07005b7bf617aa822c551f62165c592b4cfedf2e"
   },
   "source": [
    "Let's evaluate the random policy. "
   ]
  },
  {
   "cell_type": "code",
   "execution_count": 13,
   "metadata": {
    "_uuid": "9485c7389a2f19316b2522b4ca146fafd5da0adb"
   },
   "outputs": [
    {
     "data": {
      "text/plain": [
       "array([-66.98313734, -72.0552561 , -71.82275936, -72.13589542,\n",
       "       -79.64708927, -79.4270611 , -79.65147432, -79.63871504,\n",
       "       -79.07254608, -79.10269345, -78.3875735 , -79.10505531,\n",
       "       -79.81671409, -79.81060032, -79.81765665, -79.6925471 ,\n",
       "       -59.75288888, -71.33388311, -70.80303096, -71.5180041 ,\n",
       "       -72.64022323, -75.50799664, -75.3765432 , -75.55359007,\n",
       "       -79.57926106, -79.3169249 , -79.58448929, -79.56927654,\n",
       "       -79.23018522, -79.2552079 , -78.66164932, -79.25716827,\n",
       "       -79.78723155, -79.78013338, -79.78832586, -79.64307314,\n",
       "       -68.04939921, -74.24901585, -73.94171338, -74.52901578,\n",
       "       -78.9466788 , -79.3570737 , -79.33826214, -79.36359837,\n",
       "       -77.88594922, -76.56749029, -77.91222545, -77.83576752,\n",
       "       -79.71837887, -79.72753061, -79.51044202, -79.7282476 ,\n",
       "       -79.47489602, -79.45737113, -79.47759776, -79.11898469,\n",
       "       -75.91030083, -73.61446202, -76.47955166, -76.11404129,\n",
       "       -79.24493677, -79.5391139 , -79.52562956, -79.54379088,\n",
       "       -76.45586581, -74.245464  , -76.49991801, -76.37173581,\n",
       "       -79.78949327, -79.79633324, -79.63408178, -79.79686911,\n",
       "       -79.34796296, -79.32620065, -79.35131795, -78.90599517,\n",
       "       -75.0502515 , -70.25841687, -75.41930922, -74.81712389,\n",
       "       -79.41904521, -79.64537989, -79.63500532, -79.64897827,\n",
       "       -72.60462264, -67.99220832, -72.69654573, -72.42906949,\n",
       "       -79.83332439, -79.83873948, -79.71028722, -79.83916372,\n",
       "       -79.27391538, -79.24968115, -79.27765146, -78.78174608,\n",
       "       -71.933124  , -60.99318489, -72.15115143, -71.51673855,\n",
       "       -73.9194438 , -76.2887544 , -76.18014962, -76.32642299,\n",
       "       -79.60352448, -79.35632125, -79.60845112, -79.59411593,\n",
       "       -78.62207746, -78.66686982, -77.60436044, -78.67037902,\n",
       "       -79.78836982, -79.78130965, -79.78945827, -79.64498295,\n",
       "       -69.41129055, -74.43443083, -73.21403599, -74.68429802,\n",
       "       -75.97320833, -77.54224929, -77.47032744, -77.56719476,\n",
       "       -79.3786097 , -78.99112218, -79.38633213, -79.36386176,\n",
       "       -79.14476556, -79.17256551, -78.51312819, -79.17474347,\n",
       "       -79.69060111, -79.68027694, -79.69219275, -79.48092707,\n",
       "       -72.57207194, -75.3480847 , -75.16728897, -75.81238459,\n",
       "       -78.3158378 , -78.97204918, -78.94196982, -78.98248198,\n",
       "       -78.64848194, -77.80561009, -78.66527996, -78.61640158,\n",
       "       -79.55837674, -79.57273037, -79.23224968, -79.57385489,\n",
       "       -79.43605208, -79.41723035, -79.43895374, -79.05380363,\n",
       "       -75.4789063 , -74.95406152, -76.42811363, -76.18385385,\n",
       "       -79.13068109, -79.46938123, -79.45385602, -79.47476606,\n",
       "       -77.75786003, -76.35950599, -77.78572852, -77.70463741,\n",
       "       -79.75033697, -79.75845009, -79.56599873, -79.7590857 ,\n",
       "       -79.08920697, -79.05880677, -79.09389361, -78.47181505,\n",
       "       -75.74428313, -73.09134616, -76.18072255, -75.18392599,\n",
       "       -79.40972946, -79.63969608, -79.62915501, -79.6433522 ,\n",
       "       -76.56321302, -74.41975889, -76.60593099, -76.4816311 ,\n",
       "       -79.82455674, -79.83025704, -79.69503958, -79.83070362,\n",
       "       -78.97061311, -78.93625395, -78.97591008, -78.27281998,\n",
       "       -75.07077254, -70.3057496 , -75.33272475, -74.09880672,\n",
       "       -76.88184962, -78.09682531, -78.04113321, -78.11614165,\n",
       "       -79.65971339, -79.44755483, -79.6639416 , -79.65163867,\n",
       "       -77.2138273 , -77.30440208, -75.15590138, -77.31149804,\n",
       "       -79.79100574, -79.78403354, -79.79208062, -79.64940557,\n",
       "       -72.56514391, -74.86381264, -71.52888807, -75.04389872,\n",
       "       -77.74573969, -78.62409496, -78.58383292, -78.63805952,\n",
       "       -79.48697337, -79.16706978, -79.49334889, -79.47479774,\n",
       "       -78.8983788 , -78.93418893, -78.08474447, -78.93699444,\n",
       "       -79.65307694, -79.64150003, -79.65486171, -79.4179613 ,\n",
       "       -75.00305705, -76.28583161, -75.55920043, -76.52999271,\n",
       "       -78.68097052, -79.19490492, -79.17134729, -79.20307572,\n",
       "       -79.14474203, -78.61138482, -79.15537157, -79.12444211,\n",
       "       -79.48059418, -79.49747663, -79.09701052, -79.49879926,\n",
       "       -79.31144414, -79.28846268, -79.31498708, -78.84471722,\n",
       "       -76.2612809 , -76.16892427, -76.75695256, -76.41999009,\n",
       "       -79.27772587, -79.55912945, -79.54623061, -79.56360335,\n",
       "       -78.65586201, -77.81758797, -78.6725684 , -78.62395663,\n",
       "       -79.75010778, -79.75822845, -79.56559809, -79.75886465,\n",
       "       -78.31460811, -78.25835039, -78.32328105, -77.17208363,\n",
       "       -76.03331594, -74.66550082, -76.33667933, -74.11507833,\n",
       "       -79.49308776, -79.69057404, -79.68152181, -79.69371377,\n",
       "       -78.24188144, -77.14540696, -78.26373363, -78.20014867,\n",
       "       -79.83463293, -79.84000576, -79.71255633, -79.84042668,\n",
       "       -78.22367407, -78.16438072, -78.232815  , -77.01949991,\n",
       "       -75.97833628, -73.77139936, -76.19244779, -73.73224474,\n",
       "       -77.99572653, -78.77666454, -78.74086799, -78.78908031,\n",
       "       -79.78122536, -79.6448587 , -79.78394308, -79.77603538,\n",
       "       -73.24122089, -73.46094533, -68.24892268, -73.47815936,\n",
       "       -79.86561453, -79.86113319, -79.86630542, -79.7746002 ,\n",
       "       -70.93327071, -72.24925749, -63.13837558, -72.3523567 ,\n",
       "       -78.73508765, -79.22793321, -79.20534225, -79.23576872,\n",
       "       -79.60284972, -79.3552162 , -79.60778494, -79.59342476,\n",
       "       -79.40647692, -79.42576881, -78.96814906, -79.42728021,\n",
       "       -79.70973211, -79.70004634, -79.71122533, -79.51302322,\n",
       "       -77.0357756 , -77.58963566, -77.38134045, -77.7479318 ,\n",
       "       -78.96807075, -79.37013344, -79.35170381, -79.37652565,\n",
       "       -79.51759728, -79.21678913, -79.52359224, -79.50614843,\n",
       "       -79.55151841, -79.56609512, -79.2203228 , -79.56723712,\n",
       "       -79.62462879, -79.61210197, -79.62656   , -79.37022191,\n",
       "       -77.34922102, -77.56051459, -77.67972142, -77.72053079,\n",
       "       -79.57810424, -79.74246225, -79.73492856, -79.74507529,\n",
       "       -79.05452637, -78.46489756, -79.06627739, -79.03208469,\n",
       "       -79.85598067, -79.86065942, -79.74967384, -79.86102597,\n",
       "       -76.10190438, -75.97178287, -76.12196445, -73.45930199,\n",
       "       -74.89675007, -73.94577844, -75.05977999, -69.26577981,\n",
       "       -79.63175659, -79.77520952, -79.76863408, -79.7774902 ,\n",
       "       -78.95139974, -78.29744919, -78.96443266, -78.9265099 ,\n",
       "       -79.87703959, -79.88103382, -79.78628578, -79.88134674,\n",
       "       -76.82488152, -76.71889407, -76.84122099, -74.67241083,\n",
       "       -75.56094453, -74.37604436, -75.70557761, -71.00358118,\n",
       "       -78.47671837, -79.07023101, -79.04302571, -79.07966699,\n",
       "       -79.83369596, -79.73005763, -79.83576142, -79.82975166,\n",
       "       -67.13430327, -67.5525641 , -57.63111717, -67.58533219,\n",
       "       -79.89783149, -79.89442574, -79.89835656, -79.82866105,\n",
       "       -66.43825751, -67.18713713, -49.42317706, -67.24580711,\n",
       "       -79.09204245, -79.44579687, -79.42958161, -79.45142104,\n",
       "       -79.67859944, -79.47821023, -79.6825931 , -79.67097265,\n",
       "       -79.58214137, -79.59572241, -79.27356791, -79.5967864 ,\n",
       "       -79.75986408, -79.75185177, -79.76109932, -79.5971409 ,\n",
       "       -77.81901026, -78.1614255 , -78.07818672, -78.28212483,\n",
       "       -79.16230959, -79.48868507, -79.4737248 , -79.49387396,\n",
       "       -79.65289086, -79.43646483, -79.65720412, -79.64465368,\n",
       "       -79.62588645, -79.63804546, -79.34962269, -79.63899804,\n",
       "       -79.73420048, -79.72533134, -79.73556781, -79.55407629,\n",
       "       -77.91354359, -78.15264512, -78.16817679, -78.2738632 ,\n",
       "       -79.69163321, -79.81175353, -79.80624762, -79.81366325,\n",
       "       -79.25777957, -78.79491891, -79.26700416, -79.24016282,\n",
       "       -79.89534842, -79.89874734, -79.8181204 , -79.89901362,\n",
       "       -71.93527751, -71.66606706, -71.97678006, -66.46795917,\n",
       "       -71.4844664 , -70.88395992, -71.5770428 , -59.2889553 ,\n",
       "       -79.70781628, -79.82163191, -79.81641499, -79.8234414 ,\n",
       "       -79.22668007, -78.74442077, -79.23629126, -79.20832498,\n",
       "       -79.90170175, -79.90489422, -79.82916429, -79.90514433,\n",
       "       -75.14642183, -74.98440458, -75.17139907, -71.85605848,\n",
       "       -74.40596311, -73.63499207, -74.50839448, -67.17176738])"
      ]
     },
     "execution_count": 13,
     "metadata": {},
     "output_type": "execute_result"
    }
   ],
   "source": [
    "env = gym.make('Taxi-v2')\n",
    "random_policy = np.ones([env.env.nS, env.env.nA]) / env.env.nA\n",
    "policy_eval(random_policy,env,discount_factor=0.95)"
   ]
  },
  {
   "cell_type": "markdown",
   "metadata": {
    "_uuid": "5fc5845a3b61562c906f7d382f5f2f34cf52ba27"
   },
   "source": [
    "Now let's use policy iteration to improve our policy. "
   ]
  },
  {
   "cell_type": "code",
   "execution_count": 14,
   "metadata": {
    "_uuid": "9f5860638276898669d306fd24463196cdfa8ca4"
   },
   "outputs": [
    {
     "data": {
      "text/plain": [
       "array([[0., 0., 0., 0., 1., 0.],\n",
       "       [0., 0., 0., 0., 1., 0.],\n",
       "       [0., 0., 0., 0., 1., 0.],\n",
       "       ...,\n",
       "       [0., 1., 0., 0., 0., 0.],\n",
       "       [0., 1., 0., 0., 0., 0.],\n",
       "       [0., 0., 0., 1., 0., 0.]])"
      ]
     },
     "execution_count": 14,
     "metadata": {},
     "output_type": "execute_result"
    }
   ],
   "source": [
    "pol_iter_policy = policy_iteration(env,policy_eval,discount_factor=0.99)\n",
    "pol_iter_policy[0]"
   ]
  },
  {
   "cell_type": "markdown",
   "metadata": {
    "_uuid": "1234eb5581646898799b7230bede11c65bfd1e2b"
   },
   "source": [
    "Next, we use value iteration to improve our policy."
   ]
  },
  {
   "cell_type": "code",
   "execution_count": 15,
   "metadata": {
    "_uuid": "f2ddadb26d1665b1184022e1e4fd84034adf3916"
   },
   "outputs": [
    {
     "data": {
      "text/plain": [
       "array([[0., 0., 0., 0., 1., 0.],\n",
       "       [0., 0., 0., 0., 1., 0.],\n",
       "       [0., 0., 0., 0., 1., 0.],\n",
       "       ...,\n",
       "       [0., 1., 0., 0., 0., 0.],\n",
       "       [0., 1., 0., 0., 0., 0.],\n",
       "       [0., 0., 0., 1., 0., 0.]])"
      ]
     },
     "execution_count": 15,
     "metadata": {},
     "output_type": "execute_result"
    }
   ],
   "source": [
    "val_iter_policy = value_iteration(env,discount_factor=0.99)\n",
    "val_iter_policy[0]"
   ]
  },
  {
   "cell_type": "code",
   "execution_count": 16,
   "metadata": {
    "_uuid": "0dae910a3baf043edf1149ebf88f6c2ee994b9ac"
   },
   "outputs": [
    {
     "name": "stdout",
     "output_type": "stream",
     "text": [
      "Same Policy\n"
     ]
    }
   ],
   "source": [
    "for x in range(len(pol_iter_policy[0])):\n",
    "    if not (pol_iter_policy[0][x] == val_iter_policy[0][x]).all():\n",
    "        print(\"Not the same Policy\")\n",
    "        break\n",
    "print(\"Same Policy\")"
   ]
  },
  {
   "cell_type": "markdown",
   "metadata": {
    "_uuid": "b09936fb6979464425d799859d916b924b03fa80"
   },
   "source": [
    "We can see that policy-iterated and value-iterated policies would converge to the same policy. "
   ]
  },
  {
   "cell_type": "code",
   "execution_count": 17,
   "metadata": {
    "_uuid": "a9cef08320b520222a94c7fb9637fe0983f49c85"
   },
   "outputs": [],
   "source": [
    "def count(policy):\n",
    "    curr_state = env.reset()\n",
    "    counter = 0\n",
    "    reward = None\n",
    "    while reward != 20:\n",
    "        state, reward, done, info = env.step(np.argmax(policy[curr_state]))  \n",
    "        curr_state = state\n",
    "        counter += 1\n",
    "    return counter"
   ]
  },
  {
   "cell_type": "code",
   "execution_count": 18,
   "metadata": {
    "_uuid": "a13fa862a0c5ba303ad344146f22dc932211d44b"
   },
   "outputs": [
    {
     "name": "stdout",
     "output_type": "stream",
     "text": [
      "An agent using a policy which has been improved using policy-iterated takes about an average of 12 steps to successfully complete its mission.\n"
     ]
    },
    {
     "data": {
      "text/plain": [
       "<matplotlib.axes._subplots.AxesSubplot at 0x1a3dd65c88>"
      ]
     },
     "execution_count": 18,
     "metadata": {},
     "output_type": "execute_result"
    },
    {
     "data": {
      "image/png": "[encoded data removed]",
      "text/plain": [
       "<Figure size 432x288 with 1 Axes>"
      ]
     },
     "metadata": {
      "needs_background": "light"
     },
     "output_type": "display_data"
    }
   ],
   "source": [
    "pol_count = count(pol_iter_policy[0])\n",
    "pol_counts = [count(pol_iter_policy[0]) for i in range(10000)]\n",
    "print(\"An agent using a policy which has been improved using policy-iterated takes about an average of \" + str(int(np.mean(pol_counts)))\n",
    "      + \" steps to successfully complete its mission.\")\n",
    "sns.distplot(pol_counts)"
   ]
  },
  {
   "cell_type": "code",
   "execution_count": 19,
   "metadata": {
    "_uuid": "6c534c76018e7e2e50d7e395a43a91984efaff50"
   },
   "outputs": [
    {
     "name": "stdout",
     "output_type": "stream",
     "text": [
      "An agent using a policy which has been value-iterated takes about an average of 12 steps to successfully complete its mission.\n"
     ]
    },
    {
     "data": {
      "text/plain": [
       "<matplotlib.axes._subplots.AxesSubplot at 0x1a3de075f8>"
      ]
     },
     "execution_count": 19,
     "metadata": {},
     "output_type": "execute_result"
    },
    {
     "data": {
      "image/png": "[encoded data removed]",
      "text/plain": [
       "<Figure size 432x288 with 1 Axes>"
      ]
     },
     "metadata": {
      "needs_background": "light"
     },
     "output_type": "display_data"
    }
   ],
   "source": [
    "val_count = count(val_iter_policy[0])\n",
    "val_counts = [count(val_iter_policy[0]) for i in range(10000)]\n",
    "print(\"An agent using a policy which has been value-iterated takes about an average of \" + str(int(np.mean(val_counts)))\n",
    "      + \" steps to successfully complete its mission.\")\n",
    "sns.distplot(val_counts)"
   ]
  },
  {
   "cell_type": "markdown",
   "metadata": {
    "_uuid": "5470f4214e35665927617825d3831633a4092212"
   },
   "source": [
    "**We can see that the improved policy is definitely much more efficient than the random search.**"
   ]
  },
  {
   "cell_type": "markdown",
   "metadata": {
    "_uuid": "279fdaba96989912e3edc7d3473a88ddef6500ef"
   },
   "source": [
    "# **4. Now, let's implement Q-learning with epsilon-greedy method** \n",
    "\n",
    "The algorithm for Q-learning is as follows:\n",
    "\n",
    "- Initialize the Q-table by all zeros.\n",
    "- Start exploring actions: For each state, select any one among all possible actions for the current state (S).\n",
    "- Travel to the next state (S') as a result of that action (a).\n",
    "- For all possible actions from the state (S') select the one with the highest Q-value with probability (1-epsilon) and select a random action with probability (epsilon). This is to balance the exploration and exploitation actions.\n",
    "- Update Q-table values using the equation:  **Q(state,action) <- (1−α) * Q(state,action) + α(reward + γ * max<sub>a</sub>Q(next state,all actions))**\n",
    "- Set the next state as the current state.\n",
    "- If goal state is reached, then end and repeat the process."
   ]
  },
  {
   "cell_type": "code",
   "execution_count": 20,
   "metadata": {
    "_uuid": "eac8b1cafdbc5dd6a6f83f37e4b6f1e9981e7332"
   },
   "outputs": [],
   "source": [
    "import random\n",
    "from IPython.display import clear_output\n",
    "\n",
    "def Q_learning_train(env,alpha,gamma,epsilon,episodes): \n",
    "    \"\"\"Q Learning Algorithm with epsilon greedy \n",
    "\n",
    "    Args:\n",
    "        env: Environment \n",
    "        alpha: Learning Rate --> Extent to which our Q-values are being updated in every iteration.\n",
    "        gamma: Discount Rate --> How much importance we want to give to future rewards\n",
    "        epsilon: Probability of selecting random action instead of the 'optimal' action\n",
    "        episodes: No. of episodes to train on\n",
    "\n",
    "    Returns:\n",
    "        Q-learning Trained policy\n",
    "\n",
    "    \"\"\"\n",
    "    %%time\n",
    "    \"\"\"Training the agent\"\"\"\n",
    "\n",
    "    # For plotting metrics\n",
    "    all_epochs = []\n",
    "    all_penalties = []\n",
    "    \n",
    "    #Initialize Q table of 500 x 6 size (500 states and 6 actions) with all zeroes\n",
    "    q_table = np.zeros([env.observation_space.n, env.action_space.n])  \n",
    "    \n",
    "    for i in range(1, episodes+1):\n",
    "        state = env.reset()\n",
    "\n",
    "        epochs, penalties, reward, = 0, 0, 0\n",
    "        done = False\n",
    "\n",
    "        while not done:\n",
    "            if random.uniform(0, 1) < epsilon:\n",
    "                action = env.action_space.sample() # Explore action space randomly\n",
    "            else:\n",
    "                action = np.argmax(q_table[state]) # Exploit learned values by choosing optimal values\n",
    "\n",
    "            next_state, reward, done, info = env.step(action) \n",
    "\n",
    "            old_value = q_table[state, action]\n",
    "            next_max = np.max(q_table[next_state])\n",
    "\n",
    "            new_value = (1 - alpha) * old_value + alpha * (reward + gamma * next_max)\n",
    "            q_table[state, action] = new_value\n",
    "\n",
    "            if reward == -10:\n",
    "                penalties += 1\n",
    "\n",
    "            state = next_state\n",
    "            epochs += 1\n",
    "\n",
    "        if i % 100 == 0:\n",
    "            clear_output(wait=True)\n",
    "            print(f\"Episode: {i}\")\n",
    "    # Start with a random policy\n",
    "    policy = np.ones([env.env.nS, env.env.nA]) / env.env.nA\n",
    "\n",
    "    for state in range(env.env.nS):  #for each states\n",
    "        best_act = np.argmax(q_table[state]) #find best action\n",
    "        policy[state] = np.eye(env.env.nA)[best_act]  #update \n",
    "        \n",
    "    print(\"Training finished.\\n\")\n",
    "    return policy, q_table"
   ]
  },
  {
   "cell_type": "code",
   "execution_count": 22,
   "metadata": {
    "_uuid": "4d1731a715762ac303703946d2d67c1a31e7230b"
   },
   "outputs": [
    {
     "name": "stderr",
     "output_type": "stream",
     "text": [
      "UsageError: Line magic function `%%time` not found.\n"
     ]
    }
   ],
   "source": [
    "env = gym.make('Taxi-v2')\n",
    "env.reset()\n",
    "Q_learn_pol = Q_learning_train(env,0.2,0.95,0.1,100000)"
   ]
  },
  {
   "cell_type": "code",
   "execution_count": 23,
   "metadata": {
    "_uuid": "68e98ba01e503d5df27d93f502e03cb82f79f2dc"
   },
   "outputs": [
    {
     "ename": "NameError",
     "evalue": "name 'Q_learn_pol' is not defined",
     "output_type": "error",
     "traceback": [
      "\u001b[0;31m---------------------------------------------------------------------------\u001b[0m",
      "\u001b[0;31mNameError\u001b[0m                                 Traceback (most recent call last)",
      "\u001b[0;32m<ipython-input-23-a306509125b0>\u001b[0m in \u001b[0;36m<module>\u001b[0;34m\u001b[0m\n\u001b[0;32m----> 1\u001b[0;31m \u001b[0mQ_Learning_counts\u001b[0m \u001b[0;34m=\u001b[0m \u001b[0mcount\u001b[0m\u001b[0;34m(\u001b[0m\u001b[0mQ_learn_pol\u001b[0m\u001b[0;34m[\u001b[0m\u001b[0;36m0\u001b[0m\u001b[0;34m]\u001b[0m\u001b[0;34m)\u001b[0m\u001b[0;34m\u001b[0m\u001b[0;34m\u001b[0m\u001b[0m\n\u001b[0m\u001b[1;32m      2\u001b[0m \u001b[0mQ_counts\u001b[0m \u001b[0;34m=\u001b[0m \u001b[0;34m[\u001b[0m\u001b[0mcount\u001b[0m\u001b[0;34m(\u001b[0m\u001b[0mQ_learn_pol\u001b[0m\u001b[0;34m[\u001b[0m\u001b[0;36m0\u001b[0m\u001b[0;34m]\u001b[0m\u001b[0;34m)\u001b[0m \u001b[0;32mfor\u001b[0m \u001b[0mi\u001b[0m \u001b[0;32min\u001b[0m \u001b[0mrange\u001b[0m\u001b[0;34m(\u001b[0m\u001b[0;36m1000\u001b[0m\u001b[0;34m)\u001b[0m\u001b[0;34m]\u001b[0m\u001b[0;34m\u001b[0m\u001b[0;34m\u001b[0m\u001b[0m\n\u001b[1;32m      3\u001b[0m print(\"An agent using a policy which has been improved using Q-learning takes about an average of \" + str(int(np.mean(Q_counts)))\n\u001b[1;32m      4\u001b[0m       + \" steps to successfully complete its mission.\")\n\u001b[1;32m      5\u001b[0m \u001b[0msns\u001b[0m\u001b[0;34m.\u001b[0m\u001b[0mdistplot\u001b[0m\u001b[0;34m(\u001b[0m\u001b[0mQ_counts\u001b[0m\u001b[0;34m)\u001b[0m\u001b[0;34m\u001b[0m\u001b[0;34m\u001b[0m\u001b[0m\n",
      "\u001b[0;31mNameError\u001b[0m: name 'Q_learn_pol' is not defined"
     ]
    }
   ],
   "source": [
    "Q_Learning_counts = count(Q_learn_pol[0])\n",
    "Q_counts = [count(Q_learn_pol[0]) for i in range(1000)]\n",
    "print(\"An agent using a policy which has been improved using Q-learning takes about an average of \" + str(int(np.mean(Q_counts)))\n",
    "      + \" steps to successfully complete its mission.\")\n",
    "sns.distplot(Q_counts)"
   ]
  },
  {
   "cell_type": "markdown",
   "metadata": {
    "_uuid": "cda548224d3bc9bae9dcc4feeeba27150467eae1"
   },
   "source": [
    "# **5. Let's watch how our optimal policies works in action**"
   ]
  },
  {
   "cell_type": "code",
   "execution_count": null,
   "metadata": {
    "_uuid": "3f74eb8c19f6a13da3e5a504488030b3046e7c3c"
   },
   "outputs": [],
   "source": [
    "def view_policy(policy):\n",
    "    curr_state = env.reset()\n",
    "    counter = 0\n",
    "    reward = None\n",
    "    while reward != 20:\n",
    "        state, reward, done, info = env.step(np.argmax(policy[0][curr_state])) \n",
    "        curr_state = state\n",
    "        counter += 1\n",
    "        env.env.s = curr_state\n",
    "        env.render()\n",
    "    "
   ]
  },
  {
   "cell_type": "code",
   "execution_count": null,
   "metadata": {
    "_uuid": "c4553e3873675023d4c229b69718927523a00685"
   },
   "outputs": [],
   "source": [
    "view_policy(pol_iter_policy)"
   ]
  },
  {
   "cell_type": "code",
   "execution_count": null,
   "metadata": {
    "_uuid": "ede64a2e93602ca827d1bf5df4fa764030128ebd"
   },
   "outputs": [],
   "source": [
    "view_policy(val_iter_policy)"
   ]
  },
  {
   "cell_type": "code",
   "execution_count": null,
   "metadata": {
    "_uuid": "5e69eac5e043e6ce56e499f1bead7f800389eaa0"
   },
   "outputs": [],
   "source": [
    "view_policy(Q_learn_pol)"
   ]
  },
  {
   "cell_type": "markdown",
   "metadata": {
    "_uuid": "cab257b4ec990f66acf5d2fcf59c7c155ab6b4dc"
   },
   "source": [
    "We can also view it animated by running the function below. "
   ]
  },
  {
   "cell_type": "code",
   "execution_count": null,
   "metadata": {
    "_uuid": "52b4079c117a61c15bb53da6d099542e6f2d8a39"
   },
   "outputs": [],
   "source": [
    "from IPython.display import clear_output\n",
    "\n",
    "from matplotlib import animation\n",
    "from IPython.display import display\n",
    "\n",
    "\n",
    "def view_policy_anim(policy):\n",
    "    penalties, reward = 0, 0\n",
    "\n",
    "    frames = [] # for animation\n",
    "\n",
    "    done = False\n",
    "    curr_state = env.reset()\n",
    "    while not done:\n",
    "        action = np.argmax(policy[0][curr_state])\n",
    "        state, reward, done, info = env.step(action)\n",
    "        curr_state = state\n",
    "        if reward == -10:\n",
    "            penalties += 1\n",
    "\n",
    "        # Put each rendered frame into dict for animation\n",
    "        frames.append({\n",
    "            'frame': env.render(mode='ansi'),\n",
    "            'state': state,\n",
    "            'action': action,\n",
    "            'reward': reward\n",
    "            }\n",
    "        )\n",
    "    def print_frames(frames):\n",
    "        for i, frame in enumerate(frames):\n",
    "            clear_output(wait=True)\n",
    "            print(frame['frame'].getvalue())\n",
    "            print(f\"Timestep: {i + 1}\")\n",
    "            print(f\"State: {frame['state']}\")\n",
    "            print(f\"Action: {frame['action']}\")\n",
    "            print(f\"Reward: {frame['reward']}\")\n",
    "            sleep(.2)\n",
    "\n",
    "    print_frames(frames)"
   ]
  },
  {
   "cell_type": "code",
   "execution_count": null,
   "metadata": {
    "_uuid": "513cad49ef1bd1bc2998e839931700bb3b85427a"
   },
   "outputs": [],
   "source": [
    "view_policy_anim(val_iter_policy)"
   ]
  },
  {
   "cell_type": "code",
   "execution_count": null,
   "metadata": {
    "_uuid": "6f1087fb3a6088849d5073c6ca39cfbe5e417588"
   },
   "outputs": [],
   "source": [
    "view_policy_anim(pol_iter_policy)"
   ]
  },
  {
   "cell_type": "code",
   "execution_count": null,
   "metadata": {
    "_uuid": "c728056c17ffb40e59a936cce999139f4b77e13e"
   },
   "outputs": [],
   "source": [
    "view_policy_anim(Q_learn_pol)"
   ]
  },
  {
   "cell_type": "code",
   "execution_count": null,
   "metadata": {
    "_uuid": "b1e0d1f18ade5caaba44d12f92ec0eb841cb5291"
   },
   "outputs": [],
   "source": []
  },
  {
   "cell_type": "code",
   "execution_count": null,
   "metadata": {
    "_uuid": "ad4f7583d845415f884da2f90f1a0b7457197af6"
   },
   "outputs": [],
   "source": []
  },
  {
   "cell_type": "code",
   "execution_count": null,
   "metadata": {
    "_uuid": "5f458e9a2833f9a2ffbbcef2dce9e8f0cc7781a3"
   },
   "outputs": [],
   "source": []
  }
 ],
 "metadata": {
  "kernelspec": {
   "display_name": "Python 3",
   "language": "python",
   "name": "python3"
  },
  "language_info": {
   "codemirror_mode": {
    "name": "ipython",
    "version": 3
   },
   "file_extension": ".py",
   "mimetype": "text/x-python",
   "name": "python",
   "nbconvert_exporter": "python",
   "pygments_lexer": "ipython3",
   "version": "3.6.8"
  }
 },
 "nbformat": 4,
 "nbformat_minor": 1
}
