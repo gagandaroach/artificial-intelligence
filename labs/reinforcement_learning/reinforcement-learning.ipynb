{
 "cells": [
  {
   "cell_type": "markdown",
   "metadata": {},
   "source": [
    "### Lab 4: Reinforcement-Learning \n",
    "\n",
    "Jay Urbain, PhD\n",
    "        \n",
    "Credits:  \n",
    "- Richard Sutton and Andrew Barto, Reinforcement Learning, an Introduction, 2nd Edition, 2018.\n",
    "- Stuart Russel, Peter Norvig, AIMA.\n",
    "- Dan Klein, Pieter Abbeel, CS188 Intro to AI, University of California, Berkeley. "
   ]
  },
  {
   "cell_type": "markdown",
   "metadata": {},
   "source": [
    "#### Table of Contents\n",
    "[Introduction](#Introduction)    \n",
    "[Q1: Value Iteration](#ValueIteration)   \n",
    "[Q2: Bridge Crossing Analysis](#BridgeCrossingAnalysis)   \n",
    "[Q3: Policies](#Policies)   \n",
    "[Q4: Asynchronous Value Iteration](#AsynchronousValueIteration)          \n",
    "[Q5: Prioritized Sweeping Value Iteration](#PrioritizedSweepingValueIteration)    \n",
    "[Q6: Q-Learning](#Q-Learning)   \n",
    "[Q7: Epsilon Greedy](#EpsilonGreedy)   \n",
    "[Q8: Bridge Crossing Revisited](#BridgeCrossingRevisited)   \n",
    "[Q9: Q-Learning and Pacman](#Q-LearningAndPacman)  \n",
    "[Q10: Approximate Q-Learning](#ApproximateQ-Learning)  \n",
    "[Submission](#Submission)  \n"
   ]
  },
  {
   "cell_type": "markdown",
   "metadata": {},
   "source": [
    "<hr style=\"height:1px\">\n",
    "<img src=\"capsule.png\" width=\"400px\" />\n",
    "\n",
    "Pacman seeks reward. Use Q-Learning to determine if he should eat or run."
   ]
  },
  {
   "cell_type": "markdown",
   "metadata": {},
   "source": [
    "#### Introduction  \n",
    "\n",
    "In this project, you will implement **value iteration** and **Q-learning**. You will test your agents first on **Gridworld** (simplified environment), then apply them to a simulated robot controller (Crawler) and Pacman.\n",
    "\n",
    "This project includes an autograder for you to grade your solutions on your machine. *Note: This autograder is different than the autograder in the last assignment*.  \n",
    "\n",
    "This can be run on all questions with the command:"
   ]
  },
  {
   "cell_type": "raw",
   "metadata": {},
   "source": [
    "python autograder.py"
   ]
  },
  {
   "cell_type": "markdown",
   "metadata": {},
   "source": [
    "*Note: You need to use `Python` version 3.* \n",
    "    \n",
    "The autograder can be run for one particular question, such as q2, as follows:"
   ]
  },
  {
   "cell_type": "raw",
   "metadata": {},
   "source": [
    "python autograder.py -q q2"
   ]
  },
  {
   "cell_type": "markdown",
   "metadata": {},
   "source": [
    "It can be run for one particular test using commands of the form:"
   ]
  },
  {
   "cell_type": "raw",
   "metadata": {},
   "source": [
    "python autograder.py -t test_cases/q2/1-bridge-grid"
   ]
  },
  {
   "cell_type": "markdown",
   "metadata": {},
   "source": [
    "By default, the autograder displays graphics with the `-t` option, but doesn't with the `-q` option. You can force graphics by using the `--graphics` flag, or force no graphics by using the `--no-graphics` flag.\n",
    "\n",
    "The code for this project contains the following files, available as a <a href=\"reinforcement.zip\">zip archive</a>. "
   ]
  },
  {
   "cell_type": "markdown",
   "metadata": {},
   "source": [
    "| Files you'll edit | Description |\n",
    "| :--- | :--- | \n",
    "| valueIterationAgents.py | A value iteration agent for solving known MDPs. |\n",
    "| qlearningAgents.py | Q-learning agents for Gridworld, Crawler and Pacman. |\n",
    "| analysis.py | A file to put your answers to questions given in the project.\n",
    "| **Files you should read but NOT edit:**| |\n",
    "| mdp.py | Defines methods on general MDPs.\n",
    "learningAgents.py | Defines the base classes ValueEstimationAgent and QLearningAgent, which your agents will extend.\n",
    "| util.py | Utilities, including util.Counter, which is particularly useful for Q-learners.\n",
    "| gridworld.py | The Gridworld implementation.\n",
    "| featureExtractors.py | Classes for extracting features on (state, action) pairs. Used for the approximate Q-learning agent (in qlearningAgents.py).\n",
    "| **Files you can ignore:** | | \n",
    "| environment.py | Abstract class for general reinforcement learning environments. Used by gridworld.py.\n",
    "| graphicsGridworldDisplay.py | Gridworld graphical display.\n",
    "| graphicsUtils.py | Graphics utilities.\n",
    "| textGridworldDisplay.py | Plug-in for the Gridworld text interface.\n",
    "| crawler.py | The crawler code and test harness. You will run this but not edit it.\n",
    "| graphicsCrawlerDisplay.py | GUI for the crawler robot.\n",
    "| autograder.py | Project autograder\n",
    "| testParser.py | Parses autograder test and solution files\n",
    "| testClasses.py | General autograding test classes\n",
    "| test_cases/ | Directory containing the test cases for each question\n",
    "| reinforcementTestClasses.py | Project 3 specific autograding test classes\n",
    "\n",
    "\n",
    "\n"
   ]
  },
  {
   "cell_type": "markdown",
   "metadata": {},
   "source": [
    "**Files to Edit and Submit:** You will fill in portions of `valueIterationAgents.py`, `qlearningAgents.py`, and `analysis.py` during the assignment. Please do not change the other files in this distribution or submit any of our original files other than these file. Submit these three files, `reinforcement.token` generated by running submission_autograder.py, and a lab report with results for each portion of the assignment you completed along with feedback on the assignment.\n",
    "\n",
    "**Evaluation:** Your code will be autograded for technical correctness. Please do not change the names of any provided functions or classes within the code.\n",
    "\n",
    "**Academic Dishonesty:** Please do your own work. \n",
    "\n",
    "**Getting Help:** You are not alone! If you find yourself stuck on something, please contact your instructor. \n",
    "\n",
    "**Discussion:** Please be careful not to post spoilers.\n"
   ]
  },
  {
   "cell_type": "markdown",
   "metadata": {},
   "source": [
    "<hr style=\"height:1px\">"
   ]
  },
  {
   "cell_type": "markdown",
   "metadata": {},
   "source": [
    "<a id=\"MultiAgentPacman\"></a>\n",
    "#### MDPs     \n",
    "First, run Gridworld in manual control mode, which uses arrow keys to control movement:"
   ]
  },
  {
   "cell_type": "raw",
   "metadata": {},
   "source": [
    "python gridworld.py -m"
   ]
  },
  {
   "cell_type": "markdown",
   "metadata": {},
   "source": [
    "You will see the two-exit layout gridworld exit. The blue dot is the agent. *Note: that when you press up, the agent only actually moves north 80% of the time*. \n",
    "\n",
    "You can control many aspects of the simulation. A full list of options is available by running:"
   ]
  },
  {
   "cell_type": "raw",
   "metadata": {},
   "source": [
    "python gridworld.py -h"
   ]
  },
  {
   "cell_type": "markdown",
   "metadata": {},
   "source": [
    "The default agent moves randomly:"
   ]
  },
  {
   "cell_type": "raw",
   "metadata": {},
   "source": [
    "python gridworld.py -g MazeGrid"
   ]
  },
  {
   "cell_type": "markdown",
   "metadata": {},
   "source": [
    "You should see the random agent bounce around the grid until it happens upon an exit. Not pretty.\n",
    "\n",
    "*Note:* The Gridworld MDP is such that you first must enter a 'pre-terminal' state (the double boxes shown in the GUI) and then take the special 'exit' action before the episode actually ends (in the true terminal state called `TERMINAL_STATE`, which is not shown in the GUI). If you run an episode manually, your total return may be less than you expected, due to the discount rate (-d to change; 0.9 by default).\n",
    "\n",
    "You will be told about each transition the agent experiences (to turn this off, try -q).\n",
    "\n",
    "As in Pacman, positions are represented by `(x,y)` Cartesian coordinates and any arrays are indexed by `[x][y]`, with `'north'` being the direction of increasing y, etc. By default, most transitions will receive a reward of zero, though you can change this with the living reward option (`-r`). *Note: you may want to make your 'living reward' negative."
   ]
  },
  {
   "cell_type": "markdown",
   "metadata": {},
   "source": [
    "<hr style=\"height:1px\">\n",
    "<a id=\"ValueIteration\"></a>\n",
    "\n",
    "#### Question 1 (4 points) Value Iteration\n",
    "\n",
    "Value iteration state update equation:\n",
    "\n",
    "$V_{k+1}(s) \\leftarrow max_a\\sum_{s'}P(s'|s,a)[R(s,a,s') + \\gamma V_k(s')]$\n",
    "\n",
    "Write a value iteration agent in `ValueIterationAgent`. A partially specified `ValueIterationAgent` has been created for you in `valueIterationAgents.py`. Your value iteration agent is an offline planner, not a reinforcement learning agent, so the relevant training option is the number of iterations of value iteration it should run (option -i) in its initial planning phase. ValueIterationAgent takes an MDP on construction and runs value iteration for the specified number of iterations before the constructor returns.\n",
    "\n",
    "Value iteration computes k-step estimates of the optimal values, $V_k$. In addition to running value iteration, implement the following methods for `ValueIterationAgent` using $V_k$.\n",
    "\n",
    "- `computeQValueFromValues(state, action)` returns the Q-value of the (state, action) pair given by the value function given by self.values. Note: *self.mdp.getTransitionStatesAndProbs(state, action)*\n",
    "will retrun a list of action probability pairs. *self.mdp.getReward(state, action, next_state)* will return a reward given the current state, action, next_state tuple. You should be able to compute the Q-value given with this information.\n",
    "- `computeActionFromValues(state)` computes the best action according to the value function given by self.values. *Note: self.mdp.getPossibleActions(state) will return the possible actions for a given state, computeQValueFromValues (above) will return values. You need to determine action with highest Q-value.* \n",
    "\n",
    "Quantities are all displayed in the GUI: values are numbers in squares, Q-values are numbers in square quarters, and policies are arrows out from each square.\n",
    "\n",
    "*Note:* Use the \"batch\" version of value iteration where each vector $V_k$ is computed from a fixed vector $V_{k-1}$, not the \"online\" version where one single weight vector is updated in place. This means that when a state's value is updated in iteration $k$ based on the values of its successor states, the successor state values used in the value update computation should be those from iteration $k-1$ (even if some of the successor states had already been updated in iteration k). The difference is discussed in `Sutton & Barto` in chapter 4.1.\n",
    "\n",
    "*Note:* A policy synthesized from values of depth $k$ (which reflect the next $k$ rewards) will actually reflect the next $k+1$ rewards (i.e. you return $\\pi_{k+1}$\n",
    "). Similarly, the Q-values will also reflect one more reward than the values (i.e. you return $Q_{k+1}$).\n",
    "\n",
    "You should return the synthesized policy $\\pi_{k+1}$.\n",
    "\n",
    "*Note:* You may optionally use the `util.Counter` class in `util.py`, which is a dictionary with a default value of zero. However, be careful with argMax: the actual `argmax` you want may be a key not in the counter!\n",
    "\n",
    "*Note:* Make sure to handle the case when a state has no available actions in an MDP (think about what this means for future rewards).\n",
    "\n",
    "To test your implementation, run the autograder:\n",
    "\n"
   ]
  },
  {
   "cell_type": "raw",
   "metadata": {},
   "source": [
    "python autograder.py -q q1"
   ]
  },
  {
   "cell_type": "markdown",
   "metadata": {},
   "source": [
    "The following command loads your `ValueIterationAgent`, which will compute a policy using 100 iterations and execute it 10 times. Press a key to cycle through values, Q-values, and the simulation. You should find that the value of the start state (V(start), which you can read off of the GUI) and the empirical resulting average reward (printed after the 10 rounds of execution finish) are quite close."
   ]
  },
  {
   "cell_type": "raw",
   "metadata": {},
   "source": [
    "python gridworld.py -a value -i 100 -k 10"
   ]
  },
  {
   "cell_type": "markdown",
   "metadata": {},
   "source": [
    "*Hint:* On the default BookGrid (defined in `gridworld.py`), running value iteration for 5 iterations should give you this output:\n"
   ]
  },
  {
   "cell_type": "raw",
   "metadata": {},
   "source": [
    "python gridworld.py -a value -i 5"
   ]
  },
  {
   "cell_type": "markdown",
   "metadata": {},
   "source": [
    "<img src='value.png' width=\"400px\"/>\n",
    "\n",
    "*Grading:* Your value iteration agent will be graded on a new grid. Your values, Q-values, and policies after fixed numbers of iterations and at convergence (e.g. after 100 iterations) will be checked."
   ]
  },
  {
   "cell_type": "markdown",
   "metadata": {},
   "source": [
    "<hr style=\"height:1px\">\n",
    "<a id=\"BridgeCrossingAnalysis\"></a>\n",
    "\n",
    "#### Question 2 (1 point): Bridge Crossing Analysis  \n",
    "\n",
    "`BridgeGrid` is a grid world map with the a low-reward terminal state and a high-reward terminal state separated by a narrow \"bridge\", on either side of which is a chasm of high negative reward. The agent starts near the low-reward state. With the default discount of 0.9 and the default noise of 0.2, the optimal policy does not cross the bridge. Change only ONE of the discount and noise parameters so that the optimal policy causes the agent to attempt to cross the bridge. Put your answer in `question2()` of `analysis.py`. (Noise refers to how often an agent ends up in an unintended successor state when they perform an action.) The default corresponds to:"
   ]
  },
  {
   "cell_type": "markdown",
   "metadata": {},
   "source": [
    "python gridworld.py -a value -i 100 -g BridgeGrid --discount 0.9 --noise 0.2"
   ]
  },
  {
   "cell_type": "markdown",
   "metadata": {},
   "source": [
    "<img src=\"value-q2.png\" width=\"400px\"/>\n",
    "\n",
    "*Grading:* It will be checked that you only changed one of the given parameters, and that with this change, a correct value iteration agent should cross the bridge. To check your answer, run the autograder:"
   ]
  },
  {
   "cell_type": "raw",
   "metadata": {},
   "source": [
    "python autograder.py -q q2"
   ]
  },
  {
   "cell_type": "markdown",
   "metadata": {},
   "source": [
    "<hr style=\"height:1px\">\n",
    "<a id=\"Policies\"></a>\n",
    "\n",
    "#### Question 3 (5 points): Policies       \n",
    "\n",
    "Consider the `DiscountGrid` layout, shown below. This grid has two terminal states with positive payoff (in the middle row), a close exit with payoff +1 and a distant exit with payoff +10. The bottom row of the grid consists of terminal states with negative payoff (shown in red); each state in this \"cliff\" region has payoff -10. The starting state is the yellow square. We distinguish between two types of paths: (1) paths that \"risk the cliff\" and travel near the bottom row of the grid; these paths are shorter but risk earning a large negative payoff, and are represented by the red arrow in the figure below. (2) paths that \"avoid the cliff\" and travel along the top edge of the grid. These paths are longer but are less likely to incur huge negative payoffs. These paths are represented by the green arrow in the figure below.\n",
    "\n",
    "\n",
    "<img src=\"discountgrid.png\" width=\"400px\"/>\n",
    "\n",
    "\n",
    "In this question, you will choose settings of the discount, noise, and living reward parameters for this MDP to produce optimal policies of several different types. Your setting of the parameter values for each part should have the property that, if your agent followed its optimal policy without being subject to any noise, it would exhibit the given behavior. If a particular behavior is not achieved for any setting of the parameters, assert that the policy is impossible by returning the string 'NOT POSSIBLE'.\n",
    "\n",
    "Here are the optimal policy types you should attempt to produce:\n",
    "\n",
    "a) Prefer the close exit (+1), risking the cliff (-10)    \n",
    "b) Prefer the close exit (+1), but avoiding the cliff (-10)  \n",
    "c) Prefer the distant exit (+10), risking the cliff (-10)  \n",
    "d) Prefer the distant exit (+10), avoiding the cliff (-10)  \n",
    "e Avoid both exits and the cliff (so an episode should never terminate)   \n",
    "To check your answers, run the autograder:"
   ]
  },
  {
   "cell_type": "raw",
   "metadata": {},
   "source": [
    "python autograder.py -q q3"
   ]
  },
  {
   "cell_type": "markdown",
   "metadata": {},
   "source": [
    "`question3a()` through `question3e()` should each return a 3-item tuple of (discount, noise, living reward) in `analysis.py`.\n",
    "\n",
    "*Note:* You can check your policies in the GUI. For example, using a correct answer to 3(a), the arrow in (0,1) should point east, the arrow in (1,1) should also point east, and the arrow in (2,1) should point north.\n",
    "\n",
    "*Note:* On some machines you may not see an arrow. In this case, press a button on the keyboard to switch to qValue display, and mentally calculate the policy by taking the arg max of the available qValues for each state.\n",
    "\n",
    "*Grading:* The autograder will check that the desired policy is returned in each case."
   ]
  },
  {
   "cell_type": "markdown",
   "metadata": {},
   "source": [
    "<hr style=\"height:1px\">\n",
    "<a id=\"AsynchronousValueIteration\"></a>\n",
    "\n",
    "#### Question 4 (1 point): Asynchronous Value Iteration *(optional)*   \n",
    "\n",
    "Write a value iteration agent in `AsynchronousValueIterationAgent`, which has been partially specified for you in `valueIterationAgents.py`. Your value iteration agent is an offline planner, not a reinforcement learning agent, and so the relevant training option is the number of iterations of value iteration it should run (option -i) in its initial planning phase. `AsynchronousValueIterationAgent` takes an MDP on construction and runs cyclic value iteration (described in the next paragraph) for the specified number of iterations before the constructor returns. Note that all this value iteration code should be placed inside the constructor (`__init__` method).\n",
    "\n",
    "The reason this class is called `AsynchronousValueIterationAgent` is because we will update only one state in each iteration, as opposed to doing a batch-style update. Here is how cyclic value iteration works. In the first iteration, only update the value of the first state in the states list. In the second iteration, only update the value of the second. Keep going until you have updated the value of each state once, then start back at the first state for the subsequent iteration. If the state picked for updating is terminal, nothing happens in that iteration. You can implement it as indexing into the states variable defined in the code skeleton.\n",
    "\n",
    "Here's the value iteration state update equation:\n",
    "\n",
    "$V_{k+1}(s)<-max_a\\sum_{s'}P(s'|s,a)[R(s,a,s') + \\gamma V_k(s')]$\n",
    "\n",
    "Value iteration iterates a fixed-point equation. It is also possible to update the state values in different ways, such as in a random order (i.e., select a state randomly, update its value, and repeat) or in a batch style (as in Q1). In Q4, we will explore another technique.\n",
    "\n",
    "`AsynchronousValueIterationAgent` inherits from `ValueIterationAgent` from Q1, so the only method you need to implement is `runValueIteration`. Since the superclass constructor calls `runValueIteration`, overriding it is sufficient to change the agent's behavior as desired.\n",
    "\n",
    "*Note: Make sure to handle the case when a state has no available actions in an MDP (think about what this means for future rewards).*\n",
    "\n",
    "To test your implementation, run the autograder. It should take less than a second to run. If it takes much longer, you may run into issues later in the project, so make your implementation more efficient now.\n"
   ]
  },
  {
   "cell_type": "raw",
   "metadata": {},
   "source": [
    "python autograder.py -q q4"
   ]
  },
  {
   "cell_type": "markdown",
   "metadata": {},
   "source": [
    "The following command loads your `AsynchronousValueIterationAgent` in the Gridworld, which will compute a policy and execute it 10 times. Press a key to cycle through values, Q-values, and the simulation. You should find that the value of the start state (`V(start`), which you can read off of the GUI) and the empirical resulting average reward (printed after the 10 rounds of execution finish) are quite close."
   ]
  },
  {
   "cell_type": "raw",
   "metadata": {},
   "source": [
    "python gridworld.py -a asynchvalue -i 1000 -k 10"
   ]
  },
  {
   "cell_type": "markdown",
   "metadata": {},
   "source": [
    "*Grading:* Your value iteration agent will be graded on a new grid. We will check your values, Q-values, and policies after fixed numbers of iterations and at convergence (e.g., after 1000 iterations)."
   ]
  },
  {
   "cell_type": "markdown",
   "metadata": {},
   "source": [
    "<hr style=\"height:1px\">\n",
    "<a id=\"PrioritizedSweepingValueIteration\"></a>\n",
    "\n",
    "#### Question 5 (3 points): Prioritized Sweeping Value Iteration  *(optional)*   \n",
    "\n",
    "You will now implement `PrioritizedSweepingValueIterationAgent`, which has been partially specified for you in `valueIterationAgents.py`. Note that this class derives from `AsynchronousValueIterationAgent`, so the only method that needs to change is runValueIteration, which actually runs the value iteration.\n",
    "\n",
    "Prioritized sweeping attempts to focus updates of state values in ways that are likely to change the policy.\n",
    "\n",
    "For this project, you will implement a simplified version of the standard prioritized sweeping algorithm, which is described in this [paper](http://papers.nips.cc/paper/651-memory-based-reinforcement-learning-efficient-computation-with-prioritized-sweeping.pdf). We've adapted this algorithm for our setting. First, we define the predecessors of a state `s` as all states that have a nonzero probability of reaching `s` by taking some action `a`. Also, `theta`, which is passed in as a parameter, will represent our tolerance for error when deciding whether to update the value of a state. Here's the algorithm you should follow in your implementation.\n",
    "\n",
    "- Compute predecessors of all states.  \n",
    "- Initialize an empty priority queue.  \n",
    "- For each non-terminal state s, do: (note: to make the autograder work for this question, you must iterate over states in the order returned by `self.mdp.getStates()`)    \n",
    "-- Find the absolute value of the difference between the current value of `s` in self.values and the highest Q-value across all possible actions from s (this represents what the value should be); call this number diff. Do NOT update `self.values[s]` in this step.  \n",
    "-- Push `s` into the priority queue with priority `-diff` (note that this is negative). We use a negative because the priority queue is a min heap, but we want to prioritize updating states that have a higher error.  \n",
    "- For `iteration in 0, 1, 2, ..., self.iterations - 1`, do:  \n",
    "-- If the priority queue is empty, then terminate.  \n",
    "-- Pop a state `s` off the priority queue.  \n",
    "-- Update `s`'s value (if it is not a terminal state) in self.values.   \n",
    "-- For each predecessor `p` of `s`, do:  \n",
    "---- Find the absolute value of the difference between the current value of `p` in self.values and the highest Q-value across all possible actions from `p` (this represents what the value should be); call this number diff. Do NOT update `self.values[p]` in this step.   \n",
    "---- If `diff > theta`, push `p` into the priority queue with priority `-diff` (note that this is negative), as long as it does not already exist in the priority queue with equal or lower priority. As before, we use a negative because the priority queue is a min heap, but we want to prioritize updating states that have a higher error.   \n",
    "\n",
    "A couple of important notes on implementation:  \n",
    "\n",
    "- When you compute predecessors of a state, make sure to store them in a **set**, not a list, to avoid duplicates.   \n",
    "- Please use `util.PriorityQueue` in your implementation. The `update` method in this class will likely be useful; look at its documentation.  \n",
    "\n",
    "To test your implementation, run the autograder. It should take about 1 second to run. If it takes much longer, you may run into issues later in the project, so make your implementation more efficient now. "
   ]
  },
  {
   "cell_type": "raw",
   "metadata": {},
   "source": [
    "python autograder.py -q q5"
   ]
  },
  {
   "cell_type": "markdown",
   "metadata": {},
   "source": [
    "You can run the `PrioritizedSweepingValueIterationAgen` in the Gridworld using the following command."
   ]
  },
  {
   "cell_type": "raw",
   "metadata": {},
   "source": [
    "python gridworld.py -a priosweepvalue -i 1000"
   ]
  },
  {
   "cell_type": "markdown",
   "metadata": {},
   "source": [
    "*Grading*: Your prioritized sweeping value iteration agent will be graded on a new grid. The autograder will check your values, Q-values, and policies after fixed numbers of iterations and at convergence (e.g., after 1000 iterations)."
   ]
  },
  {
   "cell_type": "markdown",
   "metadata": {},
   "source": [
    "<hr style=\"height:1px\">\n",
    "<a id=\"Q-Learning\"></a>\n",
    "\n",
    "#### Question 6 (4 points): Q-Learning  \n",
    "\n",
    "Note that your value iteration agent does not actually learn from experience. Rather, it ponders its MDP model to arrive at a complete policy before ever interacting with a real environment. When it does interact with the environment, it simply follows the precomputed policy (e.g. it becomes a reflex agent). This distinction may be subtle in a simulated environment like a Gridword, but it's very important in the real world, where the real MDP is not available.\n",
    "\n",
    "You will now write a Q-learning agent, which does very little on construction, but instead learns by trial and error from interactions with the environment through its update(state, action, nextState, reward) method. A stub of a Q-learner is specified in QLearningAgent in qlearningAgents.py, and you can select it with the option '-a q'. For this question, you must implement the update, computeValueFromQValues, getQValue, and computeActionFromQValues methods.\n",
    "\n",
    "Note: For computeActionFromQValues, you should break ties randomly for better behavior. The random.choice() function will help. In a particular state, actions that your agent hasn't seen before still have a Q-value, specifically a Q-value of zero, and if all of the actions that your agent has seen before have a negative Q-value, an unseen action may be optimal.\n",
    "\n",
    "Important: Make sure that in your computeValueFromQValues and computeActionFromQValues functions, you only access Q values by calling getQValue . This abstraction will be useful for question 10 (optional) when you override getQValue to use features of state-action pairs rather than state-action pairs directly.\n",
    "\n",
    "With the Q-learning update in place, you can watch your Q-learner learn under manual control, using the keyboard:\n"
   ]
  },
  {
   "cell_type": "raw",
   "metadata": {},
   "source": [
    "python gridworld.py -a q -k 5 -m"
   ]
  },
  {
   "cell_type": "markdown",
   "metadata": {},
   "source": [
    "Recall that -k will control the number of episodes your agent gets to learn. Watch how the agent learns about the state it was just in, not the one it moves to, and \"leaves learning in its wake.\" Hint: to help with debugging, you can turn off noise by using the --noise 0.0 parameter (though this obviously makes Q-learning less interesting). If you manually steer Pacman north and then east along the optimal path for four episodes, you should see the following Q-values:\n",
    "\n",
    "\n",
    "<img src=\"q-learning.png\"  width=\"400px\"/>"
   ]
  },
  {
   "cell_type": "raw",
   "metadata": {},
   "source": [
    "python autograder.py -q q6"
   ]
  },
  {
   "cell_type": "markdown",
   "metadata": {},
   "source": [
    "<hr style=\"height:1px\">\n",
    "<a id=\"EpsilonGreedy\"></a>\n",
    "\n",
    "#### Question 7 (2 points): Epsilon Greedy  \n",
    "\n",
    "Complete your Q-learning agent by implementing epsilon-greedy action selection in `getAction`, meaning it chooses random actions an epsilon fraction of the time, and follows its current best Q-values otherwise. Note that choosing a random action may result in choosing the best action - that is, you should not choose a random sub-optimal action, but rather any random legal action.\n",
    "\n",
    "You can choose an element from a list uniformly at random by calling the `random.choice` function. You can simulate a binary variable with probability p of success by using `util.flipCoin(p)`, which returns `True` with probability `p` and `False` with probability `1-p`.\n",
    "\n",
    "After implementing the `getAction` method, observe the following behavior of the agent in gridworld (with epsilon = 0.3)."
   ]
  },
  {
   "cell_type": "raw",
   "metadata": {},
   "source": [
    "python gridworld.py -a q -k 100 "
   ]
  },
  {
   "cell_type": "markdown",
   "metadata": {},
   "source": [
    "Your final Q-values should resemble those of your value iteration agent, especially along well-traveled paths. However, your average returns will be lower than the Q-values predict because of the random actions and the initial learning phase.\n",
    "\n",
    "You can also observe the following simulations for different epsilon values. Does that behavior of the agent match what you expect?"
   ]
  },
  {
   "cell_type": "raw",
   "metadata": {},
   "source": [
    "python gridworld.py -a q -k 100 --noise 0.0 -e 0.1"
   ]
  },
  {
   "cell_type": "raw",
   "metadata": {},
   "source": [
    "python gridworld.py -a q -k 100 --noise 0.0 -e 0.9"
   ]
  },
  {
   "cell_type": "markdown",
   "metadata": {},
   "source": [
    "To test your implementation, run the autograder:"
   ]
  },
  {
   "cell_type": "raw",
   "metadata": {},
   "source": [
    "python autograder.py -q q7"
   ]
  },
  {
   "cell_type": "markdown",
   "metadata": {},
   "source": [
    "With no additional code, you should now be able to run a Q-learning crawler robot:"
   ]
  },
  {
   "cell_type": "raw",
   "metadata": {},
   "source": [
    "python crawler.py"
   ]
  },
  {
   "cell_type": "markdown",
   "metadata": {},
   "source": [
    "If this doesn't work, you've probably written some code too specific to the GridWorld problem and you should make it more general to all MDPs.\n",
    "\n",
    "This will invoke the crawling robot using your Q-learner. Play around with the various learning parameters to see how they affect the agent's policies and actions. Note that the step delay is a parameter of the simulation, whereas the learning rate and epsilon are parameters of your learning algorithm, and the discount factor is a property of the environment."
   ]
  },
  {
   "cell_type": "markdown",
   "metadata": {},
   "source": [
    "<hr style=\"height:1px\">\n",
    "<a id=\"BridgeCrossingRevisited\"></a>\n",
    "\n",
    "#### Question 8 (1 points): Bridge Crossing Revisited  \n",
    "\n",
    "First, train a completely random Q-learner with the default learning rate on the noiseless BridgeGrid for 50 episodes and observe whether it finds the optimal policy."
   ]
  },
  {
   "cell_type": "raw",
   "metadata": {},
   "source": [
    "python gridworld.py -a q -k 50 -n 0 -g BridgeGrid -e 1"
   ]
  },
  {
   "cell_type": "markdown",
   "metadata": {},
   "source": [
    "Now try the same experiment with an epsilon of 0. Is there an epsilon and a learning rate for which it is highly likely (greater than 99%) that the optimal policy will be learned after 50 iterations? `question8()` in `analysis.py` should return EITHER a 2-item tuple of `(epsilon, learning rate)` OR the string `'NOT POSSIBLE'` if there is none. Epsilon is controlled by -e, learning rate by `-l`.\n",
    "\n",
    "Note: Your response should be not depend on the exact tie-breaking mechanism used to choose actions. This means your answer should be correct even if for instance we rotated the entire bridge grid world 90 degrees.\n",
    "\n",
    "To grade your answer, run the autograder:"
   ]
  },
  {
   "cell_type": "raw",
   "metadata": {},
   "source": [
    "python autograder.py -q q8"
   ]
  },
  {
   "cell_type": "markdown",
   "metadata": {},
   "source": [
    "<hr style=\"height:1px\">\n",
    "<a id=\"Q-LearningAndPacman\"></a>\n",
    "\n",
    "#### Question 9 (1 points): Q-Learning and Pacman  \n",
    "\n",
    "Time to play some Pacman! Pacman will play games in two phases. In the first phase, training, Pacman will begin to learn about the values of positions and actions. Because it takes a very long time to learn accurate Q-values even for tiny grids, Pacman's training games run in quiet mode by default, with no GUI (or console) display. Once Pacman's training is complete, he will enter testing mode. When testing, Pacman's `self.epsilon` and `self.alpha` will be set to 0.0, effectively stopping Q-learning and disabling exploration, in order to allow Pacman to exploit his learned policy. Test games are shown in the GUI by default. Without any code changes you should be able to run Q-learning Pacman for very tiny grids as follows:"
   ]
  },
  {
   "cell_type": "raw",
   "metadata": {},
   "source": [
    "python pacman.py -p PacmanQAgent -x 2000 -n 2010 -l smallGrid "
   ]
  },
  {
   "cell_type": "markdown",
   "metadata": {},
   "source": [
    "Note that `PacmanQAgent` is already defined for you in terms of the `QLearningAgent` you've already written. PacmanQAgent is only different in that it has default learning parameters that are more effective for the Pacman problem (`epsilon=0.05`, `alpha=0.2`, `gamma=0.8`). You will receive full credit for this question if the command above works without exceptions and your agent wins at least 80% of the time. The autograder will run 100 test games after the 2000 training games.\n",
    "\n",
    "Note: If your `QLearningAgent` works for `gridworld.py` and `crawler.py` but does not seem to be learning a good policy for Pacman on `smallGrid`, it may be because your `getAction` and/or `computeActionFromQValues` methods do not in some cases properly consider unseen actions. In particular, because unseen actions have by definition a Q-value of zero, if all of the actions that have been seen have negative Q-values, an unseen action may be optimal. Beware of the argmax function from `util.Counter`\n",
    "\n",
    "To grade your answer, run:"
   ]
  },
  {
   "cell_type": "raw",
   "metadata": {},
   "source": [
    "python autograder.py -q q9"
   ]
  },
  {
   "cell_type": "markdown",
   "metadata": {},
   "source": [
    "*Note:* If you want to experiment with learning parameters, you can use the option `-a`, for example `-a epsilon=0.1, alpha=0.3, gamma=0.7`. These values will then be accessible as self.epsilon, self.gamma and `self.alpha` inside the agent.\n",
    "\n",
    "*Note:* While a total of 2010 games will be played, the first 2000 games will not be displayed because of the option `-x 2000`, which designates the first 2000 games for training (no output). Thus, you will only see Pacman play the last 10 of these games. The number of training games is also passed to your agent as the option `numTraining`.\n",
    "\n",
    "*Note:* If you want to watch 10 training games to see what's going on, use the command:"
   ]
  },
  {
   "cell_type": "raw",
   "metadata": {},
   "source": [
    "python pacman.py -p PacmanQAgent -n 10 -l smallGrid -a numTraining=10"
   ]
  },
  {
   "cell_type": "markdown",
   "metadata": {},
   "source": [
    "During training, you will see output every 100 games with statistics about how Pacman is faring. Epsilon is positive during training, so Pacman will play poorly even after having learned a good policy: this is because he occasionally makes a random exploratory move into a ghost. As a benchmark, it should take between 1,000 and 1400 games before Pacman's rewards for a 100 episode segment becomes positive, reflecting that he's started winning more than losing. By the end of training, it should remain positive and be fairly high (between 100 and 350).\n",
    "\n",
    "Make sure you understand what is happening here: the MDP state is the exact board configuration facing Pacman, with the now complex transitions describing an entire ply of change to that state. The intermediate game configurations in which Pacman has moved but the ghosts have not replied are not MDP states, but are bundled in to the transitions.\n",
    "\n",
    "Once Pacman is done training, he should win very reliably in test games (at least 90% of the time), since now he is exploiting his learned policy.\n",
    "\n",
    "However, you will find that training the same agent on the seemingly simple `mediumGrid` does not work well. In our implementation, Pacman's average training rewards remain negative throughout training. At test time, he plays badly, probably losing all of his test games. Training will also take a long time, despite its ineffectiveness.\n",
    "\n",
    "Pacman fails to win on larger layouts because each board configuration is a separate state with separate Q-values. He has no way to generalize that running into a ghost is bad for all positions. Obviously, this approach will not scale."
   ]
  },
  {
   "cell_type": "markdown",
   "metadata": {},
   "source": [
    "<hr style=\"height:1px\">\n",
    "<a id=\"ApproximateQ-Learning\"></a>\n",
    "\n",
    "#### Question 10 (3 points): Approximate Q-Learning  \n",
    "\n",
    "Implement an approximate Q-learning agent that learns weights for features of states, where many states might share the same features. Write your implementation in ApproximateQAgent class in qlearningAgents.py, which is a subclass of PacmanQAgent.\n",
    "\n",
    "Note: Approximate Q-learning assumes the existence of a feature function f(s,a) over state and action pairs, which yields a vector $f_1(s,a) .. f_i(s,a) .. f_n(s,a)$ of feature values. We provide feature functions for you in featureExtractors.py. Feature vectors are util.Counter (like a dictionary) objects containing the non-zero pairs of features and values; all omitted features have value zero.\n",
    "\n",
    "The approximate Q-function takes the following form:\n",
    "\n",
    "$$Q(s,a)=\\sum_{i=1}^{n}f_i(s,a)w_i$$\n",
    "\n",
    "where each weight $w_i$ is associated with a particular feature $f_i(s,a)$. In your code, you should implement the weight vector as a dictionary mapping features (which the feature extractors will return) to weight values. You will update your weight vectors similarly to how you updated Q-values:\n",
    "\n",
    "$$w_i<-w_i+\\alpha \\cdot difference \\cdot f_i(s,a)$$\n",
    "\n",
    "Note that the $difference$ term is the same as in normal Q-learning, and \n",
    "*r* is the experienced reward.\n",
    "\n",
    "By default, `ApproximateQAgent` uses the `IdentityExtractor`, which assigns a single feature to every (state,action) pair. With this feature extractor, your approximate Q-learning agent should work identically to `PacmanQAgent`. You can test this with the following command: term is the same as in normal Q-learning, and *r* is the experienced reward.\n",
    "\n",
    "Hint: In your `ApproximateQAgent` constructor, use `self.featExtractor.getFeatures(state, action)` to get values, you need to multiply each feature value by its weight and return the sum of the results.\n",
    "\n",
    "By default, ApproximateQAgent uses the IdentityExtractor, which assigns a single feature to every (state,action) pair. With this feature extractor, your approximate Q-learning agent should work identically to PacmanQAgent. You can test this with the following command:\n"
   ]
  },
  {
   "cell_type": "raw",
   "metadata": {},
   "source": [
    "python pacman.py -p ApproximateQAgent -x 2000 -n 2010 -l smallGrid "
   ]
  },
  {
   "cell_type": "markdown",
   "metadata": {},
   "source": [
    "Important: `ApproximateQAgent` is a subclass of `QLearningAgent`, and it therefore shares several methods like `getAction`. Make sure that your methods in `QLearningAgent` call `getQValue` instead of accessing Q-values directly, so that when you override `getQValue` in your approximate agent, the new approximate q-values are used to compute actions.\n",
    "\n",
    "Once you're confident that your approximate learner works correctly with the identity features, run your approximate Q-learning agent with our custom feature extractor, which can learn to win with ease:"
   ]
  },
  {
   "cell_type": "raw",
   "metadata": {},
   "source": [
    "python pacman.py -p ApproximateQAgent -a extractor=SimpleExtractor -x 50 -n 60 -l mediumGrid "
   ]
  },
  {
   "cell_type": "markdown",
   "metadata": {},
   "source": [
    "Even much larger layouts should be no problem for your `ApproximateQAgent`. (warning: this may take a few minutes to train)"
   ]
  },
  {
   "cell_type": "raw",
   "metadata": {},
   "source": [
    "python pacman.py -p ApproximateQAgent -a extractor=SimpleExtractor -x 50 -n 60 -l mediumClassic "
   ]
  },
  {
   "cell_type": "markdown",
   "metadata": {},
   "source": [
    "If you have no errors, your approximate Q-learning agent should win almost every time with these simple features, even with only 50 training games.\n",
    "\n",
    "Grading: We will run your approximate Q-learning agent and check that it learns the same Q-values and feature weights as our reference implementation when each is presented with the same set of examples. To grade your implementation, run the autograder:\n",
    "\n"
   ]
  },
  {
   "cell_type": "markdown",
   "metadata": {},
   "source": [
    "python autograder.py -q q10"
   ]
  },
  {
   "cell_type": "markdown",
   "metadata": {},
   "source": [
    "Congratulations! You have a learning Pacman agent!"
   ]
  },
  {
   "cell_type": "markdown",
   "metadata": {},
   "source": [
    "<hr style=\"height:1px\">\n",
    "<a id=\"Submission\"></a>\n",
    "\n",
    "#### Submission\n",
    "\n",
    "Submit a zip file named `reinforcement-learning-your_msoe_email_name.zip` containing `valueIterationAgents.py`, `qlearningAgents.py`, `analysis.py`, `reinforcement.token` generated by running submission_autograder.py (above). \n",
    "\n",
    "Separately submit a short report showing picture and code snipets for each task you've completed and your agent's performance. Also, provide feedback and self-assessment on the lab."
   ]
  },
  {
   "cell_type": "code",
   "execution_count": null,
   "metadata": {},
   "outputs": [],
   "source": []
  }
 ],
 "metadata": {
  "kernelspec": {
   "display_name": "Python 3",
   "language": "python",
   "name": "python3"
  },
  "language_info": {
   "codemirror_mode": {
    "name": "ipython",
    "version": 3
   },
   "file_extension": ".py",
   "mimetype": "text/x-python",
   "name": "python",
   "nbconvert_exporter": "python",
   "pygments_lexer": "ipython3",
   "version": "3.7.3"
  }
 },
 "nbformat": 4,
 "nbformat_minor": 2
}
