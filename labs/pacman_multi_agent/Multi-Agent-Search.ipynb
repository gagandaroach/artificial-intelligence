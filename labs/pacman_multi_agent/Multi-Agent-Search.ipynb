{
 "cells": [
  {
   "cell_type": "markdown",
   "metadata": {},
   "source": [
    "### Lab 3: Project 2: Multi-Agent \n",
    "\n",
    "Jay Urbain, PhD\n",
    "        \n",
    "Credits:  [CS188 Intro to Artificial Intelligence](http://ai.berkeley.edu/multiagent.html), University of California Berkley.  "
   ]
  },
  {
   "cell_type": "markdown",
   "metadata": {},
   "source": [
    "#### Table of Contents\n",
    "[Introduction](#Introduction)   \n",
    "[Q1: Reflex Agent](#ReflexAgent)  \n",
    "[Q2: Minimax](#Minimax)  \n",
    "[Q3: Alpha-Beta Pruning](#AlphaBetaPruning)  \n",
    "[Q4: Expectimax](#Expectimax)   \n",
    "[Q5: Evaluation Function](#EvaluationFunction)  \n",
    "[Submission](#Submission)   "
   ]
  },
  {
   "cell_type": "markdown",
   "metadata": {},
   "source": [
    "<hr style=\"height:1px\">\n",
    "<img src=\"pacman_multi_agent.png\" />\n",
    "\n",
    "Pacman with ghosts.\n",
    "Minimax, Expectimax,\n",
    "Evaluation Function."
   ]
  },
  {
   "cell_type": "markdown",
   "metadata": {},
   "source": [
    "<a id=\"Introduction\"></a>\n",
    "#### Introduction  \n",
    "\n",
    "In this project, you will design agents for the classic version of Pacman, including ghosts. Along the way, you will implement both minimax and expectimax search and try your hand at evaluation function design.\n",
    "\n",
    "This project includes an `autograder` for you to grade your answers on your machine. \n",
    "\n",
    "This can be run on all questions with the command:"
   ]
  },
  {
   "cell_type": "raw",
   "metadata": {},
   "source": [
    "python autograder.py"
   ]
  },
  {
   "cell_type": "markdown",
   "metadata": {},
   "source": [
    "*Note: You need to use `Python` version 3.* \n",
    "    \n",
    "The autograder can be run for one particular question, such as q2, as follows:"
   ]
  },
  {
   "cell_type": "raw",
   "metadata": {},
   "source": [
    "python autograder.py -q q2"
   ]
  },
  {
   "cell_type": "markdown",
   "metadata": {},
   "source": [
    "It can be run for one particular test by commands of the form:"
   ]
  },
  {
   "cell_type": "raw",
   "metadata": {},
   "source": [
    "python autograder.py -t test_cases/q2/0-small-tree"
   ]
  },
  {
   "cell_type": "markdown",
   "metadata": {},
   "source": [
    "By default, the autograder displays graphics with the `-t` option, but doesn't with the `-q` option. You can force graphics by using the `--graphics` flag, or force no graphics by using the `--no-graphics` flag.\n",
    "\n",
    "The code for this project contains the following files, available as a <a href=\"multiagent.zip\">zip archive</a>. "
   ]
  },
  {
   "cell_type": "code",
   "execution_count": 1,
   "metadata": {},
   "outputs": [
    {
     "data": {
      "text/html": [
       "\n",
       "<table class=\"table table-bordered\">\n",
       "            <tbody>\n",
       "              <tr>\n",
       "                <td style=\"text-align:left\" colspan=\"2\" ><b>Files you'll edit:</b></td>\n",
       "              </tr>\n",
       "              <tr>\n",
       "                <td><code>multiAgents.py</code></td>\n",
       "                <td>Where all of your multi-agent search agents will reside.</td>\n",
       "              </tr>\n",
       "              <tr>\n",
       "                <td colspan=\"2\" style=\"text-align:left\"><b>Files you might want to look at:</b></td>\n",
       "              </tr>\n",
       "              <tr>\n",
       "                <td><code>pacman.py</code></td>\n",
       "                <td>The main file that runs Pacman games. This file also describes a Pacman GameState type, which you will use extensively in this project.</td>\n",
       "              </tr>\n",
       "              <tr>\n",
       "                <td><code>game.py</code></td>\n",
       "                <td>The logic behind how the Pacman world works. This file describes several supporting types like AgentState, Agent, Direction, and Grid.</td>\n",
       "              </tr>\n",
       "              <tr>\n",
       "                <td><code>util.py</code></td>\n",
       "                <td>Useful data structures for implementing search algorithms. You don't need to use these for this project, but may find other functions defined here to be useful.</td>\n",
       "              </tr>\n",
       "              <tr>\n",
       "                <td colspan=\"2\"  style=\"text-align:left\"><b>Supporting files you can ignore:</b></td>\n",
       "              </tr>\n",
       "              <tr>\n",
       "                <td><code>graphicsDisplay.py</code></td>\n",
       "                <td>Graphics for Pacman</td>\n",
       "              </tr>\n",
       "              <tr>\n",
       "                <td><code>graphicsUtils.py</code></td>\n",
       "                <td>Support for Pacman graphics</td>\n",
       "              </tr>\n",
       "              <tr>\n",
       "                <td><code>textDisplay.py</code></td>\n",
       "                <td>ASCII graphics for Pacman</td>\n",
       "              </tr>\n",
       "              <tr>\n",
       "                <td><code>ghostAgents.py</code></td>\n",
       "                <td>Agents to control ghosts</td>\n",
       "              </tr>\n",
       "              <tr>\n",
       "                <td><code>keyboardAgents.py</code></td>\n",
       "                <td>Keyboard interfaces to control Pacman</td>\n",
       "              </tr>\n",
       "              <tr>\n",
       "                <td><code>layout.py</code></td>\n",
       "                <td>Code for reading layout files and storing their contents</td>\n",
       "              </tr>\n",
       "              <tr>\n",
       "                <td><code>autograder.py</code></td>\n",
       "                <td>Project autograder</td>\n",
       "              </tr>\n",
       "              <tr>\n",
       "                <td><code>testParser.py</code></td>\n",
       "                <td>Parses autograder test and solution files</td>\n",
       "              </tr>\n",
       "              <tr>\n",
       "                <td><code>testClasses.py</code></td>\n",
       "                <td>General autograding test classes</td>\n",
       "              </tr>\n",
       "              <tr>\n",
       "                <td><code>test_cases/</code></td>\n",
       "                <td>Directory containing the test cases for each question</td>\n",
       "              </tr>\n",
       "              <tr>\n",
       "                <td><code>multiagentTestClasses.py</code></td>\n",
       "                <td>Project autograding test classes</td>\n",
       "              </tr>\n",
       "            </tbody>\n",
       "          </table>\n",
       "          <p></p>"
      ],
      "text/plain": [
       "<IPython.core.display.HTML object>"
      ]
     },
     "metadata": {},
     "output_type": "display_data"
    },
    {
     "data": {
      "text/html": [
       "<script>\n",
       "code_show=true; \n",
       "function code_toggle() {\n",
       "    if (code_show){\n",
       "        $('div.cell.code_cell.rendered.selected div.input').hide();\n",
       "    } else {\n",
       "        $('div.cell.code_cell.rendered.selected div.input').show();\n",
       "    }\n",
       "    code_show = !code_show\n",
       "} \n",
       "\n",
       "$( document ).ready(code_toggle);\n",
       "</script>\n",
       "\n",
       "To show/hide this cell's raw code input, click <a href=\"javascript:code_toggle()\">here</a>."
      ],
      "text/plain": [
       "<IPython.core.display.HTML object>"
      ]
     },
     "execution_count": 1,
     "metadata": {},
     "output_type": "execute_result"
    }
   ],
   "source": [
    "from IPython.core.display import display, HTML\n",
    "display(HTML('''\n",
    "<table class=\"table table-bordered\">\n",
    "            <tbody>\n",
    "              <tr>\n",
    "                <td style=\"text-align:left\" colspan=\"2\" ><b>Files you'll edit:</b></td>\n",
    "              </tr>\n",
    "              <tr>\n",
    "                <td><code>multiAgents.py</code></td>\n",
    "                <td>Where all of your multi-agent search agents will reside.</td>\n",
    "              </tr>\n",
    "              <tr>\n",
    "                <td colspan=\"2\" style=\"text-align:left\"><b>Files you might want to look at:</b></td>\n",
    "              </tr>\n",
    "              <tr>\n",
    "                <td><code>pacman.py</code></td>\n",
    "                <td>The main file that runs Pacman games. This file also describes a Pacman GameState type, which you will use extensively in this project.</td>\n",
    "              </tr>\n",
    "              <tr>\n",
    "                <td><code>game.py</code></td>\n",
    "                <td>The logic behind how the Pacman world works. This file describes several supporting types like AgentState, Agent, Direction, and Grid.</td>\n",
    "              </tr>\n",
    "              <tr>\n",
    "                <td><code>util.py</code></td>\n",
    "                <td>Useful data structures for implementing search algorithms. You don't need to use these for this project, but may find other functions defined here to be useful.</td>\n",
    "              </tr>\n",
    "              <tr>\n",
    "                <td colspan=\"2\"  style=\"text-align:left\"><b>Supporting files you can ignore:</b></td>\n",
    "              </tr>\n",
    "              <tr>\n",
    "                <td><code>graphicsDisplay.py</code></td>\n",
    "                <td>Graphics for Pacman</td>\n",
    "              </tr>\n",
    "              <tr>\n",
    "                <td><code>graphicsUtils.py</code></td>\n",
    "                <td>Support for Pacman graphics</td>\n",
    "              </tr>\n",
    "              <tr>\n",
    "                <td><code>textDisplay.py</code></td>\n",
    "                <td>ASCII graphics for Pacman</td>\n",
    "              </tr>\n",
    "              <tr>\n",
    "                <td><code>ghostAgents.py</code></td>\n",
    "                <td>Agents to control ghosts</td>\n",
    "              </tr>\n",
    "              <tr>\n",
    "                <td><code>keyboardAgents.py</code></td>\n",
    "                <td>Keyboard interfaces to control Pacman</td>\n",
    "              </tr>\n",
    "              <tr>\n",
    "                <td><code>layout.py</code></td>\n",
    "                <td>Code for reading layout files and storing their contents</td>\n",
    "              </tr>\n",
    "              <tr>\n",
    "                <td><code>autograder.py</code></td>\n",
    "                <td>Project autograder</td>\n",
    "              </tr>\n",
    "              <tr>\n",
    "                <td><code>testParser.py</code></td>\n",
    "                <td>Parses autograder test and solution files</td>\n",
    "              </tr>\n",
    "              <tr>\n",
    "                <td><code>testClasses.py</code></td>\n",
    "                <td>General autograding test classes</td>\n",
    "              </tr>\n",
    "              <tr>\n",
    "                <td><code>test_cases/</code></td>\n",
    "                <td>Directory containing the test cases for each question</td>\n",
    "              </tr>\n",
    "              <tr>\n",
    "                <td><code>multiagentTestClasses.py</code></td>\n",
    "                <td>Project autograding test classes</td>\n",
    "              </tr>\n",
    "            </tbody>\n",
    "          </table>\n",
    "          <p></p>'''))\n",
    "\n",
    "\n",
    "from IPython.display import display\n",
    "from IPython.display import HTML\n",
    "import IPython.core.display as di # Example: di.display_html('<h3>%s:</h3>' % str, raw=True)\n",
    "\n",
    "# This line will hide code by default when the notebook is exported as HTML\n",
    "#di.display_html('<script>jQuery(function() {if (jQuery(\"body.notebook_app\").length == 0) { jQuery(\".input_area\").toggle(); jQuery(\".prompt\").toggle();}});</script>', raw=True)\n",
    "\n",
    "# This line will add a button to toggle visibility of code blocks, for use with the HTML export version\n",
    "#di.display_html('''<button onclick=\"jQuery('.input_area').toggle(); jQuery('.prompt').toggle();\">Toggle code</button>''', raw=True)\n",
    "\n",
    "\n",
    "\n",
    "HTML('''<script>\n",
    "code_show=true; \n",
    "function code_toggle() {\n",
    "    if (code_show){\n",
    "        $('div.cell.code_cell.rendered.selected div.input').hide();\n",
    "    } else {\n",
    "        $('div.cell.code_cell.rendered.selected div.input').show();\n",
    "    }\n",
    "    code_show = !code_show\n",
    "} \n",
    "\n",
    "$( document ).ready(code_toggle);\n",
    "</script>\n",
    "\n",
    "To show/hide this cell's raw code input, click <a href=\"javascript:code_toggle()\">here</a>.''')"
   ]
  },
  {
   "cell_type": "markdown",
   "metadata": {},
   "source": [
    "**Files to Edit and Submit:** You will fill in portions of `multiAgents.py` during the assignment. You should submit this file with your code and comments. Please do not change the other files in this distribution or submit any of the original files other than this file.\n",
    "\n",
    "**Evaluation:** Your code will be autograded for technical correctness. Please do not change the names of any provided functions or classes within the code.\n",
    "\n",
    "**Academic Dishonesty:** Please do your own work. Your code will be checked.\n",
    "\n",
    "**Getting Help:** You are not alone! If you find yourself stuck on something, please contact your instructor. \n",
    "\n",
    "**Discussion:** Please do not post spoilers."
   ]
  },
  {
   "cell_type": "markdown",
   "metadata": {},
   "source": [
    "<hr style=\"height:1px\">"
   ]
  },
  {
   "cell_type": "markdown",
   "metadata": {},
   "source": [
    "<a id=\"MultiAgentPacman\"></a>\n",
    "#### Multi-Agent Pacman  \n",
    "First, play a game of classic Pacman by running the following command and using the arrow keys to move:\n"
   ]
  },
  {
   "cell_type": "raw",
   "metadata": {},
   "source": [
    "python pacman.py"
   ]
  },
  {
   "cell_type": "markdown",
   "metadata": {},
   "source": [
    "Now, run the provided `ReflexAgent` in `multiAgents.py`"
   ]
  },
  {
   "cell_type": "raw",
   "metadata": {},
   "source": [
    "python pacman.py -p ReflexAgent"
   ]
  },
  {
   "cell_type": "markdown",
   "metadata": {},
   "source": [
    "Note that it plays quite poorly even on simple layouts:"
   ]
  },
  {
   "cell_type": "raw",
   "metadata": {},
   "source": [
    "python pacman.py -p ReflexAgent -l testClassic"
   ]
  },
  {
   "cell_type": "markdown",
   "metadata": {},
   "source": [
    "Inspect its code (in `multiAgents.py`) and make sure you understand what it's doing."
   ]
  },
  {
   "cell_type": "markdown",
   "metadata": {},
   "source": [
    "<hr style=\"height:1px\">\n",
    "\n",
    "<a id=\"ReflexAgent\"></a>\n",
    "#### Question 1 (4 points) Reflex Agent\n",
    "Improve the ReflexAgent in `multiAgents.py` to play respectably. The provided reflex agent code provides some helpful examples of methods that query the `GameState` for information. A capable reflex agent will have to consider both food locations and ghost locations to perform well. Your agent should easily and reliably clear the testClassic layout:"
   ]
  },
  {
   "cell_type": "raw",
   "metadata": {},
   "source": [
    "python pacman.py -p ReflexAgent -l testClassic"
   ]
  },
  {
   "cell_type": "markdown",
   "metadata": {},
   "source": [
    "Try out your reflex agent on the default `mediumClassic` layout with one ghost or two (and animation off to speed up the display):"
   ]
  },
  {
   "cell_type": "raw",
   "metadata": {},
   "source": [
    "python pacman.py --frameTime 0 -p ReflexAgent -k 1"
   ]
  },
  {
   "cell_type": "raw",
   "metadata": {},
   "source": [
    "python pacman.py --frameTime 0 -p ReflexAgent -k 2"
   ]
  },
  {
   "cell_type": "markdown",
   "metadata": {},
   "source": [
    "How does your agent fare? It will likely often die with 2 ghosts on the default board, unless your evaluation function is quite good.\n",
    "\n",
    "*Notes:*  \n",
    "- As features, try the reciprocal of important values (such as distance to food) rather than just the values themselves.  \n",
    "- The evaluation function you're writing is evaluating state-action pairs; in later parts of the project, you'll be evaluating states.  \n",
    "- You may find it useful to view the internal contents of various objects for debugging. You can do this by printing the object's string representations. For example, you can print `newGhostStates` with `print(str(newGhostStates))`.  \n",
    "\n",
    "*Options:* Default ghosts are random; you can also play for fun with slightly smarter directional ghosts using `-g DirectionalGhost`. If the randomness is preventing you from telling whether your agent is improving, you can use `-f` to run with a fixed random seed (same random choices every game). You can also play multiple games in a row with `-n`. Turn off graphics with `-q` to run lots of games quickly.\n",
    "\n",
    "*Grading:* We will run your agent on the `openClassic` layout 10 times. You will receive 0 points if your agent times out, or never wins. You will receive 1 point if your agent wins at least 5 times, or 2 points if your agent wins all 10 games. You will receive an addition 1 point if your agent's average score is greater than 500, or 2 points if it is greater than 1000. You can try your agent out under these conditions with"
   ]
  },
  {
   "cell_type": "raw",
   "metadata": {},
   "source": [
    "python autograder.py -q q1"
   ]
  },
  {
   "cell_type": "markdown",
   "metadata": {},
   "source": [
    "To run it without graphics, use:"
   ]
  },
  {
   "cell_type": "raw",
   "metadata": {},
   "source": [
    "python autograder.py -q q1 --no-graphics"
   ]
  },
  {
   "cell_type": "markdown",
   "metadata": {},
   "source": [
    "Don't spend too much time on this question.\n"
   ]
  },
  {
   "cell_type": "markdown",
   "metadata": {},
   "source": [
    "<hr style=\"height:1px\">\n",
    "\n",
    "<a id=\"Minimax\"></a>\n",
    "#### Question 2 (5 points) Minimax  \n",
    "\n",
    "Now you will write an adversarial search agent in the provided `MinimaxAgent` class stub in `multiAgents.py`. Your minimax agent should work with any number of ghosts, so you'll have to write an algorithm that is slightly more general than what you've previously seen in lecture. In particular, your minimax tree will have multiple min layers (one for each ghost) for every max layer.\n",
    "\n",
    "Your code should also expand the game tree to an arbitrary depth. Score the leaves of your minimax tree with the supplied `self.evaluationFunction,` which defaults to `scoreEvaluationFunction.` `MinimaxAgent` extends `MultiAgentSearchAgent,` which gives access to `self.depth` and `self.evaluationFunction.` Make sure your minimax code makes reference to these two variables where appropriate as these variables are populated in response to command line options.\n",
    "\n",
    "*Important:* A single search ply is considered to be one Pacman move and all the ghosts' responses, so depth 2 search will involve Pacman and each ghost moving two times.\n",
    "\n",
    "Grading: Your code to determine whether it explores the correct number of game states. This is the only reliable way to detect some very subtle bugs in implementations of minimax. As a result, the autograder will be very picky about how many times you call `GameState.generateSuccessor.` If you call it any more or less than necessary, the autograder will complain. To test and debug your code, run:"
   ]
  },
  {
   "cell_type": "raw",
   "metadata": {},
   "source": [
    "python autograder.py -q q2"
   ]
  },
  {
   "cell_type": "markdown",
   "metadata": {},
   "source": [
    "This will show what your algorithm does on a number of small trees, as well as a pacman game. To run it without graphics, use:"
   ]
  },
  {
   "cell_type": "raw",
   "metadata": {},
   "source": [
    "python autograder.py -q q2 --no-graphics"
   ]
  },
  {
   "cell_type": "markdown",
   "metadata": {},
   "source": [
    "***Hints and Observations***\n",
    "- The correct implementation of minimax will lead to Pacman losing the game in some tests. This is not a problem: as it is correct behavior, it will pass the tests.  \n",
    "- The evaluation function for the Pacman test in this part is already written (`self.evaluationFunction`). You shouldn't change this function, but recognize that now we're evaluating states rather than actions, as we were for the reflex agent. Look-ahead agents evaluate future states whereas reflex agents evaluate actions from the current state.  \n",
    "- The minimax values of the initial state in the `minimaxClassic` layout are 9, 8, 7, -492 for depths 1, 2, 3 and 4 respectively. Note that your minimax agent will often win (665/1000 games for us) despite the dire prediction of depth 4 minimax.  \n"
   ]
  },
  {
   "cell_type": "raw",
   "metadata": {},
   "source": [
    "python pacman.py -p MinimaxAgent -l minimaxClassic -a depth=4"
   ]
  },
  {
   "cell_type": "markdown",
   "metadata": {},
   "source": [
    "- Pacman is always agent 0, and the agents move in order of increasing agent index.  \n",
    "- All states in minimax should be `GameStates,` either passed in to `getAction` or generated via `GameState.generateSuccessor.` In this project, you will not be abstracting to simplified states.  \n",
    "- On larger boards such as `openClassic` and `mediumClassic` (the default), you'll find Pacman to be good at not dying, but quite bad at winning. He'll often thrash around without making progress. He might even thrash around right next to a dot without eating it because he doesn't know where he'd go after eating that dot. Don't worry if you see this behavior, question 5 will clean up all of these issues.  \n",
    "- When Pacman believes that his death is unavoidable, he will try to end the game as soon as possible because of the constant penalty for living. Sometimes, this is the wrong thing to do with random ghosts, but minimax agents always assume the worst: "
   ]
  },
  {
   "cell_type": "raw",
   "metadata": {},
   "source": [
    "python pacman.py -p MinimaxAgent -l trappedClassic -a depth=3"
   ]
  },
  {
   "cell_type": "markdown",
   "metadata": {},
   "source": [
    "Make sure you understand why Pacman rushes the closest ghost in this case."
   ]
  },
  {
   "cell_type": "markdown",
   "metadata": {},
   "source": [
    "<hr style=\"height:1px\">\n",
    "\n",
    "<a id=\"AlphaBetaPruning\"></a>\n",
    "#### Question 3 (3 points) Alpha-Beta Pruning    \n",
    "\n",
    "Make a new agent that uses alpha-beta pruning to more efficiently explore the minimax tree, in `AlphaBetaAgent.` Again, your algorithm will be slightly more general than the pseudocode from lecture, so part of the challenge is to extend the alpha-beta pruning logic appropriately to multiple minimizer agents.\n",
    "\n",
    "You should see a speed-up (perhaps depth 3 alpha-beta will run as fast as depth 2 minimax). Ideally, depth 3 on `smallClassic` should run in just a few seconds per move or faster."
   ]
  },
  {
   "cell_type": "raw",
   "metadata": {},
   "source": [
    "python pacman.py -p AlphaBetaAgent -a depth=3 -l smallClassic"
   ]
  },
  {
   "cell_type": "markdown",
   "metadata": {},
   "source": [
    "The `AlphaBetaAgent` minimax values should be identical to the MinimaxAgent minimax values, although the actions it selects can vary because of different tie-breaking behavior. Again, the minimax values of the initial state in the `minimaxClassic` layout are 9, 8, 7 and -492 for depths 1, 2, 3 and 4 respectively.\n",
    "\n",
    "*Grading:* Your code will be checked to determine whether it explores the correct number of states, so it is important that you perform alpha-beta pruning without reordering children. In other words, successor states should always be processed in the order returned by GameState.getLegalActions. Again, do not call `GameState.generateSuccessor` more than necessary.\n",
    "\n",
    "The pseudo-code below represents the algorithm you should implement for this question.\n",
    "\n",
    "<img src='alpha_beta_impl.png' width=\"500px\"/>\n",
    "\n",
    "To test and debug your code, run:"
   ]
  },
  {
   "cell_type": "raw",
   "metadata": {},
   "source": [
    "python autograder.py -q q3"
   ]
  },
  {
   "cell_type": "markdown",
   "metadata": {},
   "source": [
    "This will show what your algorithm does on a number of small trees, as well as a pacman game. To run it without graphics, use:"
   ]
  },
  {
   "cell_type": "raw",
   "metadata": {},
   "source": [
    "python autograder.py -q q3 --no-graphics"
   ]
  },
  {
   "cell_type": "markdown",
   "metadata": {},
   "source": [
    "The correct implementation of alpha-beta pruning will lead to Pacman losing some of the tests. This is not a problem: as it is correct behaviour, it will pass the tests."
   ]
  },
  {
   "cell_type": "markdown",
   "metadata": {},
   "source": [
    "<hr style=\"height:1px\">\n",
    "\n",
    "<a id=\"Expectimax\"></a>\n",
    "#### Question 4: Expectimax (5 points) (extra credit) \n",
    "\n",
    "Minimax and alpha-beta are great, but they both assume that you are playing against an adversary who makes optimal decisions. As anyone who has ever won tic-tac-toe can tell you, this is not always the case. In this question you will implement the `ExpectimaxAgent,` which is useful for modeling probabilistic behavior of agents who may make suboptimal choices.\n",
    "\n",
    "As with the search and constraint satisfaction problems covered so far in this class, the beauty of these algorithms is their general applicability. To expedite your own development, we've supplied some test cases based on generic trees. You can debug your implementation on small the game trees using the command:\n",
    "\n"
   ]
  },
  {
   "cell_type": "raw",
   "metadata": {},
   "source": [
    "python autograder.py -q q4"
   ]
  },
  {
   "cell_type": "markdown",
   "metadata": {},
   "source": [
    "Debugging on these small and manageable test cases is recommended and will help you to find bugs quickly.\n",
    "\n",
    "Once your algorithm is working on small trees, you can observe its success in Pacman. Random ghosts are of course not optimal minimax agents, and so modeling them with minimax search may not be appropriate. `ExpectimaxAgent,` will no longer take the min over all ghost actions, but the expectation according to your agent's model of how the ghosts act. To simplify your code, assume you will only be running against an adversary which chooses amongst their getLegalActions uniformly at random.\n",
    "\n",
    "To see how the `ExpectimaxAgent` behaves in Pacman, run:"
   ]
  },
  {
   "cell_type": "raw",
   "metadata": {},
   "source": [
    "python pacman.py -p ExpectimaxAgent -l minimaxClassic -a depth=3"
   ]
  },
  {
   "cell_type": "markdown",
   "metadata": {},
   "source": [
    "You should now observe a more cavalier approach in close quarters with ghosts. In particular, if Pacman perceives that he could be trapped but might escape to grab a few more pieces of food, he'll at least try. Investigate the results of these two scenarios:"
   ]
  },
  {
   "cell_type": "raw",
   "metadata": {},
   "source": [
    "python pacman.py -p AlphaBetaAgent -l trappedClassic -a depth=3 -q -n 10"
   ]
  },
  {
   "cell_type": "raw",
   "metadata": {},
   "source": [
    "python pacman.py -p AlphaBetaAgent -l trappedClassic -a depth=3 -q -n 10"
   ]
  },
  {
   "cell_type": "markdown",
   "metadata": {},
   "source": [
    "You should find that your `ExpectimaxAgent` wins about half the time, while your `AlphaBetaAgent` always loses. Make sure you understand why the behavior here differs from the minimax case.\n",
    "\n",
    "The correct implementation of expectimax will lead to Pacman losing some of the tests. This is not a problem: as it is correct behavior, it will pass the tests."
   ]
  },
  {
   "cell_type": "markdown",
   "metadata": {},
   "source": [
    "<hr style=\"height:1px\">\n",
    "\n",
    "<a id=\"EvaluationFunction\"></a>\n",
    "#### Question 5: Evaluation Function (6 points) (extra credit) \n",
    "\n",
    "Write a better evaluation function for pacman in the provided function betterEvaluationFunction. The evaluation function should evaluate states, rather than actions like your reflex agent evaluation function did. You may use any tools at your disposal for evaluation, including your search code from the last project. With depth 2 search, your evaluation function should clear the smallClassic layout with one random ghost more than half the time and still run at a reasonable rate (to get full credit, Pacman should be averaging around 1000 points when he's winning).  \n",
    "\n",
    "*Grading:* the autograder will run your agent on the smallClassic layout 10 times. We will assign points to your evaluation function in the following way:  \n",
    "\n",
    "If you win at least once without timing out the autograder, you receive 1 points. Any agent not satisfying these criteria will receive 0 points.  \n",
    "- +1 for winning at least 5 times, +2 for winning all 10 times  \n",
    "- +1 for an average score of at least 500, +2 for an average score of at least 1000 (including scores on lost games)  \n",
    "- +1 if your games take on average less than 30 seconds on the autograder machine, when run with --no-graphics. The autograder is run on EC2, so this machine will have a fair amount of resources, but your personal computer could be far less performant (netbooks) or far more performant (gaming rigs).  \n",
    "- The additional points for average score and computation time will only be awarded if you win at least 5 times.  \n",
    "\n",
    "You can try your agent out under these conditions with"
   ]
  },
  {
   "cell_type": "raw",
   "metadata": {},
   "source": [
    "python autograder.py -q q5"
   ]
  },
  {
   "cell_type": "markdown",
   "metadata": {},
   "source": [
    "To run it without graphics, use:"
   ]
  },
  {
   "cell_type": "raw",
   "metadata": {},
   "source": [
    "python autograder.py -q q5 --no-graphics"
   ]
  },
  {
   "cell_type": "markdown",
   "metadata": {},
   "source": [
    "<hr style=\"height:1px\">\n",
    "\n",
    "#### Submission\n",
    "\n",
    "Upload your `multiAgents.py` to Blackboard. Separately provide feedback on the lab."
   ]
  }
 ],
 "metadata": {
  "kernelspec": {
   "display_name": "Python (tf)",
   "language": "python",
   "name": "tf"
  },
  "language_info": {
   "codemirror_mode": {
    "name": "ipython",
    "version": 3
   },
   "file_extension": ".py",
   "mimetype": "text/x-python",
   "name": "python",
   "nbconvert_exporter": "python",
   "pygments_lexer": "ipython3",
   "version": "3.6.8"
  }
 },
 "nbformat": 4,
 "nbformat_minor": 2
}
