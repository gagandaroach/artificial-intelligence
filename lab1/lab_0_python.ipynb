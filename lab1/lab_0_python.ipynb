{
 "cells": [
  {
   "cell_type": "markdown",
   "metadata": {},
   "source": [
    "### Python Programming for Data Science\n",
    "\n",
    "Quick \"hands on\" introduction to Python programming elements for data science.\n",
    "\n",
    "Jay Urbain, PhD\n",
    "\n",
    "6/26/2018"
   ]
  },
  {
   "cell_type": "markdown",
   "metadata": {},
   "source": [
    "#### What is Python?  \n",
    "\n",
    "Python is a popular programming language. It was created in 1991 by Guido van Rossum.\n",
    "\n",
    "It is used for:  \n",
    "\n",
    "- data science and espcically machine learning.\n",
    "- web development (server-side),\n",
    "- software development,\n",
    "- mathematics.\n",
    "- system scripting.  \n",
    "\n",
    "#### What can Python do?  \n",
    "- Data science applications.  \n",
    "- Machine learning models.  \n",
    "- Artificial intelligence applications. \n",
    "- Used on a server to create web applications.    \n",
    "- Used alongside software to create workflows.  \n",
    "- Connect to database systems. It can also read and modify files.  \n",
    "- Used to handle big data and perform complex mathematics.  \n",
    "- Used for rapid prototyping, or for production-ready software development.  \n",
    "\n",
    "#### Why Python?  \n",
    "- Works on different platforms (Windows, Mac, Linux, Raspberry Pi, etc).  \n",
    "- Simple syntax similar to the English language.  \n",
    "- Syntax that allows developers to write programs with fewer lines than some other - programming languages.  \n",
    "- Runs on an *interpreter system*, meaning that code can be executed as soon as it is written. This means that prototyping can be very quick.  \n",
    "- Python can be treated in a procedural way, an object-orientated way or a functional way.  \n",
    "\n",
    "#### Good to know  \n",
    "- The most recent major version of Python is Python 3.\n",
    "- Python was designed to for readability, and has some similarities to the English language with influence from mathematics.  \n",
    "- Python uses new lines to complete a command, as opposed to other programming languages which often use semicolons or parentheses.  \n",
    "- Python relies on indentation, using whitespace, to define scope; such as the scope of loops, functions and classes. Other programming languages often use curly-brackets for this purpose.  "
   ]
  },
  {
   "cell_type": "markdown",
   "metadata": {},
   "source": [
    "#### Getting Help\n",
    "\n",
    "object? - help system  \n",
    "help(object) - help system (inline)  \n",
    "object?? - source code \n",
    "%quickref - Quick reference to magic commands \n",
    " "
   ]
  },
  {
   "cell_type": "markdown",
   "metadata": {},
   "source": [
    "? - intro and overview of Pythons features"
   ]
  },
  {
   "cell_type": "code",
   "execution_count": 5,
   "metadata": {},
   "outputs": [],
   "source": [
    "len?"
   ]
  },
  {
   "cell_type": "code",
   "execution_count": 6,
   "metadata": {},
   "outputs": [
    {
     "name": "stdout",
     "output_type": "stream",
     "text": [
      "Help on built-in function len in module builtins:\n",
      "\n",
      "len(obj, /)\n",
      "    Return the number of items in a container.\n",
      "\n"
     ]
    }
   ],
   "source": [
    "help(len)"
   ]
  },
  {
   "cell_type": "code",
   "execution_count": 7,
   "metadata": {},
   "outputs": [
    {
     "name": "stdout",
     "output_type": "stream",
     "text": [
      "Help on module math:\n",
      "\n",
      "NAME\n",
      "    math\n",
      "\n",
      "MODULE REFERENCE\n",
      "    https://docs.python.org/3.6/library/math\n",
      "    \n",
      "    The following documentation is automatically generated from the Python\n",
      "    source files.  It may be incomplete, incorrect or include features that\n",
      "    are considered implementation detail and may vary between Python\n",
      "    implementations.  When in doubt, consult the module reference at the\n",
      "    location listed above.\n",
      "\n",
      "DESCRIPTION\n",
      "    This module is always available.  It provides access to the\n",
      "    mathematical functions defined by the C standard.\n",
      "\n",
      "FUNCTIONS\n",
      "    acos(...)\n",
      "        acos(x)\n",
      "        \n",
      "        Return the arc cosine (measured in radians) of x.\n",
      "    \n",
      "    acosh(...)\n",
      "        acosh(x)\n",
      "        \n",
      "        Return the inverse hyperbolic cosine of x.\n",
      "    \n",
      "    asin(...)\n",
      "        asin(x)\n",
      "        \n",
      "        Return the arc sine (measured in radians) of x.\n",
      "    \n",
      "    asinh(...)\n",
      "        asinh(x)\n",
      "        \n",
      "        Return the inverse hyperbolic sine of x.\n",
      "    \n",
      "    atan(...)\n",
      "        atan(x)\n",
      "        \n",
      "        Return the arc tangent (measured in radians) of x.\n",
      "    \n",
      "    atan2(...)\n",
      "        atan2(y, x)\n",
      "        \n",
      "        Return the arc tangent (measured in radians) of y/x.\n",
      "        Unlike atan(y/x), the signs of both x and y are considered.\n",
      "    \n",
      "    atanh(...)\n",
      "        atanh(x)\n",
      "        \n",
      "        Return the inverse hyperbolic tangent of x.\n",
      "    \n",
      "    ceil(...)\n",
      "        ceil(x)\n",
      "        \n",
      "        Return the ceiling of x as an Integral.\n",
      "        This is the smallest integer >= x.\n",
      "    \n",
      "    copysign(...)\n",
      "        copysign(x, y)\n",
      "        \n",
      "        Return a float with the magnitude (absolute value) of x but the sign \n",
      "        of y. On platforms that support signed zeros, copysign(1.0, -0.0) \n",
      "        returns -1.0.\n",
      "    \n",
      "    cos(...)\n",
      "        cos(x)\n",
      "        \n",
      "        Return the cosine of x (measured in radians).\n",
      "    \n",
      "    cosh(...)\n",
      "        cosh(x)\n",
      "        \n",
      "        Return the hyperbolic cosine of x.\n",
      "    \n",
      "    degrees(...)\n",
      "        degrees(x)\n",
      "        \n",
      "        Convert angle x from radians to degrees.\n",
      "    \n",
      "    erf(...)\n",
      "        erf(x)\n",
      "        \n",
      "        Error function at x.\n",
      "    \n",
      "    erfc(...)\n",
      "        erfc(x)\n",
      "        \n",
      "        Complementary error function at x.\n",
      "    \n",
      "    exp(...)\n",
      "        exp(x)\n",
      "        \n",
      "        Return e raised to the power of x.\n",
      "    \n",
      "    expm1(...)\n",
      "        expm1(x)\n",
      "        \n",
      "        Return exp(x)-1.\n",
      "        This function avoids the loss of precision involved in the direct evaluation of exp(x)-1 for small x.\n",
      "    \n",
      "    fabs(...)\n",
      "        fabs(x)\n",
      "        \n",
      "        Return the absolute value of the float x.\n",
      "    \n",
      "    factorial(...)\n",
      "        factorial(x) -> Integral\n",
      "        \n",
      "        Find x!. Raise a ValueError if x is negative or non-integral.\n",
      "    \n",
      "    floor(...)\n",
      "        floor(x)\n",
      "        \n",
      "        Return the floor of x as an Integral.\n",
      "        This is the largest integer <= x.\n",
      "    \n",
      "    fmod(...)\n",
      "        fmod(x, y)\n",
      "        \n",
      "        Return fmod(x, y), according to platform C.  x % y may differ.\n",
      "    \n",
      "    frexp(...)\n",
      "        frexp(x)\n",
      "        \n",
      "        Return the mantissa and exponent of x, as pair (m, e).\n",
      "        m is a float and e is an int, such that x = m * 2.**e.\n",
      "        If x is 0, m and e are both 0.  Else 0.5 <= abs(m) < 1.0.\n",
      "    \n",
      "    fsum(...)\n",
      "        fsum(iterable)\n",
      "        \n",
      "        Return an accurate floating point sum of values in the iterable.\n",
      "        Assumes IEEE-754 floating point arithmetic.\n",
      "    \n",
      "    gamma(...)\n",
      "        gamma(x)\n",
      "        \n",
      "        Gamma function at x.\n",
      "    \n",
      "    gcd(...)\n",
      "        gcd(x, y) -> int\n",
      "        greatest common divisor of x and y\n",
      "    \n",
      "    hypot(...)\n",
      "        hypot(x, y)\n",
      "        \n",
      "        Return the Euclidean distance, sqrt(x*x + y*y).\n",
      "    \n",
      "    isclose(...)\n",
      "        isclose(a, b, *, rel_tol=1e-09, abs_tol=0.0) -> bool\n",
      "        \n",
      "        Determine whether two floating point numbers are close in value.\n",
      "        \n",
      "           rel_tol\n",
      "               maximum difference for being considered \"close\", relative to the\n",
      "               magnitude of the input values\n",
      "            abs_tol\n",
      "               maximum difference for being considered \"close\", regardless of the\n",
      "               magnitude of the input values\n",
      "        \n",
      "        Return True if a is close in value to b, and False otherwise.\n",
      "        \n",
      "        For the values to be considered close, the difference between them\n",
      "        must be smaller than at least one of the tolerances.\n",
      "        \n",
      "        -inf, inf and NaN behave similarly to the IEEE 754 Standard.  That\n",
      "        is, NaN is not close to anything, even itself.  inf and -inf are\n",
      "        only close to themselves.\n",
      "    \n",
      "    isfinite(...)\n",
      "        isfinite(x) -> bool\n",
      "        \n",
      "        Return True if x is neither an infinity nor a NaN, and False otherwise.\n",
      "    \n",
      "    isinf(...)\n",
      "        isinf(x) -> bool\n",
      "        \n",
      "        Return True if x is a positive or negative infinity, and False otherwise.\n",
      "    \n",
      "    isnan(...)\n",
      "        isnan(x) -> bool\n",
      "        \n",
      "        Return True if x is a NaN (not a number), and False otherwise.\n",
      "    \n",
      "    ldexp(...)\n",
      "        ldexp(x, i)\n",
      "        \n",
      "        Return x * (2**i).\n",
      "    \n",
      "    lgamma(...)\n",
      "        lgamma(x)\n",
      "        \n",
      "        Natural logarithm of absolute value of Gamma function at x.\n",
      "    \n",
      "    log(...)\n",
      "        log(x[, base])\n",
      "        \n",
      "        Return the logarithm of x to the given base.\n",
      "        If the base not specified, returns the natural logarithm (base e) of x.\n",
      "    \n",
      "    log10(...)\n",
      "        log10(x)\n",
      "        \n",
      "        Return the base 10 logarithm of x.\n",
      "    \n",
      "    log1p(...)\n",
      "        log1p(x)\n",
      "        \n",
      "        Return the natural logarithm of 1+x (base e).\n",
      "        The result is computed in a way which is accurate for x near zero.\n",
      "    \n",
      "    log2(...)\n",
      "        log2(x)\n",
      "        \n",
      "        Return the base 2 logarithm of x.\n",
      "    \n",
      "    modf(...)\n",
      "        modf(x)\n",
      "        \n",
      "        Return the fractional and integer parts of x.  Both results carry the sign\n",
      "        of x and are floats.\n",
      "    \n",
      "    pow(...)\n",
      "        pow(x, y)\n",
      "        \n",
      "        Return x**y (x to the power of y).\n",
      "    \n",
      "    radians(...)\n",
      "        radians(x)\n",
      "        \n",
      "        Convert angle x from degrees to radians.\n",
      "    \n",
      "    sin(...)\n",
      "        sin(x)\n",
      "        \n",
      "        Return the sine of x (measured in radians).\n",
      "    \n",
      "    sinh(...)\n",
      "        sinh(x)\n",
      "        \n",
      "        Return the hyperbolic sine of x.\n",
      "    \n",
      "    sqrt(...)\n",
      "        sqrt(x)\n",
      "        \n",
      "        Return the square root of x.\n",
      "    \n",
      "    tan(...)\n",
      "        tan(x)\n",
      "        \n",
      "        Return the tangent of x (measured in radians).\n",
      "    \n",
      "    tanh(...)\n",
      "        tanh(x)\n",
      "        \n",
      "        Return the hyperbolic tangent of x.\n",
      "    \n",
      "    trunc(...)\n",
      "        trunc(x:Real) -> Integral\n",
      "        \n",
      "        Truncates x to the nearest Integral toward 0. Uses the __trunc__ magic method.\n",
      "\n",
      "DATA\n",
      "    e = 2.718281828459045\n",
      "    inf = inf\n",
      "    nan = nan\n",
      "    pi = 3.141592653589793\n",
      "    tau = 6.283185307179586\n",
      "\n",
      "FILE\n",
      "    /anaconda3/lib/python3.6/lib-dynload/math.cpython-36m-darwin.so\n",
      "\n",
      "\n"
     ]
    }
   ],
   "source": [
    "import math\n",
    "help(math)"
   ]
  },
  {
   "cell_type": "code",
   "execution_count": 9,
   "metadata": {},
   "outputs": [],
   "source": [
    "L = [1,2,3]"
   ]
  },
  {
   "cell_type": "code",
   "execution_count": 10,
   "metadata": {},
   "outputs": [
    {
     "data": {
      "text/plain": [
       "[1, 2, 3]"
      ]
     },
     "execution_count": 10,
     "metadata": {},
     "output_type": "execute_result"
    }
   ],
   "source": [
    "L"
   ]
  },
  {
   "cell_type": "code",
   "execution_count": 11,
   "metadata": {},
   "outputs": [],
   "source": [
    "L.append?"
   ]
  },
  {
   "cell_type": "code",
   "execution_count": 12,
   "metadata": {},
   "outputs": [],
   "source": [
    "def square(x):\n",
    "    \"\"\"\n",
    "    most awesome square function\n",
    "    x - takes number\n",
    "    returns square of x\n",
    "    \"\"\"\n",
    "    return x*x"
   ]
  },
  {
   "cell_type": "code",
   "execution_count": 13,
   "metadata": {},
   "outputs": [],
   "source": [
    "square?"
   ]
  },
  {
   "cell_type": "markdown",
   "metadata": {},
   "source": [
    "Accessing Source Code with ??"
   ]
  },
  {
   "cell_type": "code",
   "execution_count": 14,
   "metadata": {},
   "outputs": [],
   "source": [
    "square??"
   ]
  },
  {
   "cell_type": "code",
   "execution_count": 16,
   "metadata": {},
   "outputs": [],
   "source": [
    "# source code not provided if function is not written in python\n",
    "len??"
   ]
  },
  {
   "cell_type": "markdown",
   "metadata": {},
   "source": [
    "Exploring modules with TAB completion\n"
   ]
  },
  {
   "cell_type": "code",
   "execution_count": 20,
   "metadata": {},
   "outputs": [],
   "source": [
    "L.count??"
   ]
  },
  {
   "cell_type": "code",
   "execution_count": 21,
   "metadata": {},
   "outputs": [],
   "source": [
    "L.count?"
   ]
  },
  {
   "cell_type": "code",
   "execution_count": 22,
   "metadata": {},
   "outputs": [
    {
     "data": {
      "text/plain": [
       "1"
      ]
     },
     "execution_count": 22,
     "metadata": {},
     "output_type": "execute_result"
    }
   ],
   "source": [
    "L.count(3)"
   ]
  },
  {
   "cell_type": "markdown",
   "metadata": {},
   "source": [
    "1Tab completion when importing"
   ]
  },
  {
   "cell_type": "code",
   "execution_count": 24,
   "metadata": {},
   "outputs": [],
   "source": [
    "from itertools import combinations"
   ]
  },
  {
   "cell_type": "markdown",
   "metadata": {},
   "source": [
    "wildcare matching"
   ]
  },
  {
   "cell_type": "code",
   "execution_count": 28,
   "metadata": {},
   "outputs": [],
   "source": [
    "*Warning?"
   ]
  },
  {
   "cell_type": "code",
   "execution_count": 27,
   "metadata": {},
   "outputs": [],
   "source": [
    "str.*find*?"
   ]
  },
  {
   "cell_type": "markdown",
   "metadata": {},
   "source": [
    "#### Somewhat Useful IPython/Jupyter Shell Shortcuts\n",
    "\n",
    "**Keyboard Shortcuts** \n",
    "\n",
    "| Keystroke                         | Action                                     |\n",
    "|-----------------------------------|--------------------------------------------|\n",
    "| ``Ctrl-a``                        | Move cursor to the beginning of the line   |\n",
    "| ``Ctrl-e``                        | Move cursor to the end of the line         |\n",
    "| ``Ctrl-b`` or the left arrow key  | Move cursor back one character             |\n",
    "| ``Ctrl-f`` or the right arrow key | Move cursor forward one character          |"
   ]
  },
  {
   "cell_type": "markdown",
   "metadata": {},
   "source": [
    "#### Text Entry Shortcuts\n",
    "\n",
    "| Keystroke                     | Action                                           |\n",
    "|-------------------------------|--------------------------------------------------|\n",
    "| Backspace key                 | Delete previous character in line                |\n",
    "| ``Ctrl-d``                    | Delete next character in line                    |\n",
    "| ``Ctrl-k``                    | Cut text from cursor to end of line              |\n",
    "| ``Ctrl-u``                    | Cut text from beginning of line to cursor        |\n",
    "| ``Ctrl-y``                    | Yank (i.e. paste) text that was previously cut   |\n",
    "| ``Ctrl-t``                    | Transpose (i.e., switch) previous two characters |"
   ]
  },
  {
   "cell_type": "markdown",
   "metadata": {},
   "source": [
    "#### Command History Shortcuts\n",
    "\n",
    "| Keystroke                           | Action                                     |\n",
    "|-------------------------------------|--------------------------------------------|\n",
    "| ``Ctrl-p`` (or the up arrow key)    | Access previous command in history         |\n",
    "| ``Ctrl-n`` (or the down arrow key)  | Access next command in history             |\n",
    "| ``Ctrl-r``                          | Reverse-search through command history     |"
   ]
  },
  {
   "cell_type": "markdown",
   "metadata": {},
   "source": [
    "#### Data Types And Operators\n",
    "\n",
    "Python uses dynamic typing.\n",
    "\n",
    "Data Types:   \n",
    "- Integers    \n",
    "- Floats    \n",
    "- Booleans    \n",
    "- Strings    \n",
    "- Lists    \n",
    "- Tuples    \n",
    "- Sets    \n",
    "- Dictionaries   \n",
    "\n",
    "Operators: \n",
    "- Arithmetic  \n",
    "- Assignment  \n",
    "- Comparison  \n",
    "- Logical  \n",
    "- Membership  \n",
    "- Identity   \n",
    "\n",
    "Built-In Functions  \n",
    "Compound Data Structures  \n",
    "Type Conversion  \n"
   ]
  },
  {
   "cell_type": "markdown",
   "metadata": {},
   "source": [
    "#### Arithmetic Operators\n",
    "\n",
    "\n",
    "\\+ Addition   \n",
    "\\- Subtraction  \n",
    "\\* Multiplication  \n",
    "/ Division  \n",
    "% Mod (the remainder after dividing)  \n",
    "** Exponentiation (note that ^ does not do this operation, as you might have seen in other languages)  \n",
    "// Divides and rounds down to the nearest integer  \n",
    "\n",
    "Bitwise operators:  \n",
    "http://mathforum.org/dr.math/faq/faq.order.operations.html\n",
    "\n"
   ]
  },
  {
   "cell_type": "markdown",
   "metadata": {},
   "source": [
    "#### Dynamic typing"
   ]
  },
  {
   "cell_type": "code",
   "execution_count": 29,
   "metadata": {},
   "outputs": [
    {
     "name": "stdout",
     "output_type": "stream",
     "text": [
      "<class 'int'> 4\n",
      "<class 'float'> 4.0\n",
      "<class 'str'> 4\n",
      "<class 'int'> 4\n",
      "<class 'str'> 4\n"
     ]
    }
   ],
   "source": [
    "x = 4\n",
    "print(type(x), x)\n",
    "x = 4.0\n",
    "print(type(x), x)\n",
    "x = '4'\n",
    "print(type(x), x)\n",
    "x = int(x)\n",
    "print(type(x), x)\n",
    "x = str(x)\n",
    "print(type(x), x)"
   ]
  },
  {
   "cell_type": "markdown",
   "metadata": {},
   "source": [
    "#### Python implementation\n",
    "\n",
    "Python is written in C. Each Python object including simple data types like integer, float, string, and boolean are a C structure which contains several values.\n",
    "\n",
    "In C, an integer is a label for a position in memory whose bytes encode an integer value.\n",
    "\n",
    "In Python, an integer is a pointer to a position in memory containing all the Python object information."
   ]
  },
  {
   "cell_type": "raw",
   "metadata": {},
   "source": [
    "# Python integer\n",
    "struct _longobject {\n",
    "    long ob_REFCNT;        // reference count for memory allocation\n",
    "    PtTypeObject *ob_type; // type of variable\n",
    "    size_t ob_size;        // size of following data member\n",
    "    long ob_digit[1];      // actual integer value\n",
    "}"
   ]
  },
  {
   "cell_type": "markdown",
   "metadata": {},
   "source": [
    "#### Python Assignment"
   ]
  },
  {
   "cell_type": "code",
   "execution_count": 30,
   "metadata": {},
   "outputs": [
    {
     "data": {
      "text/plain": [
       "3"
      ]
     },
     "execution_count": 30,
     "metadata": {},
     "output_type": "execute_result"
    }
   ],
   "source": [
    "x = 1\n",
    "y = 2\n",
    "x + y"
   ]
  },
  {
   "cell_type": "code",
   "execution_count": 31,
   "metadata": {},
   "outputs": [
    {
     "data": {
      "text/plain": [
       "1"
      ]
     },
     "execution_count": 31,
     "metadata": {},
     "output_type": "execute_result"
    }
   ],
   "source": [
    "x"
   ]
  },
  {
   "cell_type": "markdown",
   "metadata": {},
   "source": [
    ">**Question**: \n",
    "My electricity bills for the last three months have been \\$23, \\$32 and \\$64. What is the average monthly electricity bill over the three month period? Write an expression to calculate the mean, and use print() to view the result.\n"
   ]
  },
  {
   "cell_type": "code",
   "execution_count": 38,
   "metadata": {},
   "outputs": [],
   "source": [
    "def mean(inputs):\n",
    "    total = 0\n",
    "    for x in inputs:\n",
    "        total += x\n",
    "    return x / len(inputs)"
   ]
  },
  {
   "cell_type": "code",
   "execution_count": 39,
   "metadata": {},
   "outputs": [
    {
     "name": "stdout",
     "output_type": "stream",
     "text": [
      "21.333333333333332\n"
     ]
    }
   ],
   "source": [
    "avg = mean([23,32,64]) # Your work here. Print the results\n",
    "print(avg)\n"
   ]
  },
  {
   "cell_type": "code",
   "execution_count": 40,
   "metadata": {},
   "outputs": [],
   "source": [
    "format?"
   ]
  },
  {
   "cell_type": "code",
   "execution_count": 41,
   "metadata": {},
   "outputs": [
    {
     "name": "stdout",
     "output_type": "stream",
     "text": [
      "Format String Syntax\n",
      "********************\n",
      "\n",
      "The \"str.format()\" method and the \"Formatter\" class share the same\n",
      "syntax for format strings (although in the case of \"Formatter\",\n",
      "subclasses can define their own format string syntax).  The syntax is\n",
      "related to that of formatted string literals, but there are\n",
      "differences.\n",
      "\n",
      "Format strings contain “replacement fields” surrounded by curly braces\n",
      "\"{}\". Anything that is not contained in braces is considered literal\n",
      "text, which is copied unchanged to the output.  If you need to include\n",
      "a brace character in the literal text, it can be escaped by doubling:\n",
      "\"{{\" and \"}}\".\n",
      "\n",
      "The grammar for a replacement field is as follows:\n",
      "\n",
      "      replacement_field ::= \"{\" [field_name] [\"!\" conversion] [\":\" format_spec] \"}\"\n",
      "      field_name        ::= arg_name (\".\" attribute_name | \"[\" element_index \"]\")*\n",
      "      arg_name          ::= [identifier | digit+]\n",
      "      attribute_name    ::= identifier\n",
      "      element_index     ::= digit+ | index_string\n",
      "      index_string      ::= <any source character except \"]\"> +\n",
      "      conversion        ::= \"r\" | \"s\" | \"a\"\n",
      "      format_spec       ::= <described in the next section>\n",
      "\n",
      "In less formal terms, the replacement field can start with a\n",
      "*field_name* that specifies the object whose value is to be formatted\n",
      "and inserted into the output instead of the replacement field. The\n",
      "*field_name* is optionally followed by a  *conversion* field, which is\n",
      "preceded by an exclamation point \"'!'\", and a *format_spec*, which is\n",
      "preceded by a colon \"':'\".  These specify a non-default format for the\n",
      "replacement value.\n",
      "\n",
      "See also the Format Specification Mini-Language section.\n",
      "\n",
      "The *field_name* itself begins with an *arg_name* that is either a\n",
      "number or a keyword.  If it’s a number, it refers to a positional\n",
      "argument, and if it’s a keyword, it refers to a named keyword\n",
      "argument.  If the numerical arg_names in a format string are 0, 1, 2,\n",
      "… in sequence, they can all be omitted (not just some) and the numbers\n",
      "0, 1, 2, … will be automatically inserted in that order. Because\n",
      "*arg_name* is not quote-delimited, it is not possible to specify\n",
      "arbitrary dictionary keys (e.g., the strings \"'10'\" or \"':-]'\") within\n",
      "a format string. The *arg_name* can be followed by any number of index\n",
      "or attribute expressions. An expression of the form \"'.name'\" selects\n",
      "the named attribute using \"getattr()\", while an expression of the form\n",
      "\"'[index]'\" does an index lookup using \"__getitem__()\".\n",
      "\n",
      "Changed in version 3.1: The positional argument specifiers can be\n",
      "omitted for \"str.format()\", so \"'{} {}'.format(a, b)\" is equivalent to\n",
      "\"'{0} {1}'.format(a, b)\".\n",
      "\n",
      "Changed in version 3.4: The positional argument specifiers can be\n",
      "omitted for \"Formatter\".\n",
      "\n",
      "Some simple format string examples:\n",
      "\n",
      "   \"First, thou shalt count to {0}\"  # References first positional argument\n",
      "   \"Bring me a {}\"                   # Implicitly references the first positional argument\n",
      "   \"From {} to {}\"                   # Same as \"From {0} to {1}\"\n",
      "   \"My quest is {name}\"              # References keyword argument 'name'\n",
      "   \"Weight in tons {0.weight}\"       # 'weight' attribute of first positional arg\n",
      "   \"Units destroyed: {players[0]}\"   # First element of keyword argument 'players'.\n",
      "\n",
      "The *conversion* field causes a type coercion before formatting.\n",
      "Normally, the job of formatting a value is done by the \"__format__()\"\n",
      "method of the value itself.  However, in some cases it is desirable to\n",
      "force a type to be formatted as a string, overriding its own\n",
      "definition of formatting.  By converting the value to a string before\n",
      "calling \"__format__()\", the normal formatting logic is bypassed.\n",
      "\n",
      "Three conversion flags are currently supported: \"'!s'\" which calls\n",
      "\"str()\" on the value, \"'!r'\" which calls \"repr()\" and \"'!a'\" which\n",
      "calls \"ascii()\".\n",
      "\n",
      "Some examples:\n",
      "\n",
      "   \"Harold's a clever {0!s}\"        # Calls str() on the argument first\n",
      "   \"Bring out the holy {name!r}\"    # Calls repr() on the argument first\n",
      "   \"More {!a}\"                      # Calls ascii() on the argument first\n",
      "\n",
      "The *format_spec* field contains a specification of how the value\n",
      "should be presented, including such details as field width, alignment,\n",
      "padding, decimal precision and so on.  Each value type can define its\n",
      "own “formatting mini-language” or interpretation of the *format_spec*.\n",
      "\n",
      "Most built-in types support a common formatting mini-language, which\n",
      "is described in the next section.\n",
      "\n",
      "A *format_spec* field can also include nested replacement fields\n",
      "within it. These nested replacement fields may contain a field name,\n",
      "conversion flag and format specification, but deeper nesting is not\n",
      "allowed.  The replacement fields within the format_spec are\n",
      "substituted before the *format_spec* string is interpreted. This\n",
      "allows the formatting of a value to be dynamically specified.\n",
      "\n",
      "See the Format examples section for some examples.\n",
      "\n",
      "\n",
      "Format Specification Mini-Language\n",
      "==================================\n",
      "\n",
      "“Format specifications” are used within replacement fields contained\n",
      "within a format string to define how individual values are presented\n",
      "(see Format String Syntax and Formatted string literals). They can\n",
      "also be passed directly to the built-in \"format()\" function.  Each\n",
      "formattable type may define how the format specification is to be\n",
      "interpreted.\n",
      "\n",
      "Most built-in types implement the following options for format\n",
      "specifications, although some of the formatting options are only\n",
      "supported by the numeric types.\n",
      "\n",
      "A general convention is that an empty format string (\"\"\"\") produces\n",
      "the same result as if you had called \"str()\" on the value. A non-empty\n",
      "format string typically modifies the result.\n",
      "\n",
      "The general form of a *standard format specifier* is:\n",
      "\n",
      "   format_spec     ::= [[fill]align][sign][#][0][width][grouping_option][.precision][type]\n",
      "   fill            ::= <any character>\n",
      "   align           ::= \"<\" | \">\" | \"=\" | \"^\"\n",
      "   sign            ::= \"+\" | \"-\" | \" \"\n",
      "   width           ::= digit+\n",
      "   grouping_option ::= \"_\" | \",\"\n",
      "   precision       ::= digit+\n",
      "   type            ::= \"b\" | \"c\" | \"d\" | \"e\" | \"E\" | \"f\" | \"F\" | \"g\" | \"G\" | \"n\" | \"o\" | \"s\" | \"x\" | \"X\" | \"%\"\n",
      "\n",
      "If a valid *align* value is specified, it can be preceded by a *fill*\n",
      "character that can be any character and defaults to a space if\n",
      "omitted. It is not possible to use a literal curly brace (“\"{\"” or\n",
      "“\"}\"”) as the *fill* character in a formatted string literal or when\n",
      "using the \"str.format()\" method.  However, it is possible to insert a\n",
      "curly brace with a nested replacement field.  This limitation doesn’t\n",
      "affect the \"format()\" function.\n",
      "\n",
      "The meaning of the various alignment options is as follows:\n",
      "\n",
      "   +-----------+------------------------------------------------------------+\n",
      "   | Option    | Meaning                                                    |\n",
      "   +===========+============================================================+\n",
      "   | \"'<'\"     | Forces the field to be left-aligned within the available   |\n",
      "   |           | space (this is the default for most objects).              |\n",
      "   +-----------+------------------------------------------------------------+\n",
      "   | \"'>'\"     | Forces the field to be right-aligned within the available  |\n",
      "   |           | space (this is the default for numbers).                   |\n",
      "   +-----------+------------------------------------------------------------+\n",
      "   | \"'='\"     | Forces the padding to be placed after the sign (if any)    |\n",
      "   |           | but before the digits.  This is used for printing fields   |\n",
      "   |           | in the form ‘+000000120’. This alignment option is only    |\n",
      "   |           | valid for numeric types.  It becomes the default when ‘0’  |\n",
      "   |           | immediately precedes the field width.                      |\n",
      "   +-----------+------------------------------------------------------------+\n",
      "   | \"'^'\"     | Forces the field to be centered within the available       |\n",
      "   |           | space.                                                     |\n",
      "   +-----------+------------------------------------------------------------+\n",
      "\n",
      "Note that unless a minimum field width is defined, the field width\n",
      "will always be the same size as the data to fill it, so that the\n",
      "alignment option has no meaning in this case.\n",
      "\n",
      "The *sign* option is only valid for number types, and can be one of\n",
      "the following:\n",
      "\n",
      "   +-----------+------------------------------------------------------------+\n",
      "   | Option    | Meaning                                                    |\n",
      "   +===========+============================================================+\n",
      "   | \"'+'\"     | indicates that a sign should be used for both positive as  |\n",
      "   |           | well as negative numbers.                                  |\n",
      "   +-----------+------------------------------------------------------------+\n",
      "   | \"'-'\"     | indicates that a sign should be used only for negative     |\n",
      "   |           | numbers (this is the default behavior).                    |\n",
      "   +-----------+------------------------------------------------------------+\n",
      "   | space     | indicates that a leading space should be used on positive  |\n",
      "   |           | numbers, and a minus sign on negative numbers.             |\n",
      "   +-----------+------------------------------------------------------------+\n",
      "\n",
      "The \"'#'\" option causes the “alternate form” to be used for the\n",
      "conversion.  The alternate form is defined differently for different\n",
      "types.  This option is only valid for integer, float, complex and\n",
      "Decimal types. For integers, when binary, octal, or hexadecimal output\n",
      "is used, this option adds the prefix respective \"'0b'\", \"'0o'\", or\n",
      "\"'0x'\" to the output value. For floats, complex and Decimal the\n",
      "alternate form causes the result of the conversion to always contain a\n",
      "decimal-point character, even if no digits follow it. Normally, a\n",
      "decimal-point character appears in the result of these conversions\n",
      "only if a digit follows it. In addition, for \"'g'\" and \"'G'\"\n",
      "conversions, trailing zeros are not removed from the result.\n",
      "\n",
      "The \"','\" option signals the use of a comma for a thousands separator.\n",
      "For a locale aware separator, use the \"'n'\" integer presentation type\n",
      "instead.\n",
      "\n",
      "Changed in version 3.1: Added the \"','\" option (see also **PEP 378**).\n",
      "\n",
      "The \"'_'\" option signals the use of an underscore for a thousands\n",
      "separator for floating point presentation types and for integer\n",
      "presentation type \"'d'\".  For integer presentation types \"'b'\", \"'o'\",\n",
      "\"'x'\", and \"'X'\", underscores will be inserted every 4 digits.  For\n",
      "other presentation types, specifying this option is an error.\n",
      "\n",
      "Changed in version 3.6: Added the \"'_'\" option (see also **PEP 515**).\n",
      "\n",
      "*width* is a decimal integer defining the minimum field width.  If not\n",
      "specified, then the field width will be determined by the content.\n",
      "\n",
      "When no explicit alignment is given, preceding the *width* field by a\n",
      "zero (\"'0'\") character enables sign-aware zero-padding for numeric\n",
      "types.  This is equivalent to a *fill* character of \"'0'\" with an\n",
      "*alignment* type of \"'='\".\n",
      "\n",
      "The *precision* is a decimal number indicating how many digits should\n",
      "be displayed after the decimal point for a floating point value\n",
      "formatted with \"'f'\" and \"'F'\", or before and after the decimal point\n",
      "for a floating point value formatted with \"'g'\" or \"'G'\".  For non-\n",
      "number types the field indicates the maximum field size - in other\n",
      "words, how many characters will be used from the field content. The\n",
      "*precision* is not allowed for integer values.\n",
      "\n",
      "Finally, the *type* determines how the data should be presented.\n",
      "\n",
      "The available string presentation types are:\n",
      "\n",
      "   +-----------+------------------------------------------------------------+\n",
      "   | Type      | Meaning                                                    |\n",
      "   +===========+============================================================+\n",
      "   | \"'s'\"     | String format. This is the default type for strings and    |\n",
      "   |           | may be omitted.                                            |\n",
      "   +-----------+------------------------------------------------------------+\n",
      "   | None      | The same as \"'s'\".                                         |\n",
      "   +-----------+------------------------------------------------------------+\n",
      "\n",
      "The available integer presentation types are:\n",
      "\n",
      "   +-----------+------------------------------------------------------------+\n",
      "   | Type      | Meaning                                                    |\n",
      "   +===========+============================================================+\n",
      "   | \"'b'\"     | Binary format. Outputs the number in base 2.               |\n",
      "   +-----------+------------------------------------------------------------+\n",
      "   | \"'c'\"     | Character. Converts the integer to the corresponding       |\n",
      "   |           | unicode character before printing.                         |\n",
      "   +-----------+------------------------------------------------------------+\n",
      "   | \"'d'\"     | Decimal Integer. Outputs the number in base 10.            |\n",
      "   +-----------+------------------------------------------------------------+\n",
      "   | \"'o'\"     | Octal format. Outputs the number in base 8.                |\n",
      "   +-----------+------------------------------------------------------------+\n",
      "   | \"'x'\"     | Hex format. Outputs the number in base 16, using lower-    |\n",
      "   |           | case letters for the digits above 9.                       |\n",
      "   +-----------+------------------------------------------------------------+\n",
      "   | \"'X'\"     | Hex format. Outputs the number in base 16, using upper-    |\n",
      "   |           | case letters for the digits above 9.                       |\n",
      "   +-----------+------------------------------------------------------------+\n",
      "   | \"'n'\"     | Number. This is the same as \"'d'\", except that it uses the |\n",
      "   |           | current locale setting to insert the appropriate number    |\n",
      "   |           | separator characters.                                      |\n",
      "   +-----------+------------------------------------------------------------+\n",
      "   | None      | The same as \"'d'\".                                         |\n",
      "   +-----------+------------------------------------------------------------+\n",
      "\n",
      "In addition to the above presentation types, integers can be formatted\n",
      "with the floating point presentation types listed below (except \"'n'\"\n",
      "and \"None\"). When doing so, \"float()\" is used to convert the integer\n",
      "to a floating point number before formatting.\n",
      "\n",
      "The available presentation types for floating point and decimal values\n",
      "are:\n",
      "\n",
      "   +-----------+------------------------------------------------------------+\n",
      "   | Type      | Meaning                                                    |\n",
      "   +===========+============================================================+\n",
      "   | \"'e'\"     | Exponent notation. Prints the number in scientific         |\n",
      "   |           | notation using the letter ‘e’ to indicate the exponent.    |\n",
      "   |           | The default precision is \"6\".                              |\n",
      "   +-----------+------------------------------------------------------------+\n",
      "   | \"'E'\"     | Exponent notation. Same as \"'e'\" except it uses an upper   |\n",
      "   |           | case ‘E’ as the separator character.                       |\n",
      "   +-----------+------------------------------------------------------------+\n",
      "   | \"'f'\"     | Fixed-point notation. Displays the number as a fixed-point |\n",
      "   |           | number. The default precision is \"6\".                      |\n",
      "   +-----------+------------------------------------------------------------+\n",
      "   | \"'F'\"     | Fixed-point notation. Same as \"'f'\", but converts \"nan\" to |\n",
      "   |           | \"NAN\" and \"inf\" to \"INF\".                                  |\n",
      "   +-----------+------------------------------------------------------------+\n",
      "   | \"'g'\"     | General format.  For a given precision \"p >= 1\", this      |\n",
      "   |           | rounds the number to \"p\" significant digits and then       |\n",
      "   |           | formats the result in either fixed-point format or in      |\n",
      "   |           | scientific notation, depending on its magnitude.  The      |\n",
      "   |           | precise rules are as follows: suppose that the result      |\n",
      "   |           | formatted with presentation type \"'e'\" and precision \"p-1\" |\n",
      "   |           | would have exponent \"exp\".  Then if \"-4 <= exp < p\", the   |\n",
      "   |           | number is formatted with presentation type \"'f'\" and       |\n",
      "   |           | precision \"p-1-exp\".  Otherwise, the number is formatted   |\n",
      "   |           | with presentation type \"'e'\" and precision \"p-1\". In both  |\n",
      "   |           | cases insignificant trailing zeros are removed from the    |\n",
      "   |           | significand, and the decimal point is also removed if      |\n",
      "   |           | there are no remaining digits following it.  Positive and  |\n",
      "   |           | negative infinity, positive and negative zero, and nans,   |\n",
      "   |           | are formatted as \"inf\", \"-inf\", \"0\", \"-0\" and \"nan\"        |\n",
      "   |           | respectively, regardless of the precision.  A precision of |\n",
      "   |           | \"0\" is treated as equivalent to a precision of \"1\". The    |\n",
      "   |           | default precision is \"6\".                                  |\n",
      "   +-----------+------------------------------------------------------------+\n",
      "   | \"'G'\"     | General format. Same as \"'g'\" except switches to \"'E'\" if  |\n",
      "   |           | the number gets too large. The representations of infinity |\n",
      "   |           | and NaN are uppercased, too.                               |\n",
      "   +-----------+------------------------------------------------------------+\n",
      "   | \"'n'\"     | Number. This is the same as \"'g'\", except that it uses the |\n",
      "   |           | current locale setting to insert the appropriate number    |\n",
      "   |           | separator characters.                                      |\n",
      "   +-----------+------------------------------------------------------------+\n",
      "   | \"'%'\"     | Percentage. Multiplies the number by 100 and displays in   |\n",
      "   |           | fixed (\"'f'\") format, followed by a percent sign.          |\n",
      "   +-----------+------------------------------------------------------------+\n",
      "   | None      | Similar to \"'g'\", except that fixed-point notation, when   |\n",
      "   |           | used, has at least one digit past the decimal point. The   |\n",
      "   |           | default precision is as high as needed to represent the    |\n",
      "   |           | particular value. The overall effect is to match the       |\n",
      "   |           | output of \"str()\" as altered by the other format           |\n",
      "   |           | modifiers.                                                 |\n",
      "   +-----------+------------------------------------------------------------+\n",
      "\n",
      "\n",
      "Format examples\n",
      "===============\n",
      "\n",
      "This section contains examples of the \"str.format()\" syntax and\n",
      "comparison with the old \"%\"-formatting.\n",
      "\n",
      "In most of the cases the syntax is similar to the old \"%\"-formatting,\n",
      "with the addition of the \"{}\" and with \":\" used instead of \"%\". For\n",
      "example, \"'%03.2f'\" can be translated to \"'{:03.2f}'\".\n",
      "\n",
      "The new format syntax also supports new and different options, shown\n",
      "in the following examples.\n",
      "\n",
      "Accessing arguments by position:\n",
      "\n",
      "   >>> '{0}, {1}, {2}'.format('a', 'b', 'c')\n",
      "   'a, b, c'\n",
      "   >>> '{}, {}, {}'.format('a', 'b', 'c')  # 3.1+ only\n",
      "   'a, b, c'\n",
      "   >>> '{2}, {1}, {0}'.format('a', 'b', 'c')\n",
      "   'c, b, a'\n",
      "   >>> '{2}, {1}, {0}'.format(*'abc')      # unpacking argument sequence\n",
      "   'c, b, a'\n",
      "   >>> '{0}{1}{0}'.format('abra', 'cad')   # arguments' indices can be repeated\n",
      "   'abracadabra'\n",
      "\n",
      "Accessing arguments by name:\n",
      "\n",
      "   >>> 'Coordinates: {latitude}, {longitude}'.format(latitude='37.24N', longitude='-115.81W')\n",
      "   'Coordinates: 37.24N, -115.81W'\n",
      "   >>> coord = {'latitude': '37.24N', 'longitude': '-115.81W'}\n",
      "   >>> 'Coordinates: {latitude}, {longitude}'.format(**coord)\n",
      "   'Coordinates: 37.24N, -115.81W'\n",
      "\n",
      "Accessing arguments’ attributes:\n",
      "\n",
      "   >>> c = 3-5j\n",
      "   >>> ('The complex number {0} is formed from the real part {0.real} '\n",
      "   ...  'and the imaginary part {0.imag}.').format(c)\n",
      "   'The complex number (3-5j) is formed from the real part 3.0 and the imaginary part -5.0.'\n",
      "   >>> class Point:\n",
      "   ...     def __init__(self, x, y):\n",
      "   ...         self.x, self.y = x, y\n",
      "   ...     def __str__(self):\n",
      "   ...         return 'Point({self.x}, {self.y})'.format(self=self)\n",
      "   ...\n",
      "   >>> str(Point(4, 2))\n",
      "   'Point(4, 2)'\n",
      "\n",
      "Accessing arguments’ items:\n",
      "\n",
      "   >>> coord = (3, 5)\n",
      "   >>> 'X: {0[0]};  Y: {0[1]}'.format(coord)\n",
      "   'X: 3;  Y: 5'\n",
      "\n",
      "Replacing \"%s\" and \"%r\":\n",
      "\n",
      "   >>> \"repr() shows quotes: {!r}; str() doesn't: {!s}\".format('test1', 'test2')\n",
      "   \"repr() shows quotes: 'test1'; str() doesn't: test2\"\n",
      "\n",
      "Aligning the text and specifying a width:\n",
      "\n",
      "   >>> '{:<30}'.format('left aligned')\n",
      "   'left aligned                  '\n",
      "   >>> '{:>30}'.format('right aligned')\n",
      "   '                 right aligned'\n",
      "   >>> '{:^30}'.format('centered')\n",
      "   '           centered           '\n",
      "   >>> '{:*^30}'.format('centered')  # use '*' as a fill char\n",
      "   '***********centered***********'\n",
      "\n",
      "Replacing \"%+f\", \"%-f\", and \"% f\" and specifying a sign:\n",
      "\n",
      "   >>> '{:+f}; {:+f}'.format(3.14, -3.14)  # show it always\n",
      "   '+3.140000; -3.140000'\n",
      "   >>> '{: f}; {: f}'.format(3.14, -3.14)  # show a space for positive numbers\n",
      "   ' 3.140000; -3.140000'\n",
      "   >>> '{:-f}; {:-f}'.format(3.14, -3.14)  # show only the minus -- same as '{:f}; {:f}'\n",
      "   '3.140000; -3.140000'\n",
      "\n",
      "Replacing \"%x\" and \"%o\" and converting the value to different bases:\n",
      "\n",
      "   >>> # format also supports binary numbers\n",
      "   >>> \"int: {0:d};  hex: {0:x};  oct: {0:o};  bin: {0:b}\".format(42)\n",
      "   'int: 42;  hex: 2a;  oct: 52;  bin: 101010'\n",
      "   >>> # with 0x, 0o, or 0b as prefix:\n",
      "   >>> \"int: {0:d};  hex: {0:#x};  oct: {0:#o};  bin: {0:#b}\".format(42)\n",
      "   'int: 42;  hex: 0x2a;  oct: 0o52;  bin: 0b101010'\n",
      "\n",
      "Using the comma as a thousands separator:\n",
      "\n",
      "   >>> '{:,}'.format(1234567890)\n",
      "   '1,234,567,890'\n",
      "\n",
      "Expressing a percentage:\n",
      "\n",
      "   >>> points = 19\n",
      "   >>> total = 22\n",
      "   >>> 'Correct answers: {:.2%}'.format(points/total)\n",
      "   'Correct answers: 86.36%'\n",
      "\n",
      "Using type-specific formatting:\n",
      "\n",
      "   >>> import datetime\n",
      "   >>> d = datetime.datetime(2010, 7, 4, 12, 15, 58)\n",
      "   >>> '{:%Y-%m-%d %H:%M:%S}'.format(d)\n",
      "   '2010-07-04 12:15:58'\n",
      "\n",
      "Nesting arguments and more complex examples:\n",
      "\n",
      "   >>> for align, text in zip('<^>', ['left', 'center', 'right']):\n",
      "   ...     '{0:{fill}{align}16}'.format(text, fill=align, align=align)\n",
      "   ...\n",
      "   'left<<<<<<<<<<<<'\n",
      "   '^^^^^center^^^^^'\n",
      "   '>>>>>>>>>>>right'\n",
      "   >>>\n",
      "   >>> octets = [192, 168, 0, 1]\n",
      "   >>> '{:02X}{:02X}{:02X}{:02X}'.format(*octets)\n",
      "   'C0A80001'\n",
      "   >>> int(_, 16)\n",
      "   3232235521\n",
      "   >>>\n",
      "   >>> width = 5\n",
      "   >>> for num in range(5,12): \n",
      "   ...     for base in 'dXob':\n",
      "   ...         print('{0:{width}{base}}'.format(num, base=base, width=width), end=' ')\n",
      "   ...     print()\n",
      "   ...\n",
      "       5     5     5   101\n",
      "       6     6     6   110\n",
      "       7     7     7   111\n",
      "       8     8    10  1000\n",
      "       9     9    11  1001\n",
      "      10     A    12  1010\n",
      "      11     B    13  1011\n",
      "\n",
      "Related help topics: OPERATORS\n",
      "\n"
     ]
    }
   ],
   "source": [
    "help('FORMATTING')"
   ]
  },
  {
   "cell_type": "code",
   "execution_count": 49,
   "metadata": {},
   "outputs": [
    {
     "data": {
      "text/plain": [
       "'21.333333333333332'"
      ]
     },
     "execution_count": 49,
     "metadata": {},
     "output_type": "execute_result"
    }
   ],
   "source": [
    "str.format(\"{}\", avg)"
   ]
  },
  {
   "cell_type": "code",
   "execution_count": 53,
   "metadata": {},
   "outputs": [
    {
     "data": {
      "text/plain": [
       "'21.333333333333332'"
      ]
     },
     "execution_count": 53,
     "metadata": {},
     "output_type": "execute_result"
    }
   ],
   "source": [
    "str.format(\"{!a}\", avg)"
   ]
  },
  {
   "cell_type": "code",
   "execution_count": 77,
   "metadata": {},
   "outputs": [],
   "source": [
    "def testFormats(test_string, is_int = False):\n",
    "    examples = [\"!s: {}\", \"!a: {!a}\", \"!r: {!r}\"]\n",
    "    \n",
    "    for x in examples:\n",
    "        print(str.format(x, test_string))\n",
    "        \n",
    "    examples_int = [\"{}\", \"{:.1}\", \"{:.3}\", \"{:.1f}\", \"{:.3f}\"]\n",
    "    if is_int:\n",
    "        for x in examples_int:\n",
    "            print(str.format(x, test_string))"
   ]
  },
  {
   "cell_type": "code",
   "execution_count": 78,
   "metadata": {},
   "outputs": [
    {
     "name": "stdout",
     "output_type": "stream",
     "text": [
      "!s: alsdjfklasjdf\n",
      "!a: 'alsdjfklasjdf'\n",
      "!r: 'alsdjfklasjdf'\n"
     ]
    }
   ],
   "source": [
    "testFormats(\"alsdjfklasjdf\")"
   ]
  },
  {
   "cell_type": "code",
   "execution_count": 79,
   "metadata": {},
   "outputs": [
    {
     "name": "stdout",
     "output_type": "stream",
     "text": [
      "!s: 21.333333333333332\n",
      "!a: 21.333333333333332\n",
      "!r: 21.333333333333332\n",
      "21.333333333333332\n",
      "2e+01\n",
      "21.3\n",
      "21.3\n",
      "21.333\n"
     ]
    }
   ],
   "source": [
    "testFormats(avg, True)"
   ]
  },
  {
   "cell_type": "code",
   "execution_count": 82,
   "metadata": {},
   "outputs": [
    {
     "name": "stdout",
     "output_type": "stream",
     "text": [
      "The average electricity bill for the last three months was $21.33\n"
     ]
    }
   ],
   "source": [
    "print(\"The average electricity bill for the last three months was ${:.2f}\".format(avg))"
   ]
  },
  {
   "cell_type": "code",
   "execution_count": 86,
   "metadata": {},
   "outputs": [
    {
     "name": "stdout",
     "output_type": "stream",
     "text": [
      "The average electricity bill for the last three months was $21.33\n"
     ]
    }
   ],
   "source": [
    "print(\"The average electricity bill for the last three months was $%.2f\" % avg)"
   ]
  },
  {
   "cell_type": "markdown",
   "metadata": {},
   "source": [
    ">**Question**: \n",
    "Complete the following.\n",
    "\n",
    "Note that this code uses scientific notation to define large numbers. 4.445e8 is equal to 4.445 10 * 8 which is equal to 444500000.0."
   ]
  },
  {
   "cell_type": "code",
   "execution_count": 95,
   "metadata": {},
   "outputs": [
    {
     "name": "stdout",
     "output_type": "stream",
     "text": [
      "reservoir_volume: 447627500\n"
     ]
    }
   ],
   "source": [
    "# The current volume of a water reservoir (in cubic metres)\n",
    "reservoir_volume = 4.445e8\n",
    "# The amount of rainfall from a storm (in cubic metres)\n",
    "rainfall = 5e6\n",
    "\n",
    "# decrease the rainfall variable by 10% to account for runoff\n",
    "rainfall *= .9\n",
    "\n",
    "# add the rainfall variable to the reservoir_volume variable\n",
    "reservoir_volume += rainfall\n",
    "\n",
    "# increase reservoir_volume by 5% to account for stormwater that flows\n",
    "# into the reservoir in the days following the storm\n",
    "reservoir_volume *= 1.05\n",
    "\n",
    "# decrease reservoir_volume by 5% to account for evaporation\n",
    "reservoir_volume *= .95\n",
    "\n",
    "# subtract 2.5e5 cubic metres from reservoir_volume to account for water\n",
    "# that's piped to arid regions.\n",
    "reservoir_volume -= 2.5e5\n",
    "\n",
    "# print the new value of the reservoir_volume variable\n",
    "print(\"reservoir_volume: {:.0f}\".format(reservoir_volume))"
   ]
  },
  {
   "cell_type": "markdown",
   "metadata": {},
   "source": [
    "#### Functions"
   ]
  },
  {
   "cell_type": "markdown",
   "metadata": {},
   "source": [
    "<br>\n",
    "`add_numbers` is a function that takes two numbers and adds them together."
   ]
  },
  {
   "cell_type": "code",
   "execution_count": 96,
   "metadata": {},
   "outputs": [
    {
     "data": {
      "text/plain": [
       "3"
      ]
     },
     "execution_count": 96,
     "metadata": {},
     "output_type": "execute_result"
    }
   ],
   "source": [
    "def add_numbers(x, y):\n",
    "    return x + y\n",
    "\n",
    "add_numbers(1, 2)"
   ]
  },
  {
   "cell_type": "markdown",
   "metadata": {},
   "source": [
    "<br>\n",
    "`add_numbers` updated to take an optional 3rd parameter. Using `print` allows printing of multiple expressions within a single cell."
   ]
  },
  {
   "cell_type": "code",
   "execution_count": 97,
   "metadata": {},
   "outputs": [
    {
     "name": "stdout",
     "output_type": "stream",
     "text": [
      "3\n",
      "6\n"
     ]
    }
   ],
   "source": [
    "def add_numbers(x,y,z=None):\n",
    "    if (z==None):\n",
    "        return x+y\n",
    "    else:\n",
    "        return x+y+z\n",
    "\n",
    "print(add_numbers(1, 2))\n",
    "print(add_numbers(1, 2, 3))"
   ]
  },
  {
   "cell_type": "markdown",
   "metadata": {},
   "source": [
    "<br>\n",
    "`add_numbers` updated to take an optional flag parameter."
   ]
  },
  {
   "cell_type": "code",
   "execution_count": 98,
   "metadata": {},
   "outputs": [
    {
     "name": "stdout",
     "output_type": "stream",
     "text": [
      "Flag is true!\n",
      "3\n"
     ]
    }
   ],
   "source": [
    "def add_numbers(x, y, z=None, flag=False):\n",
    "    if (flag):\n",
    "        print('Flag is true!')\n",
    "    if (z==None):\n",
    "        return x + y\n",
    "    else:\n",
    "        return x + y + z\n",
    "    \n",
    "print(add_numbers(1, 2, flag=True))"
   ]
  },
  {
   "cell_type": "markdown",
   "metadata": {},
   "source": [
    "<br>\n",
    "Assign function `add_numbers` to variable `a`."
   ]
  },
  {
   "cell_type": "code",
   "execution_count": 99,
   "metadata": {},
   "outputs": [
    {
     "data": {
      "text/plain": [
       "3"
      ]
     },
     "execution_count": 99,
     "metadata": {},
     "output_type": "execute_result"
    }
   ],
   "source": [
    "def add_numbers(x,y):\n",
    "    return x+y\n",
    "\n",
    "a = add_numbers\n",
    "a(1,2)"
   ]
  },
  {
   "cell_type": "markdown",
   "metadata": {},
   "source": [
    ">**Question**: \n",
    "Complete the following.\n",
    "\n",
    "Complete the steps below."
   ]
  },
  {
   "cell_type": "code",
   "execution_count": 103,
   "metadata": {},
   "outputs": [
    {
     "data": {
      "text/plain": [
       "3.0"
      ]
     },
     "execution_count": 103,
     "metadata": {},
     "output_type": "execute_result"
    }
   ],
   "source": [
    "# Write calc_mean(x,y,z) that returns the mean of 3 numbers.\n",
    "def calc_mean(x,y,z):\n",
    "    return (x + y + z) / 3\n",
    "# Assign calc_mean to a variable 'avg'\n",
    "avg = calc_mean\n",
    "# Execute avg with 1, 3, and 5; display the results\n",
    "avg(*[1,3,5])"
   ]
  },
  {
   "cell_type": "markdown",
   "metadata": {},
   "source": [
    "#### Types"
   ]
  },
  {
   "cell_type": "markdown",
   "metadata": {},
   "source": [
    "\n",
    "Use `type` to return the object's type."
   ]
  },
  {
   "cell_type": "code",
   "execution_count": 104,
   "metadata": {},
   "outputs": [
    {
     "data": {
      "text/plain": [
       "str"
      ]
     },
     "execution_count": 104,
     "metadata": {},
     "output_type": "execute_result"
    }
   ],
   "source": [
    "type('This is a string')"
   ]
  },
  {
   "cell_type": "code",
   "execution_count": 105,
   "metadata": {},
   "outputs": [
    {
     "data": {
      "text/plain": [
       "NoneType"
      ]
     },
     "execution_count": 105,
     "metadata": {},
     "output_type": "execute_result"
    }
   ],
   "source": [
    "type(None)"
   ]
  },
  {
   "cell_type": "code",
   "execution_count": 106,
   "metadata": {},
   "outputs": [
    {
     "data": {
      "text/plain": [
       "int"
      ]
     },
     "execution_count": 106,
     "metadata": {},
     "output_type": "execute_result"
    }
   ],
   "source": [
    "type(1)"
   ]
  },
  {
   "cell_type": "code",
   "execution_count": 107,
   "metadata": {},
   "outputs": [
    {
     "data": {
      "text/plain": [
       "float"
      ]
     },
     "execution_count": 107,
     "metadata": {},
     "output_type": "execute_result"
    }
   ],
   "source": [
    "type(1.0)"
   ]
  },
  {
   "cell_type": "code",
   "execution_count": 108,
   "metadata": {},
   "outputs": [
    {
     "data": {
      "text/plain": [
       "function"
      ]
     },
     "execution_count": 108,
     "metadata": {},
     "output_type": "execute_result"
    }
   ],
   "source": [
    "type(add_numbers)"
   ]
  },
  {
   "cell_type": "markdown",
   "metadata": {},
   "source": [
    ">**Question**: \n",
    "\n",
    "In the fishy situation below, some of the quantities are of type int and some are of type float. \n",
    "\n",
    "Identify the ones that should be of type float.\n",
    "\n",
    "- How many people came on your fishing trip?  **Int**\n",
    "- Length of a fish caught, in meters. **float**\n",
    "- Number of fish caught on a fishing trip. **int** or float if you fish with my friends\n",
    "- Length of time it took to catch the first fish, in hours. **int**"
   ]
  },
  {
   "cell_type": "markdown",
   "metadata": {},
   "source": [
    "#### Answer here:\n",
    "- How many people came on your fishing trip? \n",
    "\n",
    "        int\n",
    "- Length of a fish caught, in meters.  \n",
    "\n",
    "        float\n",
    "- Number of fish caught on a fishing trip.  \n",
    "\n",
    "        int\n",
    "- Length of time it took to catch the first fish, in hours. \n",
    "\n",
    "        int\n"
   ]
  },
  {
   "cell_type": "markdown",
   "metadata": {},
   "source": [
    "#### Sequences"
   ]
  },
  {
   "cell_type": "markdown",
   "metadata": {},
   "source": [
    "`Tuples` are an immutable (cannot be altered) data structure."
   ]
  },
  {
   "cell_type": "code",
   "execution_count": 109,
   "metadata": {},
   "outputs": [
    {
     "data": {
      "text/plain": [
       "tuple"
      ]
     },
     "execution_count": 109,
     "metadata": {},
     "output_type": "execute_result"
    }
   ],
   "source": [
    "x = (1, 'a', 2, 'b')\n",
    "type(x)"
   ]
  },
  {
   "cell_type": "code",
   "execution_count": 112,
   "metadata": {},
   "outputs": [],
   "source": [
    "tuple??"
   ]
  },
  {
   "cell_type": "code",
   "execution_count": 113,
   "metadata": {},
   "outputs": [
    {
     "name": "stdout",
     "output_type": "stream",
     "text": [
      "Help on class tuple in module builtins:\n",
      "\n",
      "class tuple(object)\n",
      " |  tuple() -> empty tuple\n",
      " |  tuple(iterable) -> tuple initialized from iterable's items\n",
      " |  \n",
      " |  If the argument is a tuple, the return value is the same object.\n",
      " |  \n",
      " |  Methods defined here:\n",
      " |  \n",
      " |  __add__(self, value, /)\n",
      " |      Return self+value.\n",
      " |  \n",
      " |  __contains__(self, key, /)\n",
      " |      Return key in self.\n",
      " |  \n",
      " |  __eq__(self, value, /)\n",
      " |      Return self==value.\n",
      " |  \n",
      " |  __ge__(self, value, /)\n",
      " |      Return self>=value.\n",
      " |  \n",
      " |  __getattribute__(self, name, /)\n",
      " |      Return getattr(self, name).\n",
      " |  \n",
      " |  __getitem__(self, key, /)\n",
      " |      Return self[key].\n",
      " |  \n",
      " |  __getnewargs__(...)\n",
      " |  \n",
      " |  __gt__(self, value, /)\n",
      " |      Return self>value.\n",
      " |  \n",
      " |  __hash__(self, /)\n",
      " |      Return hash(self).\n",
      " |  \n",
      " |  __iter__(self, /)\n",
      " |      Implement iter(self).\n",
      " |  \n",
      " |  __le__(self, value, /)\n",
      " |      Return self<=value.\n",
      " |  \n",
      " |  __len__(self, /)\n",
      " |      Return len(self).\n",
      " |  \n",
      " |  __lt__(self, value, /)\n",
      " |      Return self<value.\n",
      " |  \n",
      " |  __mul__(self, value, /)\n",
      " |      Return self*value.\n",
      " |  \n",
      " |  __ne__(self, value, /)\n",
      " |      Return self!=value.\n",
      " |  \n",
      " |  __new__(*args, **kwargs) from builtins.type\n",
      " |      Create and return a new object.  See help(type) for accurate signature.\n",
      " |  \n",
      " |  __repr__(self, /)\n",
      " |      Return repr(self).\n",
      " |  \n",
      " |  __rmul__(self, value, /)\n",
      " |      Return value*self.\n",
      " |  \n",
      " |  count(...)\n",
      " |      T.count(value) -> integer -- return number of occurrences of value\n",
      " |  \n",
      " |  index(...)\n",
      " |      T.index(value, [start, [stop]]) -> integer -- return first index of value.\n",
      " |      Raises ValueError if the value is not present.\n",
      "\n"
     ]
    }
   ],
   "source": [
    "help(tuple)"
   ]
  },
  {
   "cell_type": "markdown",
   "metadata": {},
   "source": [
    "`Lists` are a mutable data structure. \n",
    "\n",
    "Types can be mixed within a list."
   ]
  },
  {
   "cell_type": "code",
   "execution_count": 110,
   "metadata": {},
   "outputs": [
    {
     "data": {
      "text/plain": [
       "list"
      ]
     },
     "execution_count": 110,
     "metadata": {},
     "output_type": "execute_result"
    }
   ],
   "source": [
    "x = [1, 'a', 2, 'b']\n",
    "type(x)"
   ]
  },
  {
   "cell_type": "markdown",
   "metadata": {},
   "source": [
    "<br>\n",
    "Use `append` to append an object to a list."
   ]
  },
  {
   "cell_type": "code",
   "execution_count": 111,
   "metadata": {},
   "outputs": [
    {
     "name": "stdout",
     "output_type": "stream",
     "text": [
      "[1, 'a', 2, 'b', 3.3]\n"
     ]
    }
   ],
   "source": [
    "x.append(3.3)\n",
    "print(x)"
   ]
  },
  {
   "cell_type": "markdown",
   "metadata": {},
   "source": [
    "<br>\n",
    "This is an example of how to loop through each item `in` the list."
   ]
  },
  {
   "cell_type": "code",
   "execution_count": null,
   "metadata": {},
   "outputs": [],
   "source": [
    "for item in x:\n",
    "    print(item)"
   ]
  },
  {
   "cell_type": "markdown",
   "metadata": {},
   "source": [
    "<br>\n",
    "Or using the indexing `[]` operator:"
   ]
  },
  {
   "cell_type": "code",
   "execution_count": null,
   "metadata": {},
   "outputs": [],
   "source": [
    "i=0\n",
    "while( i != len(x) ):\n",
    "    print(x[i])\n",
    "    i = i + 1"
   ]
  },
  {
   "cell_type": "markdown",
   "metadata": {},
   "source": [
    "<br>\n",
    "Use `+` to concatenate lists."
   ]
  },
  {
   "cell_type": "code",
   "execution_count": null,
   "metadata": {},
   "outputs": [],
   "source": [
    "[1,2] + [3,4]"
   ]
  },
  {
   "cell_type": "markdown",
   "metadata": {},
   "source": [
    "<br>\n",
    "Use `*` to repeat lists."
   ]
  },
  {
   "cell_type": "code",
   "execution_count": null,
   "metadata": {},
   "outputs": [],
   "source": [
    "[1]*3"
   ]
  },
  {
   "cell_type": "markdown",
   "metadata": {},
   "source": [
    "<br>\n",
    "Use the `in` operator to check if something is inside a list."
   ]
  },
  {
   "cell_type": "code",
   "execution_count": null,
   "metadata": {},
   "outputs": [],
   "source": [
    "1 in [1, 2, 3]"
   ]
  },
  {
   "cell_type": "markdown",
   "metadata": {},
   "source": [
    ">**Question**: \n",
    "Print out the following list in alphabetic order and reverse alphabetic order by the entire name:\n"
   ]
  },
  {
   "cell_type": "code",
   "execution_count": null,
   "metadata": {},
   "outputs": [],
   "source": [
    "x = ['Larry Page', 'Bill Gates', 'Mark Zuckerberg', 'Jeff Bezos']\n"
   ]
  },
  {
   "cell_type": "code",
   "execution_count": null,
   "metadata": {},
   "outputs": [],
   "source": []
  },
  {
   "cell_type": "markdown",
   "metadata": {},
   "source": [
    "`Strings.` Use bracket notation to `slice` a string."
   ]
  },
  {
   "cell_type": "code",
   "execution_count": null,
   "metadata": {},
   "outputs": [],
   "source": [
    "x = 'This is a string'\n",
    "print(x[0]) #first character\n",
    "print(x[0:1]) #first character, but we have explicitly set the end character\n",
    "print(x[0:2]) #first two characters\n"
   ]
  },
  {
   "cell_type": "markdown",
   "metadata": {},
   "source": [
    "<br>\n",
    "This will return the last element of the string."
   ]
  },
  {
   "cell_type": "code",
   "execution_count": null,
   "metadata": {},
   "outputs": [],
   "source": [
    "x[-1]"
   ]
  },
  {
   "cell_type": "markdown",
   "metadata": {},
   "source": [
    "<br>\n",
    "This will return the slice starting from the 4th element from the end and stopping before the 2nd element from the end."
   ]
  },
  {
   "cell_type": "code",
   "execution_count": null,
   "metadata": {},
   "outputs": [],
   "source": [
    "x[-4:-2]"
   ]
  },
  {
   "cell_type": "markdown",
   "metadata": {},
   "source": [
    "<br>\n",
    "This is a slice from the beginning of the string and stopping before the 3rd element."
   ]
  },
  {
   "cell_type": "code",
   "execution_count": null,
   "metadata": {},
   "outputs": [],
   "source": [
    "x[:3]"
   ]
  },
  {
   "cell_type": "markdown",
   "metadata": {},
   "source": [
    "<br>\n",
    "And this is a slice starting from the 3rd element of the string and going all the way to the end."
   ]
  },
  {
   "cell_type": "code",
   "execution_count": null,
   "metadata": {},
   "outputs": [],
   "source": [
    "x[3:]"
   ]
  },
  {
   "cell_type": "markdown",
   "metadata": {},
   "source": [
    "Different ways of printing a string."
   ]
  },
  {
   "cell_type": "code",
   "execution_count": null,
   "metadata": {},
   "outputs": [],
   "source": [
    "firstname = 'Sergey'\n",
    "lastname = 'Brin'\n",
    "\n",
    "print(firstname + ' ' + lastname)\n",
    "print(firstname, lastname)\n",
    "print(lastname, firstname, sep=',')\n",
    "print(firstname*5)\n",
    "print('Larry' in firstname)\n",
    "print('Sergey' in firstname)"
   ]
  },
  {
   "cell_type": "markdown",
   "metadata": {},
   "source": [
    "<br>\n",
    "`split` returns a list of all the words in a string, or a list split on a specific character."
   ]
  },
  {
   "cell_type": "code",
   "execution_count": null,
   "metadata": {},
   "outputs": [],
   "source": [
    "firstname = 'William Henry Gates III'.split(' ')[0] # [0] selects the first element of the list\n",
    "lastname = 'William Henry Gates III'.split(' ')[-2] # [-1] selects the last element of the list\n",
    "print(firstname)\n",
    "print(lastname)"
   ]
  },
  {
   "cell_type": "markdown",
   "metadata": {},
   "source": [
    "<br>\n",
    "Make sure you convert objects to strings before concatenating. Note: TypeError expected."
   ]
  },
  {
   "cell_type": "code",
   "execution_count": null,
   "metadata": {},
   "outputs": [],
   "source": [
    "'Bill' + 2"
   ]
  },
  {
   "cell_type": "code",
   "execution_count": null,
   "metadata": {},
   "outputs": [],
   "source": [
    "'Bill' + str(2)"
   ]
  },
  {
   "cell_type": "markdown",
   "metadata": {},
   "source": [
    "<br>\n",
    "Dictionaries associate keys with values."
   ]
  },
  {
   "cell_type": "code",
   "execution_count": null,
   "metadata": {},
   "outputs": [],
   "source": [
    "x = {'Larry Page': 'larry@google.com', 'Bill Gates': 'gates@microsoft.com' , 'Mark Zuckerberg': 'zuck@fb.com'}\n",
    "x['Larry Page'] # Retrieve a value by using the indexing operator\n"
   ]
  },
  {
   "cell_type": "code",
   "execution_count": null,
   "metadata": {},
   "outputs": [],
   "source": [
    "x['Jeff Bezos'] = None\n",
    "x['Jeff Bezos']"
   ]
  },
  {
   "cell_type": "code",
   "execution_count": null,
   "metadata": {},
   "outputs": [],
   "source": [
    "x['Jeff Bezos'] = 'drevil@amazon.com'\n",
    "x['Jeff Bezos']"
   ]
  },
  {
   "cell_type": "markdown",
   "metadata": {},
   "source": [
    "Iterate over all of the keys:"
   ]
  },
  {
   "cell_type": "code",
   "execution_count": null,
   "metadata": {
    "scrolled": true
   },
   "outputs": [],
   "source": [
    "for name in x:\n",
    "    print(x[name])"
   ]
  },
  {
   "cell_type": "markdown",
   "metadata": {},
   "source": [
    "\n",
    "Iterate over all of the values:"
   ]
  },
  {
   "cell_type": "code",
   "execution_count": null,
   "metadata": {},
   "outputs": [],
   "source": [
    "for email in x.values():\n",
    "    print(email)"
   ]
  },
  {
   "cell_type": "markdown",
   "metadata": {},
   "source": [
    "Iterate over all of the (key, value) items:"
   ]
  },
  {
   "cell_type": "code",
   "execution_count": null,
   "metadata": {},
   "outputs": [],
   "source": [
    "for name, email in x.items():\n",
    "    print(name)\n",
    "    print(email)"
   ]
  },
  {
   "cell_type": "markdown",
   "metadata": {},
   "source": [
    "You can unpack a sequence into different variables:"
   ]
  },
  {
   "cell_type": "code",
   "execution_count": null,
   "metadata": {},
   "outputs": [],
   "source": [
    "x = ('Bill', 'Gates', 'gates@gmail.com')\n",
    "fname, lname, email = x"
   ]
  },
  {
   "cell_type": "code",
   "execution_count": null,
   "metadata": {},
   "outputs": [],
   "source": [
    "fname"
   ]
  },
  {
   "cell_type": "code",
   "execution_count": null,
   "metadata": {},
   "outputs": [],
   "source": [
    "lname"
   ]
  },
  {
   "cell_type": "markdown",
   "metadata": {},
   "source": [
    "Make sure the number of values you are unpacking matches the number of variables being assigned."
   ]
  },
  {
   "cell_type": "code",
   "execution_count": null,
   "metadata": {},
   "outputs": [],
   "source": [
    "x = ('Bill', 'Gates', 'gates@gmail.com', 'billy@msoe.edu')\n",
    "fname, lname, email = x"
   ]
  },
  {
   "cell_type": "markdown",
   "metadata": {},
   "source": [
    "#### String format"
   ]
  },
  {
   "cell_type": "markdown",
   "metadata": {},
   "source": [
    "Python has a built in method for convenient string formatting."
   ]
  },
  {
   "cell_type": "code",
   "execution_count": null,
   "metadata": {},
   "outputs": [],
   "source": [
    "sales_record = {\n",
    "'price': 3.24,\n",
    "'num_items': 4,\n",
    "'person': 'Jay'}\n",
    "\n",
    "print(sales_record['num_items'])\n",
    "\n",
    "sales_statement = '{} bought {} item(s) at a price of {} each for a total of {}'\n",
    "\n",
    "print(sales_statement.format(sales_record['person'],\n",
    "                             sales_record['num_items'],\n",
    "                             sales_record['price'],\n",
    "                             sales_record['num_items']*sales_record['price']))\n"
   ]
  },
  {
   "cell_type": "markdown",
   "metadata": {},
   "source": [
    ">**Question**: \n",
    "\n",
    "Uses the sales_record dictionary above, print out the average price per item cost for user Jay as shown in the output of the solution cell below:\n",
    "\n",
    "Reference:  \n",
    "https://docs.python.org/3/library/string.html#format-specification-mini-language"
   ]
  },
  {
   "cell_type": "code",
   "execution_count": null,
   "metadata": {},
   "outputs": [],
   "source": [
    "# Your answer here\n",
    "\n"
   ]
  },
  {
   "cell_type": "code",
   "execution_count": null,
   "metadata": {},
   "outputs": [],
   "source": []
  },
  {
   "cell_type": "markdown",
   "metadata": {},
   "source": [
    "#### Partial list of debugging commands\n",
    "\n",
    "There are many more available commands for interactive debugging than we've listed here; the following table contains a description of some of the more common and useful ones:\n",
    "\n",
    "| Command         |  Description                                                |\n",
    "|-----------------|-------------------------------------------------------------|\n",
    "| ``list``        | Show the current location in the file                       |\n",
    "| ``h(elp)``      | Show a list of commands, or find help on a specific command |\n",
    "| ``q(uit)``      | Quit the debugger and the program                           |\n",
    "| ``c(ontinue)``  | Quit the debugger, continue in the program                  |\n",
    "| ``n(ext)``      | Go to the next step of the program                          |\n",
    "| ``<enter>``     | Repeat the previous command                                 |\n",
    "| ``p(rint)``     | Print variables   "
   ]
  },
  {
   "cell_type": "code",
   "execution_count": null,
   "metadata": {},
   "outputs": [],
   "source": [
    "def funky(a, b):\n",
    "    return a / b\n",
    "\n",
    "funky(5,0)"
   ]
  },
  {
   "cell_type": "code",
   "execution_count": null,
   "metadata": {},
   "outputs": [],
   "source": [
    "%xmode plain"
   ]
  },
  {
   "cell_type": "code",
   "execution_count": null,
   "metadata": {},
   "outputs": [],
   "source": [
    "funky(5,0)"
   ]
  },
  {
   "cell_type": "code",
   "execution_count": null,
   "metadata": {},
   "outputs": [],
   "source": [
    "%xmode verbose"
   ]
  },
  {
   "cell_type": "code",
   "execution_count": null,
   "metadata": {},
   "outputs": [],
   "source": [
    "funky(5,0)"
   ]
  },
  {
   "cell_type": "code",
   "execution_count": null,
   "metadata": {},
   "outputs": [],
   "source": [
    "%debug"
   ]
  },
  {
   "cell_type": "code",
   "execution_count": null,
   "metadata": {},
   "outputs": [],
   "source": []
  }
 ],
 "metadata": {
  "kernelspec": {
   "display_name": "Python 3",
   "language": "python",
   "name": "python3"
  },
  "language_info": {
   "codemirror_mode": {
    "name": "ipython",
    "version": 3
   },
   "file_extension": ".py",
   "mimetype": "text/x-python",
   "name": "python",
   "nbconvert_exporter": "python",
   "pygments_lexer": "ipython3",
   "version": "3.7.3"
  }
 },
 "nbformat": 4,
 "nbformat_minor": 1
}
