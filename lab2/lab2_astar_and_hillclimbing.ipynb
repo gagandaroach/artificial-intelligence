{
 "cells": [
  {
   "cell_type": "code",
   "execution_count": null,
   "metadata": {},
   "outputs": [],
   "source": [
    "# %load 8_puzzle_game.py\n",
    "\"\"\"\n",
    "Artifical Intelligence - MSOE\n",
    "Author - Gagan Daroach <gagandaroach@gmail.com>\n",
    "April 26 2019\n",
    "\n",
    "An implementation of the Puzzle8 Game. \n",
    "This file is part of my coursework during my undergrad at Milwaukee School of Engineering.\n",
    "The purpose of this file is to be used as a illustration and learning tool\n",
    "    for the hill climbing and a* search techniques with different heuristics.\n",
    "\"\"\"\n",
    "\n",
    "import numpy as np\n",
    "import random\n",
    "import pprint as pp\n",
    "from enum import Enum, auto\n",
    "\n",
    "\n",
    "class Direction(Enum):\n",
    "    RIGHT = auto()\n",
    "    LEFT = auto()\n",
    "    DOWN = auto()\n",
    "    UP = auto()\n",
    "\n",
    "\n",
    "class Puzzle8:\n",
    "    \"\"\"\n",
    "    Position Locations\n",
    "    [ [0. 1. 2.]\n",
    "      [3. 4. 5.]\n",
    "      [6. 7. 8.] ]\n",
    "    \"\"\"\n",
    "    def __init__(self, pattern = \"012345678\"):\n",
    "        self.grid = self.emptyGrid()\n",
    "        self.load_pattern(pattern)\n",
    "\n",
    "    def emptyGrid(self):\n",
    "        return np.zeros((3, 3))\n",
    "\n",
    "    def load_pattern(self, pattern):\n",
    "        \"\"\"pattern format: 012345678\"\"\"\n",
    "        if len(pattern) != 9:\n",
    "            print(\"Error - Pattern %s was not the correct length.\" % pattern)\n",
    "        else:\n",
    "            for pos in range(9):\n",
    "                self.set_tile_at(pos, pattern[pos])\n",
    "\n",
    "    def dump_pattern(self):\n",
    "        pattern = \"\"\n",
    "        for index in range(9):\n",
    "            pattern += str(int(self.get_tile_at(index)))\n",
    "        return pattern\n",
    "\n",
    "    def __str__(self):\n",
    "        return ' Grid Printout:\\n' + str(self.grid)\n",
    "\n",
    "    def swap_tiles(self, pos1, pos2):\n",
    "        \"\"\"swaps the values of two tiles\"\"\"\n",
    "        temp = self.get_tile_at(pos1)\n",
    "        self.set_tile_at(pos1, self.get_tile_at(pos2))\n",
    "        self.set_tile_at(pos2, temp)\n",
    "\n",
    "    def get_tile_at(self, pos):\n",
    "        coordinates = self.pos_to_coordinate(pos)\n",
    "        return int(self.grid[coordinates[1]][coordinates[0]])\n",
    "\n",
    "    def set_tile_at(self, pos, val):\n",
    "        coordinates = self.pos_to_coordinate(pos)\n",
    "        self.grid[coordinates[1]][coordinates[0]] = val\n",
    "\n",
    "    def pos_to_coordinate(self, pos):\n",
    "        y = self.pos_row(pos)\n",
    "        x = self.pos_col(pos)\n",
    "        return (x, y)\n",
    "\n",
    "    def pos_row(self, pos):\n",
    "        return pos // 3\n",
    "\n",
    "    def pos_col(self, pos):\n",
    "        return pos % 3\n",
    "\n",
    "    def find_missing_tile(self):\n",
    "        return self.find_tile(0)\n",
    "\n",
    "    def find_tile(self, val):\n",
    "        for pos in range(9):\n",
    "            looking_at = self.get_tile_at(pos)\n",
    "            if looking_at == val:\n",
    "                return pos\n",
    "        return None\n",
    "\n",
    "    def move_missing_tile(self, direction):\n",
    "        pos = self.find_missing_tile()\n",
    "\n",
    "        if direction == Direction.UP:\n",
    "            if (self.pos_row(pos) == 0):\n",
    "                return False\n",
    "            else:\n",
    "                self.swap_tiles(pos, pos - 3)\n",
    "                return True\n",
    "        elif direction == Direction.RIGHT:\n",
    "            if (self.pos_col(pos) == 2):\n",
    "                return False\n",
    "            else:\n",
    "                self.swap_tiles(pos, pos + 1)\n",
    "                return True\n",
    "        elif direction == Direction.LEFT:\n",
    "            if (self.pos_col(pos) == 0):\n",
    "                return False\n",
    "            else:\n",
    "                self.swap_tiles(pos, pos - 1)\n",
    "                return True\n",
    "        else:\n",
    "            if (self.pos_row(pos) == 2):\n",
    "                return False\n",
    "            else:\n",
    "                self.swap_tiles(pos, pos + 3)\n",
    "                return True\n",
    "\n",
    "    def randomize_puzzle(self, num_random_moves = 15, debug = False):\n",
    "        count = 0\n",
    "        while count < num_random_moves:\n",
    "            random_direction = random.choice(list(Direction))\n",
    "            if (self.move_missing_tile(random_direction)):\n",
    "                if debug: print(self)\n",
    "                count += 1\n",
    "\n",
    "    def calculate_misplaced_tiles(self, solution_pattern, debug = False):\n",
    "        num_correct = 0\n",
    "        for pos in range(9):\n",
    "            if int(self.get_tile_at(pos)) == int(solution_pattern[pos]):\n",
    "                if debug: print(solution_pattern[pos], self.get_tile_at(pos))\n",
    "                num_correct += 1\n",
    "        return 9 - num_correct\n",
    "\n",
    "    def calculate_manhattan_distance(self, solution_pattern, debug = False):\n",
    "        man_distance = 0\n",
    "        for pos in range(9):\n",
    "            my_tile = int(self.get_tile_at(pos))\n",
    "            sol_tile = int(solution_pattern[pos])\n",
    "            my_pos = self.find_tile(my_tile)\n",
    "            sol_pos = self.find_tile(sol_tile)\n",
    "            distance = self.pos_distance(my_pos, sol_pos)\n",
    "            man_distance += distance\n",
    "        return man_distance\n",
    "\n",
    "    def pos_distance(self, pos1, pos2):\n",
    "        coord1 = self.pos_to_coordinate(pos1)\n",
    "        coord2 = self.pos_to_coordinate(pos2)\n",
    "        deltaX = abs(coord1[0] - coord2[0])\n",
    "        deltaY = abs(coord1[1] - coord2[1])\n",
    "        return deltaX + deltaY\n",
    "\n",
    "# end of class, start of my tests\n",
    "# used during development to see if stuff was working right\n",
    "\n",
    "def calculate_manhattan_distance_test():\n",
    "    puzzle = Puzzle8()\n",
    "    print('should be 0: ', puzzle.calculate_manhattan_distance(\"012345678\", True))\n",
    "    print('should be something: ', puzzle.calculate_manhattan_distance(\"876543210\", True))\n",
    "    print('should be something smaller; ', puzzle.calculate_manhattan_distance(\"012348765\", True))\n",
    "\n",
    "def calculate_misplaced_tiles_test():\n",
    "    puzzle = Puzzle8()\n",
    "    print('should be 0: ', puzzle.calculate_misplaced_tiles(\"012345678\", True))\n",
    "    print('should be 8: ', puzzle.calculate_misplaced_tiles(\"876543210\", True))\n",
    "    print('should be half; ', puzzle.calculate_misplaced_tiles(\"012348765\", True))\n",
    "\n",
    "\n",
    "def dump_pattern_test():\n",
    "    puzzle = Puzzle8()\n",
    "    print(puzzle.dump_pattern(), True)\n",
    "\n",
    "def move_test():\n",
    "    puzzle = Puzzle8()\n",
    "    print(puzzle.move_missing_tile(Direction.RIGHT))\n",
    "    print(puzzle)\n",
    "    print(puzzle.move_missing_tile(Direction.RIGHT))\n",
    "    print(puzzle.move_missing_tile(Direction.RIGHT))\n",
    "    print(puzzle.move_missing_tile(Direction.DOWN))\n",
    "    print(puzzle)\n",
    "\n",
    "def swap_test():\n",
    "    puzzle = Puzzle8()\n",
    "    puzzle.swap_tiles(0, 8)\n",
    "    puzzle.swap_tiles(0, 3)\n",
    "    puzzle.swap_tiles(8, 4)\n",
    "    print(puzzle)\n",
    "    print(puzzle.find_missing_tile())\n",
    "    print(puzzle.find_missing_tile() == 4)\n",
    "\n",
    "def load_pattern_test():\n",
    "    puzzle = Puzzle8()\n",
    "    pattern = \"158764302\"\n",
    "    puzzle.load_pattern(pattern)\n",
    "    print(pattern, puzzle)\n",
    "\n",
    "def randomize_test():\n",
    "    puzzle = Puzzle8()\n",
    "    puzzle.randomize_puzzle()\n",
    "    print(puzzle)\n",
    "\n",
    "if __name__ == \"__main__\":\n",
    "    calculate_manhattan_distance_test()"
   ]
  },
  {
   "cell_type": "code",
   "execution_count": 2,
   "metadata": {},
   "outputs": [
    {
     "data": {
      "text/plain": [
       "'632715408'"
      ]
     },
     "execution_count": 2,
     "metadata": {},
     "output_type": "execute_result"
    }
   ],
   "source": [
    "puzzle = Puzzle8()\n",
    "puzzle.randomize_puzzle()\n",
    "puzzle.dump_pattern()"
   ]
  },
  {
   "cell_type": "code",
   "execution_count": 3,
   "metadata": {},
   "outputs": [
    {
     "name": "stdout",
     "output_type": "stream",
     "text": [
      "632715408\n"
     ]
    }
   ],
   "source": [
    "pattern = _\n",
    "print(pattern)"
   ]
  },
  {
   "cell_type": "markdown",
   "metadata": {},
   "source": [
    "```\n",
    "Discrete Space Hill Climbing Algorithm\n",
    "   currentNode = startNode;\n",
    "   loop do\n",
    "      L = NEIGHBORS(currentNode);\n",
    "      nextEval = -INF;\n",
    "      nextNode = NULL;\n",
    "      for all x in L \n",
    "         if (EVAL(x) > nextEval)\n",
    "              nextNode = x;\n",
    "              nextEval = EVAL(x);\n",
    "      if nextEval <= EVAL(currentNode)\n",
    "         //Return current node since no better neighbors exist\n",
    "         return currentNode;\n",
    "      currentNode = nextNode;\n",
    "```"
   ]
  },
  {
   "cell_type": "code",
   "execution_count": 4,
   "metadata": {},
   "outputs": [],
   "source": [
    "def calculate_possible_heuristics(current_pattern, solution_pattern):\n",
    "    heuristics = {}\n",
    "    for enum in Direction:\n",
    "        duplicate = Puzzle8(current_pattern)\n",
    "        if duplicate.move_missing_tile(enum):\n",
    "            heuristic_value = duplicate.calculate_misplaced_tiles(solution_pattern)\n",
    "        else:\n",
    "            heuristic_value = 4200 #arbitrarily set to high value bc illegal move.\n",
    "        heuristics[enum] = heuristic_value\n",
    "    return heuristics"
   ]
  },
  {
   "cell_type": "code",
   "execution_count": 5,
   "metadata": {},
   "outputs": [
    {
     "data": {
      "text/plain": [
       "{<Direction.RIGHT: 1>: 2,\n",
       " <Direction.LEFT: 2>: 4200,\n",
       " <Direction.DOWN: 3>: 2,\n",
       " <Direction.UP: 4>: 4200}"
      ]
     },
     "execution_count": 5,
     "metadata": {},
     "output_type": "execute_result"
    }
   ],
   "source": [
    "calculate_possible_heuristics(\"012345678\", \"012345678\")"
   ]
  },
  {
   "cell_type": "code",
   "execution_count": 6,
   "metadata": {},
   "outputs": [],
   "source": [
    "def determine_best_possible_heuristic(heuristics):\n",
    "    lowest_enum_value = 100000\n",
    "    best_heuristic = None\n",
    "    for enum in Direction:\n",
    "        if heuristics[enum] < lowest_enum_value:\n",
    "            best_heuristic = enum\n",
    "            lowest_enum_value = heuristics[enum]\n",
    "    return best_heuristic"
   ]
  },
  {
   "cell_type": "code",
   "execution_count": 7,
   "metadata": {},
   "outputs": [
    {
     "data": {
      "text/plain": [
       "<Direction.RIGHT: 1>"
      ]
     },
     "execution_count": 7,
     "metadata": {},
     "output_type": "execute_result"
    }
   ],
   "source": [
    "poss_heuristics = calculate_possible_heuristics(\"012345678\", \"012345678\")\n",
    "determine_best_possible_heuristic(poss_heuristics)"
   ]
  },
  {
   "cell_type": "code",
   "execution_count": 8,
   "metadata": {},
   "outputs": [],
   "source": [
    "def climb_that_hill(init_pattern, sol_pattern = \"012345678\", max_moves = 100):\n",
    "    print(\"Hill Climb Search:\\n\\tinit pattern: %s\\n\\ttarget pattern: %s\" % (init_pattern, sol_pattern))\n",
    "    heuristic = 1\n",
    "    num_moves = 0\n",
    "    current_pattern = init_pattern\n",
    "    while heuristic != 0 and num_moves < max_moves:\n",
    "        poss_heuristics = calculate_possible_heuristics(current_pattern, sol_pattern)\n",
    "        enum_best_move = determine_best_possible_heuristic(poss_heuristics)\n",
    "        puzzle = Puzzle8(current_pattern)\n",
    "        puzzle.move_missing_tile(enum_best_move)\n",
    "        heuristic = puzzle.calculate_misplaced_tiles(sol_pattern)\n",
    "        current_pattern = puzzle.dump_pattern()\n",
    "        num_moves += 1\n",
    "    return num_moves\n",
    "        "
   ]
  },
  {
   "cell_type": "code",
   "execution_count": 9,
   "metadata": {},
   "outputs": [
    {
     "name": "stdout",
     "output_type": "stream",
     "text": [
      "Hill Climb Search:\n",
      "\tinit pattern: 632715408\n",
      "\ttarget pattern: 012345678\n"
     ]
    },
    {
     "data": {
      "text/plain": [
       "100"
      ]
     },
     "execution_count": 9,
     "metadata": {},
     "output_type": "execute_result"
    }
   ],
   "source": [
    "climb_that_hill(pattern)"
   ]
  },
  {
   "cell_type": "code",
   "execution_count": 10,
   "metadata": {},
   "outputs": [],
   "source": [
    "puzzle2 = Puzzle8()"
   ]
  },
  {
   "cell_type": "code",
   "execution_count": 11,
   "metadata": {},
   "outputs": [],
   "source": [
    "puzzle2.randomize_puzzle(150)"
   ]
  },
  {
   "cell_type": "code",
   "execution_count": 12,
   "metadata": {
    "scrolled": true
   },
   "outputs": [
    {
     "data": {
      "text/plain": [
       "'563742018'"
      ]
     },
     "execution_count": 12,
     "metadata": {},
     "output_type": "execute_result"
    }
   ],
   "source": [
    "puzzle2.dump_pattern()"
   ]
  },
  {
   "cell_type": "code",
   "execution_count": 13,
   "metadata": {},
   "outputs": [],
   "source": [
    "pattern_150_random_moves = _"
   ]
  },
  {
   "cell_type": "code",
   "execution_count": 14,
   "metadata": {},
   "outputs": [
    {
     "data": {
      "text/plain": [
       "'563742018'"
      ]
     },
     "execution_count": 14,
     "metadata": {},
     "output_type": "execute_result"
    }
   ],
   "source": [
    "pattern_150_random_moves"
   ]
  },
  {
   "cell_type": "code",
   "execution_count": 15,
   "metadata": {},
   "outputs": [
    {
     "name": "stdout",
     "output_type": "stream",
     "text": [
      "Hill Climb Search:\n",
      "\tinit pattern: 563742018\n",
      "\ttarget pattern: 012345678\n"
     ]
    },
    {
     "data": {
      "text/plain": [
       "100"
      ]
     },
     "execution_count": 15,
     "metadata": {},
     "output_type": "execute_result"
    }
   ],
   "source": [
    "climb_that_hill(pattern_150_random_moves)"
   ]
  },
  {
   "cell_type": "code",
   "execution_count": 16,
   "metadata": {},
   "outputs": [
    {
     "name": "stdout",
     "output_type": "stream",
     "text": [
      "Hill Climb Search:\n",
      "\tinit pattern: 563742018\n",
      "\ttarget pattern: 012345678\n"
     ]
    },
    {
     "data": {
      "text/plain": [
       "250"
      ]
     },
     "execution_count": 16,
     "metadata": {},
     "output_type": "execute_result"
    }
   ],
   "source": [
    "climb_that_hill(pattern_150_random_moves, max_moves=250)"
   ]
  },
  {
   "cell_type": "markdown",
   "metadata": {},
   "source": [
    "## obesrvations -> random hill climbing misplaced tile heuristic\n",
    "\n",
    "* with 15 random moves done to a puzzle, the search strategy was able to find a solution in 5 moves. Looking at the pattern, the tile did not move far from the top left, and the last row of the puzzle was unchanged.\n",
    "\n",
    "* with 150 random moves done to the puzzle, the search strategy was not able to find a solution in 100 moves. I tried upping the number of moves to 250, but the results did not change. My guess is the hill climbing algorithm may have reached a recursive loop."
   ]
  },
  {
   "cell_type": "code",
   "execution_count": 17,
   "metadata": {},
   "outputs": [],
   "source": [
    "def calculate_possible_heuristics_manhattan(current_pattern, solution_pattern):\n",
    "    heuristics = {}\n",
    "    for enum in Direction:\n",
    "        duplicate = Puzzle8(current_pattern)\n",
    "        if duplicate.move_missing_tile(enum):\n",
    "            heuristic_value = duplicate.calculate_manhattan_distance(solution_pattern)\n",
    "        else:\n",
    "            heuristic_value = 4200 #arbitrarily set to high value bc illegal move.\n",
    "        heuristics[enum] = heuristic_value\n",
    "    return heuristics"
   ]
  },
  {
   "cell_type": "code",
   "execution_count": 18,
   "metadata": {},
   "outputs": [
    {
     "data": {
      "text/plain": [
       "{<Direction.RIGHT: 1>: 4200,\n",
       " <Direction.LEFT: 2>: 2,\n",
       " <Direction.DOWN: 3>: 4200,\n",
       " <Direction.UP: 4>: 2}"
      ]
     },
     "execution_count": 18,
     "metadata": {},
     "output_type": "execute_result"
    }
   ],
   "source": [
    "calculate_possible_heuristics_manhattan(\"123456780\",\"123456780\")"
   ]
  },
  {
   "cell_type": "code",
   "execution_count": 19,
   "metadata": {},
   "outputs": [
    {
     "data": {
      "text/plain": [
       "{<Direction.RIGHT: 1>: 24,\n",
       " <Direction.LEFT: 2>: 4200,\n",
       " <Direction.DOWN: 3>: 24,\n",
       " <Direction.UP: 4>: 4200}"
      ]
     },
     "execution_count": 19,
     "metadata": {},
     "output_type": "execute_result"
    }
   ],
   "source": [
    "calculate_possible_heuristics_manhattan(\"087654321\",\"123456780\")"
   ]
  },
  {
   "cell_type": "code",
   "execution_count": 20,
   "metadata": {},
   "outputs": [
    {
     "data": {
      "text/plain": [
       "<Direction.LEFT: 2>"
      ]
     },
     "execution_count": 20,
     "metadata": {},
     "output_type": "execute_result"
    }
   ],
   "source": [
    "determine_best_possible_heuristic(calculate_possible_heuristics_manhattan(\"123456780\",\"012345678\"))"
   ]
  },
  {
   "cell_type": "code",
   "execution_count": 21,
   "metadata": {},
   "outputs": [
    {
     "data": {
      "text/plain": [
       "<Direction.RIGHT: 1>"
      ]
     },
     "execution_count": 21,
     "metadata": {},
     "output_type": "execute_result"
    }
   ],
   "source": [
    "determine_best_possible_heuristic(calculate_possible_heuristics_manhattan(\"012345678\",\"012345678\"))"
   ]
  },
  {
   "cell_type": "code",
   "execution_count": 22,
   "metadata": {},
   "outputs": [
    {
     "data": {
      "text/plain": [
       "<Direction.LEFT: 2>"
      ]
     },
     "execution_count": 22,
     "metadata": {},
     "output_type": "execute_result"
    }
   ],
   "source": [
    "determine_best_possible_heuristic(calculate_possible_heuristics_manhattan(\"210345678\",\"012345678\"))"
   ]
  },
  {
   "cell_type": "code",
   "execution_count": 23,
   "metadata": {},
   "outputs": [],
   "source": [
    "def climb_that_hill_manhattan(init_pattern, sol_pattern = \"012345678\", max_moves = 100):\n",
    "    print(\"Hill Climb Search:\\n\\tinit pattern: %s\\n\\ttarget pattern: %s\" % (init_pattern, sol_pattern))\n",
    "    heuristic = 1\n",
    "    num_moves = 0\n",
    "    current_pattern = init_pattern\n",
    "    while heuristic != 0 and num_moves < max_moves:\n",
    "        if current_pattern == sol_pattern:\n",
    "            return num_moves\n",
    "        poss_heuristics = calculate_possible_heuristics_manhattan(current_pattern, sol_pattern)\n",
    "        enum_best_move = determine_best_possible_heuristic(poss_heuristics)\n",
    "        puzzle = Puzzle8(current_pattern)\n",
    "        puzzle.move_missing_tile(enum_best_move)\n",
    "        heuristic = puzzle.calculate_manhattan_distance(sol_pattern)\n",
    "        current_pattern = puzzle.dump_pattern()\n",
    "        num_moves += 1\n",
    "    return num_moves"
   ]
  },
  {
   "cell_type": "code",
   "execution_count": 24,
   "metadata": {},
   "outputs": [
    {
     "name": "stdout",
     "output_type": "stream",
     "text": [
      "Hill Climb Search:\n",
      "\tinit pattern: 632715408\n",
      "\ttarget pattern: 012345678\n"
     ]
    },
    {
     "data": {
      "text/plain": [
       "100"
      ]
     },
     "execution_count": 24,
     "metadata": {},
     "output_type": "execute_result"
    }
   ],
   "source": [
    "climb_that_hill_manhattan(pattern)"
   ]
  },
  {
   "cell_type": "code",
   "execution_count": 25,
   "metadata": {},
   "outputs": [
    {
     "name": "stdout",
     "output_type": "stream",
     "text": [
      "Hill Climb Search:\n",
      "\tinit pattern: 012345678\n",
      "\ttarget pattern: 012345678\n"
     ]
    },
    {
     "data": {
      "text/plain": [
       "0"
      ]
     },
     "execution_count": 25,
     "metadata": {},
     "output_type": "execute_result"
    }
   ],
   "source": [
    "climb_that_hill_manhattan(\"012345678\")"
   ]
  },
  {
   "cell_type": "code",
   "execution_count": 26,
   "metadata": {},
   "outputs": [
    {
     "name": "stdout",
     "output_type": "stream",
     "text": [
      "Hill Climb Search:\n",
      "\tinit pattern: 563742018\n",
      "\ttarget pattern: 012345678\n"
     ]
    },
    {
     "data": {
      "text/plain": [
       "250"
      ]
     },
     "execution_count": 26,
     "metadata": {},
     "output_type": "execute_result"
    }
   ],
   "source": [
    "climb_that_hill_manhattan(pattern_150_random_moves, max_moves=250)"
   ]
  },
  {
   "cell_type": "code",
   "execution_count": 27,
   "metadata": {
    "scrolled": true
   },
   "outputs": [
    {
     "name": "stdout",
     "output_type": "stream",
     "text": [
      "Hill Climb Search:\n",
      "\tinit pattern: 563742018\n",
      "\ttarget pattern: 012345678\n"
     ]
    },
    {
     "data": {
      "text/plain": [
       "100"
      ]
     },
     "execution_count": 27,
     "metadata": {},
     "output_type": "execute_result"
    }
   ],
   "source": [
    "climb_that_hill_manhattan(pattern_150_random_moves)"
   ]
  },
  {
   "cell_type": "code",
   "execution_count": 28,
   "metadata": {},
   "outputs": [
    {
     "name": "stdout",
     "output_type": "stream",
     "text": [
      "Hill Climb Search:\n",
      "\tinit pattern: 563742018\n",
      "\ttarget pattern: 012345678\n"
     ]
    },
    {
     "data": {
      "text/plain": [
       "100"
      ]
     },
     "execution_count": 28,
     "metadata": {},
     "output_type": "execute_result"
    }
   ],
   "source": [
    "puzzle3 = Puzzle8()\n",
    "puzzle3.randomize_puzzle(15)\n",
    "climb_that_hill_manhattan(pattern_150_random_moves)"
   ]
  },
  {
   "cell_type": "code",
   "execution_count": null,
   "metadata": {},
   "outputs": [],
   "source": []
  }
 ],
 "metadata": {
  "kernelspec": {
   "display_name": "Python 3",
   "language": "python",
   "name": "python3"
  },
  "language_info": {
   "codemirror_mode": {
    "name": "ipython",
    "version": 3
   },
   "file_extension": ".py",
   "mimetype": "text/x-python",
   "name": "python",
   "nbconvert_exporter": "python",
   "pygments_lexer": "ipython3",
   "version": "3.7.3"
  }
 },
 "nbformat": 4,
 "nbformat_minor": 2
}
