{
 "cells": [
  {
   "cell_type": "code",
   "execution_count": 3,
   "metadata": {},
   "outputs": [],
   "source": [
    "# %load 8_puzzle_game.py\n",
    "\"\"\"\n",
    "Artifical Intelligence - MSOE\n",
    "Author - Gagan Daroach <gagandaroach@gmail.com>\n",
    "April 26 2019\n",
    "\n",
    "An implementation of the Puzzle8 Game. \n",
    "This file is part of my coursework during my undergrad at Milwaukee School of Engineering.\n",
    "The purpose of this file is to be used as a illustration and learning tool\n",
    "    for the hill climbing and a* search techniques with different heuristics.\n",
    "\"\"\"\n",
    "\n",
    "import numpy as np\n",
    "import random\n",
    "import pprint as pp\n",
    "from enum import Enum, auto\n",
    "\n",
    "\n",
    "class Direction(Enum):\n",
    "    RIGHT = auto()\n",
    "    LEFT = auto()\n",
    "    DOWN = auto()\n",
    "    UP = auto()\n",
    "\n",
    "\n",
    "class Puzzle8:\n",
    "    \"\"\"\n",
    "    Position Locations\n",
    "    [ [0. 1. 2.]\n",
    "      [3. 4. 5.]\n",
    "      [6. 7. 8.] ]\n",
    "    \"\"\"\n",
    "    def __init__(self, pattern = \"012345678\"):\n",
    "        self.grid = self.emptyGrid()\n",
    "        self.load_pattern(pattern)\n",
    "\n",
    "    def emptyGrid(self):\n",
    "        return np.zeros((3, 3))\n",
    "\n",
    "    def load_pattern(self, pattern):\n",
    "        \"\"\"pattern format: 012345678\"\"\"\n",
    "        if len(pattern) != 9:\n",
    "            print(\"Error - Pattern %s was not the correct length.\" % pattern)\n",
    "        else:\n",
    "            for pos in range(9):\n",
    "                self.set_tile_at(pos, pattern[pos])\n",
    "\n",
    "    def dump_pattern(self):\n",
    "        pattern = \"\"\n",
    "        for index in range(9):\n",
    "            pattern += str(int(self.get_tile_at(index)))\n",
    "        return pattern\n",
    "\n",
    "    def __str__(self):\n",
    "        return ' Grid Printout:\\n' + str(self.grid)\n",
    "\n",
    "    def swap_tiles(self, pos1, pos2):\n",
    "        \"\"\"swaps the values of two tiles\"\"\"\n",
    "        temp = self.get_tile_at(pos1)\n",
    "        self.set_tile_at(pos1, self.get_tile_at(pos2))\n",
    "        self.set_tile_at(pos2, temp)\n",
    "\n",
    "    def get_tile_at(self, pos):\n",
    "        coordinates = self.pos_to_coordinate(pos)\n",
    "        return int(self.grid[coordinates[1]][coordinates[0]])\n",
    "\n",
    "    def set_tile_at(self, pos, val):\n",
    "        coordinates = self.pos_to_coordinate(pos)\n",
    "        self.grid[coordinates[1]][coordinates[0]] = val\n",
    "\n",
    "    def pos_to_coordinate(self, pos):\n",
    "        y = self.pos_row(pos)\n",
    "        x = self.pos_col(pos)\n",
    "        return (x, y)\n",
    "\n",
    "    def pos_row(self, pos):\n",
    "        return pos // 3\n",
    "\n",
    "    def pos_col(self, pos):\n",
    "        return pos % 3\n",
    "\n",
    "    def find_missing_tile(self):\n",
    "        return self.find_tile(0)\n",
    "\n",
    "    def find_tile(self, val):\n",
    "        for pos in range(9):\n",
    "            looking_at = self.get_tile_at(pos)\n",
    "            if looking_at == val:\n",
    "                return pos\n",
    "        return None\n",
    "\n",
    "    def move_missing_tile(self, direction):\n",
    "        pos = self.find_missing_tile()\n",
    "\n",
    "        if direction == Direction.UP:\n",
    "            if (self.pos_row(pos) == 0):\n",
    "                return False\n",
    "            else:\n",
    "                self.swap_tiles(pos, pos - 3)\n",
    "                return True\n",
    "        elif direction == Direction.RIGHT:\n",
    "            if (self.pos_col(pos) == 2):\n",
    "                return False\n",
    "            else:\n",
    "                self.swap_tiles(pos, pos + 1)\n",
    "                return True\n",
    "        elif direction == Direction.LEFT:\n",
    "            if (self.pos_col(pos) == 0):\n",
    "                return False\n",
    "            else:\n",
    "                self.swap_tiles(pos, pos - 1)\n",
    "                return True\n",
    "        else:\n",
    "            if (self.pos_row(pos) == 2):\n",
    "                return False\n",
    "            else:\n",
    "                self.swap_tiles(pos, pos + 3)\n",
    "                return True\n",
    "\n",
    "    def randomize_puzzle(self, num_random_moves = 15, debug = False):\n",
    "        count = 0\n",
    "        while count < num_random_moves:\n",
    "            random_direction = random.choice(list(Direction))\n",
    "            if (self.move_missing_tile(random_direction)):\n",
    "                if debug: print(self)\n",
    "                count += 1\n",
    "\n",
    "    def calculate_misplaced_tiles(self, solution_pattern, debug = False):\n",
    "        num_correct = 0\n",
    "        for pos in range(9):\n",
    "            if int(self.get_tile_at(pos)) == int(solution_pattern[pos]):\n",
    "                if debug: print(solution_pattern[pos], self.get_tile_at(pos))\n",
    "                num_correct += 1\n",
    "        return 9 - num_correct\n",
    "\n",
    "    def calculate_manhattan_distance(self, solution_pattern, debug = False):\n",
    "        man_distance = 0\n",
    "        for pos in range(9):\n",
    "            my_tile = int(self.get_tile_at(pos))\n",
    "            sol_tile = int(solution_pattern[pos])\n",
    "            my_pos = self.find_tile(my_tile)\n",
    "            sol_pos = self.find_tile(sol_tile)\n",
    "            distance = self.pos_distance(my_pos, sol_pos)\n",
    "            man_distance += distance\n",
    "        return man_distance\n",
    "\n",
    "    def pos_distance(self, pos1, pos2):\n",
    "        coord1 = self.pos_to_coordinate(pos1)\n",
    "        coord2 = self.pos_to_coordinate(pos2)\n",
    "        deltaX = abs(coord1[0] - coord2[0])\n",
    "        deltaY = abs(coord1[1] - coord2[1])\n",
    "        return deltaX + deltaY"
   ]
  },
  {
   "cell_type": "code",
   "execution_count": 6,
   "metadata": {},
   "outputs": [
    {
     "data": {
      "text/plain": [
       "'301452678'"
      ]
     },
     "execution_count": 6,
     "metadata": {},
     "output_type": "execute_result"
    }
   ],
   "source": [
    "puzzle = Puzzle8()\n",
    "puzzle.randomize_puzzle()\n",
    "puzzle.dump_pattern()"
   ]
  },
  {
   "cell_type": "code",
   "execution_count": 7,
   "metadata": {},
   "outputs": [
    {
     "name": "stdout",
     "output_type": "stream",
     "text": [
      "301452678\n"
     ]
    }
   ],
   "source": [
    "pattern = _\n",
    "print(pattern)"
   ]
  },
  {
   "cell_type": "markdown",
   "metadata": {},
   "source": [
    "```\n",
    "Discrete Space Hill Climbing Algorithm\n",
    "   currentNode = startNode;\n",
    "   loop do\n",
    "      L = NEIGHBORS(currentNode);\n",
    "      nextEval = -INF;\n",
    "      nextNode = NULL;\n",
    "      for all x in L \n",
    "         if (EVAL(x) > nextEval)\n",
    "              nextNode = x;\n",
    "              nextEval = EVAL(x);\n",
    "      if nextEval <= EVAL(currentNode)\n",
    "         //Return current node since no better neighbors exist\n",
    "         return currentNode;\n",
    "      currentNode = nextNode;\n",
    "```"
   ]
  },
  {
   "cell_type": "code",
   "execution_count": 47,
   "metadata": {},
   "outputs": [],
   "source": [
    "def calculate_possible_heuristics(current_pattern, solution_pattern):\n",
    "    heuristics = {}\n",
    "    for enum in Direction:\n",
    "        duplicate = Puzzle8(current_pattern)\n",
    "        duplicate.move_missing_tile(enum)\n",
    "        heuristic_value = duplicate.calculate_misplaced_tiles(solution_pattern)\n",
    "        heuristics[enum] = heuristic_value\n",
    "    return heuristics"
   ]
  },
  {
   "cell_type": "code",
   "execution_count": 50,
   "metadata": {},
   "outputs": [
    {
     "data": {
      "text/plain": [
       "{<Direction.RIGHT: 1>: 2,\n",
       " <Direction.LEFT: 2>: 0,\n",
       " <Direction.DOWN: 3>: 2,\n",
       " <Direction.UP: 4>: 0}"
      ]
     },
     "execution_count": 50,
     "metadata": {},
     "output_type": "execute_result"
    }
   ],
   "source": [
    "calculate_possible_heuristics(\"012345678\", \"012345678\")"
   ]
  },
  {
   "cell_type": "code",
   "execution_count": 51,
   "metadata": {},
   "outputs": [],
   "source": [
    "def determine_best_possible_heuristic(heuristics):\n",
    "    lowest_enum_value = 100000\n",
    "    best_heuristic = None\n",
    "    for enum in Direction:\n",
    "        if heuristics[enum] < lowest_enum_value:\n",
    "            best_heuristic = enum\n",
    "            lowest_enum_value = heuristics[enum]\n",
    "    return best_heuristic"
   ]
  },
  {
   "cell_type": "code",
   "execution_count": 52,
   "metadata": {},
   "outputs": [
    {
     "data": {
      "text/plain": [
       "<Direction.LEFT: 2>"
      ]
     },
     "execution_count": 52,
     "metadata": {},
     "output_type": "execute_result"
    }
   ],
   "source": [
    "poss_heuristics = calculate_possible_heuristics(\"012345678\", \"012345678\")\n",
    "determine_best_possible_heuristic(poss_heuristics)"
   ]
  },
  {
   "cell_type": "code",
   "execution_count": 57,
   "metadata": {},
   "outputs": [],
   "source": [
    "def climb_that_hill(init_pattern, sol_pattern = \"012345678\", max_moves = 100):\n",
    "    print(\"Hill Climb Search:\\n\\tinit pattern: %s\\n\\ttarget pattern: %s\" % (init_pattern, sol_pattern))\n",
    "    heuristic = 1\n",
    "    num_moves = 0\n",
    "    current_pattern = init_pattern\n",
    "    while heuristic != 0 and num_moves < max_moves:\n",
    "        poss_heuristics = calculate_possible_heuristics(current_pattern, sol_pattern)\n",
    "        enum_best_move = determine_best_possible_heuristic(poss_heuristics)\n",
    "        puzzle = Puzzle8(current_pattern)\n",
    "        puzzle.move_missing_tile(enum_best_move)\n",
    "        heuristic = puzzle.calculate_misplaced_tiles(sol_pattern)\n",
    "        current_pattern = puzzle.dump_pattern()\n",
    "        num_moves += 1\n",
    "    return num_moves\n",
    "        "
   ]
  },
  {
   "cell_type": "code",
   "execution_count": 58,
   "metadata": {},
   "outputs": [
    {
     "name": "stdout",
     "output_type": "stream",
     "text": [
      "Hill Climb Search:\n",
      "\tinit pattern: 301452678\n",
      "\ttarget pattern: 012345678\n"
     ]
    },
    {
     "data": {
      "text/plain": [
       "5"
      ]
     },
     "execution_count": 58,
     "metadata": {},
     "output_type": "execute_result"
    }
   ],
   "source": [
    "climb_that_hill(pattern)"
   ]
  },
  {
   "cell_type": "code",
   "execution_count": null,
   "metadata": {},
   "outputs": [],
   "source": []
  }
 ],
 "metadata": {
  "kernelspec": {
   "display_name": "Python 3",
   "language": "python",
   "name": "python3"
  },
  "language_info": {
   "codemirror_mode": {
    "name": "ipython",
    "version": 3
   },
   "file_extension": ".py",
   "mimetype": "text/x-python",
   "name": "python",
   "nbconvert_exporter": "python",
   "pygments_lexer": "ipython3",
   "version": "3.7.3"
  }
 },
 "nbformat": 4,
 "nbformat_minor": 2
}
